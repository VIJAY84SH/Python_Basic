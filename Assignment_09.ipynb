{
 "cells": [
  {
   "cell_type": "markdown",
   "id": "9d2310ae",
   "metadata": {},
   "source": [
    "# Q.1. To what does a relative path refer?"
   ]
  },
  {
   "cell_type": "markdown",
   "id": "6a82a694",
   "metadata": {},
   "source": [
    "Ans:\n",
    "    \n",
    "    A relative path refers to a location that is relative to a current directory.\n",
    "    \n",
    "    Relative paths are relative to the current working directory. When using relative path, we need to provide the absolute/complete path of file from the root directory.\n",
    "    "
   ]
  },
  {
   "cell_type": "markdown",
   "id": "04a0eb67",
   "metadata": {},
   "source": [
    "# Q. 2. What does an absolute path start with your operating system?"
   ]
  },
  {
   "cell_type": "markdown",
   "id": "75356520",
   "metadata": {},
   "source": [
    "Ans:\n",
    "    \n",
    "    here i am using Windows Operating System, so my absolute path starts with C:\\"
   ]
  },
  {
   "cell_type": "markdown",
   "id": "83de244b",
   "metadata": {},
   "source": [
    "# Q.3. What do the functions os.getcwd() and os.chdir() do?"
   ]
  },
  {
   "cell_type": "markdown",
   "id": "008ae13d",
   "metadata": {},
   "source": [
    "Ans:\n",
    "    \n",
    "    os.getcwd() method tells us the location of current working directory.\n",
    "    \n",
    "    os.chdir() method in Python used to change the current working directory to specified path.\n",
    "    \n",
    "    "
   ]
  },
  {
   "cell_type": "code",
   "execution_count": 3,
   "id": "afe14ec9",
   "metadata": {},
   "outputs": [],
   "source": [
    "import os"
   ]
  },
  {
   "cell_type": "code",
   "execution_count": 4,
   "id": "0e991e95",
   "metadata": {},
   "outputs": [
    {
     "name": "stdout",
     "output_type": "stream",
     "text": [
      "C:\\Users\\vijay\\OneDrive\\Desktop\\Data_Science\\Assignments\\Python Basic Assignment\n"
     ]
    }
   ],
   "source": [
    "print(os.getcwd()) # it prints the current working directory\n"
   ]
  },
  {
   "cell_type": "markdown",
   "id": "30b0c3d3",
   "metadata": {},
   "source": [
    "# Q. 4. What are the . and .. folders?"
   ]
  },
  {
   "cell_type": "markdown",
   "id": "8d7e9260",
   "metadata": {},
   "source": [
    "Ans:\n",
    "    \n",
    "    -  . single dot means the current folder\n",
    "    \n",
    "    -  .. double dot means the parent folder"
   ]
  },
  {
   "cell_type": "markdown",
   "id": "bbac0953",
   "metadata": {},
   "source": [
    "# Q. 5. In C:\\bacon\\eggs\\spam.txt, which part is the dir name, and which part is the base name?"
   ]
  },
  {
   "cell_type": "markdown",
   "id": "90f4ee48",
   "metadata": {},
   "source": [
    "Ans:\n",
    "    \n",
    "    C:\\bacon\\eggs\\spam.txt\n",
    "        \n",
    "        Here dir name is C:\\bacon\\eggs\n",
    "            \n",
    "             base name spam.txt\n",
    "    \n",
    "    "
   ]
  },
  {
   "cell_type": "code",
   "execution_count": 1,
   "id": "595d35d3",
   "metadata": {},
   "outputs": [
    {
     "name": "stdout",
     "output_type": "stream",
     "text": [
      "C:\\bacon\\eggs\n",
      "spam.txt\n"
     ]
    }
   ],
   "source": [
    "import os\n",
    "path = r'C:\\bacon\\eggs\\spam.txt'\n",
    "print(os.path.dirname(path))\n",
    "print(os.path.basename(path))\n"
   ]
  },
  {
   "cell_type": "markdown",
   "id": "a13ad2f9",
   "metadata": {},
   "source": [
    "# Q. 6. What are the three “mode” arguments that can be passed to the open() function?"
   ]
  },
  {
   "cell_type": "markdown",
   "id": "a462ddd7",
   "metadata": {},
   "source": [
    "Ans:\n",
    "\n",
    "    The three mode arguments that can be passed to the open() function are:\n",
    "        \n",
    "    'r' for read the file, read mode\n",
    "    \n",
    "    'w' for write the file , write mode\n",
    "    \n",
    "    'a' for append in the file , append mode\n",
    "    \n",
    "    "
   ]
  },
  {
   "cell_type": "markdown",
   "id": "65ecd250",
   "metadata": {},
   "source": [
    "# Q. 7. What happens if an existing file is opened in write mode?"
   ]
  },
  {
   "cell_type": "markdown",
   "id": "80e9c8b5",
   "metadata": {},
   "source": [
    "Ans:\n",
    "    \n",
    "    Using this mode will overwrite any existing content in a file. If the given file does not exist, a new one will be created."
   ]
  },
  {
   "cell_type": "markdown",
   "id": "1059ebff",
   "metadata": {},
   "source": [
    "# Q. 8. How do you tell the difference between read() and readlines()?"
   ]
  },
  {
   "cell_type": "markdown",
   "id": "6a6c113f",
   "metadata": {},
   "source": [
    "Ans: \n",
    "    \n",
    "    The read() would treat each character in the file separately, iteration would happen for every character.\n",
    "    \n",
    "    The readline() function read line by line, if call once it will read first line of file after that again call then it will read second line just like that\n",
    "    "
   ]
  },
  {
   "cell_type": "markdown",
   "id": "9c26bd63",
   "metadata": {},
   "source": [
    "# Q. 9. What data structure does a shelf value resemble?"
   ]
  },
  {
   "cell_type": "markdown",
   "id": "737f8bfa",
   "metadata": {},
   "source": [
    "Ans:\n",
    "    \n",
    "    A shelf value resembles a dictionary value; it has keys and values, along with keys() and values() methods that work similarly to the dictionary methods of the same names."
   ]
  },
  {
   "cell_type": "code",
   "execution_count": null,
   "id": "35178666",
   "metadata": {},
   "outputs": [],
   "source": []
  }
 ],
 "metadata": {
  "kernelspec": {
   "display_name": "Python 3 (ipykernel)",
   "language": "python",
   "name": "python3"
  },
  "language_info": {
   "codemirror_mode": {
    "name": "ipython",
    "version": 3
   },
   "file_extension": ".py",
   "mimetype": "text/x-python",
   "name": "python",
   "nbconvert_exporter": "python",
   "pygments_lexer": "ipython3",
   "version": "3.9.7"
  }
 },
 "nbformat": 4,
 "nbformat_minor": 5
}
