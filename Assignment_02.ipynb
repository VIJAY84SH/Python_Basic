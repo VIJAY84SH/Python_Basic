{
 "cells": [
  {
   "cell_type": "markdown",
   "id": "07e523e0",
   "metadata": {},
   "source": [
    "# Q.1.What are the two values of the Boolean data type? How do you write them?"
   ]
  },
  {
   "cell_type": "markdown",
   "id": "0599dbae",
   "metadata": {},
   "source": [
    "Answer:\n",
    "       There are two boolean data types that is written as\n",
    "        \n",
    "        1) True = binary value is 1 (condition is true)\n",
    "        2) False = binary value is 0 (condition is false)\n",
    "    "
   ]
  },
  {
   "cell_type": "markdown",
   "id": "ed7fe97c",
   "metadata": {},
   "source": [
    "# Q.2.What are the three different types of Boolean operators?"
   ]
  },
  {
   "cell_type": "markdown",
   "id": "b397a764",
   "metadata": {},
   "source": [
    "Answer:\n",
    "    \n",
    "     There are three types of boolean operators:\n",
    "            \n",
    "    1) AND\n",
    "    \n",
    "    2) OR\n",
    "    \n",
    "    3) NOT"
   ]
  },
  {
   "cell_type": "markdown",
   "id": "c95a0bd3",
   "metadata": {},
   "source": [
    "# Q.3. Make a list of each Boolean operator&#39;s truth tables (i.e. every possible combination of Boolean values for the operator and what it evaluate )."
   ]
  },
  {
   "cell_type": "markdown",
   "id": "be44a340",
   "metadata": {},
   "source": [
    "Answer:\n",
    "    \n",
    "    1) AND (Truth Table): (True = 1, False = 0)\n",
    "    \n",
    "       In AND operator when both are True(1) then only True(1), remaining all False(0)\n",
    "    \n",
    "             x     y     c = x and y\n",
    "\n",
    "             0     0     0\n",
    "             0     1     0\n",
    "             1     0     0\n",
    "             1     1     1\n",
    "    \n",
    "    \n",
    "    2) OR ( Truth Table): (True = 1, False = 0)\n",
    "        \n",
    "        In OR operator when both are False(0) then only False(0) remaining all True(1)\n",
    "        \n",
    "            x      y      c = x or y\n",
    "            \n",
    "            0      0      0\n",
    "            0      1      1\n",
    "            1      0      1\n",
    "            1      1      1\n",
    "            \n",
    "    3) NOT (Truth Table):\n",
    "        \n",
    "        In not operator it give result reverse if it is True(1) it will become False(0) and vice versa\n",
    "        \n",
    "            x     not x\n",
    "            \n",
    "            1       0\n",
    "            \n",
    "            0       1\n",
    "              "
   ]
  },
  {
   "cell_type": "markdown",
   "id": "3083bd0c",
   "metadata": {},
   "source": [
    "# Q.4. What are the values of the following expressions?\n",
    "\n",
    "(5 > 4) and (3 == 5)\n",
    "\n",
    "not(5 > 4)\n",
    "\n",
    "(5 > 4) or (3 == 5)\n",
    "\n",
    "not ((5 > 4) or (3 == 5))\n",
    "\n",
    "(True and True) and (True == False)\n",
    "\n",
    "(not False) or (not True)"
   ]
  },
  {
   "cell_type": "markdown",
   "id": "207d562f",
   "metadata": {},
   "source": [
    "Answer:\n",
    "    \n",
    "(5 > 4) and (3==5):- (True) and (False) = False\n",
    "    \n",
    "    5 is greater than 4 (True)\n",
    "    3 is not equal to 5 (False)\n",
    "    \n",
    "    \n",
    "not(5 > 4):- \n",
    "    \n",
    "    not(True) = False\n",
    "    \n",
    "     5 is greater than 4(True)\n",
    "        \n",
    "        \n",
    "(5 > 4) or (3 == 5):- (True) or (False) = True\n",
    "    \n",
    "     5 is greater than 4( True)\n",
    "     3 is not equal to 5 (False)\n",
    "\n",
    "not((5 > 4) or (3 == 5)):- not( True or False) = not(True) = False\n",
    "    \n",
    "     5 is greater than 4(True)\n",
    "     3 is not equal to 5 (False)\n",
    "    \n",
    "(True and True) and (True == False):- True and False = False\n",
    "    \n",
    "(not False) or (not True):- True or False = True\n",
    "    \n",
    "        \n",
    "        "
   ]
  },
  {
   "cell_type": "code",
   "execution_count": 7,
   "id": "e784d214",
   "metadata": {},
   "outputs": [
    {
     "data": {
      "text/plain": [
       "False"
      ]
     },
     "execution_count": 7,
     "metadata": {},
     "output_type": "execute_result"
    }
   ],
   "source": [
    "(5>4) and (3==5)"
   ]
  },
  {
   "cell_type": "code",
   "execution_count": 8,
   "id": "a009b1f5",
   "metadata": {},
   "outputs": [
    {
     "data": {
      "text/plain": [
       "False"
      ]
     },
     "execution_count": 8,
     "metadata": {},
     "output_type": "execute_result"
    }
   ],
   "source": [
    "not(5>4)"
   ]
  },
  {
   "cell_type": "code",
   "execution_count": 9,
   "id": "2484bc89",
   "metadata": {},
   "outputs": [
    {
     "data": {
      "text/plain": [
       "True"
      ]
     },
     "execution_count": 9,
     "metadata": {},
     "output_type": "execute_result"
    }
   ],
   "source": [
    "(5>4) or (3==5)"
   ]
  },
  {
   "cell_type": "code",
   "execution_count": 10,
   "id": "926c0f83",
   "metadata": {},
   "outputs": [
    {
     "data": {
      "text/plain": [
       "False"
      ]
     },
     "execution_count": 10,
     "metadata": {},
     "output_type": "execute_result"
    }
   ],
   "source": [
    "not((5>4) or (3==5))"
   ]
  },
  {
   "cell_type": "code",
   "execution_count": 11,
   "id": "10a7d4dd",
   "metadata": {},
   "outputs": [
    {
     "data": {
      "text/plain": [
       "False"
      ]
     },
     "execution_count": 11,
     "metadata": {},
     "output_type": "execute_result"
    }
   ],
   "source": [
    "(True and True) and (True == False)"
   ]
  },
  {
   "cell_type": "code",
   "execution_count": 12,
   "id": "d4de2bba",
   "metadata": {},
   "outputs": [
    {
     "data": {
      "text/plain": [
       "True"
      ]
     },
     "execution_count": 12,
     "metadata": {},
     "output_type": "execute_result"
    }
   ],
   "source": [
    "(not False) or (not True)"
   ]
  },
  {
   "cell_type": "markdown",
   "id": "ca0cfe2d",
   "metadata": {},
   "source": [
    "# Q.5.What are the six comparison operators?"
   ]
  },
  {
   "cell_type": "markdown",
   "id": "330af564",
   "metadata": {},
   "source": [
    "Answer:\n",
    "    \n",
    "     There are six comparison operator :\n",
    "            \n",
    "            1) less than              ( < )\n",
    "            2) greater than           ( > )\n",
    "            3) less than or equal to   ( <= )\n",
    "            4) greater than or equal to ( >= )\n",
    "            5) equal to                ( == )\n",
    "            6) not euqal to             ( != )"
   ]
  },
  {
   "cell_type": "markdown",
   "id": "66bcca0a",
   "metadata": {},
   "source": [
    "# Q.6. How do you tell the difference between the equal to and assignment operators?Describe a condition and when you would use one."
   ]
  },
  {
   "cell_type": "markdown",
   "id": "88db11bd",
   "metadata": {},
   "source": [
    "Answer:\n",
    "    \n",
    "Assignmet operator(=):\n",
    "        \n",
    "            it is assigning perticular value to a respected variable.\n",
    "\n",
    "            example: x ,  x = 5\n",
    "            \n",
    "            here x is a empty variable initially,\n",
    "            \n",
    "            when x = 5 means we assign value 5 to variable x by using assignment operator(=)\n",
    "       \n",
    "Equal to operator(==):\n",
    "        \n",
    "        it is a relational operator, it showing relation of left side and right side\n",
    "        \n",
    "        if both side are same. it will return True and remains condition it will False."
   ]
  },
  {
   "cell_type": "markdown",
   "id": "a4a1f821",
   "metadata": {},
   "source": [
    "# Q.7. Identify the three blocks in this code:"
   ]
  },
  {
   "cell_type": "markdown",
   "id": "3949abed",
   "metadata": {},
   "source": [
    "spam = 0\n",
    "\n",
    "if spam == 10:\n",
    "    \n",
    "print('eggs')\n",
    "\n",
    "if spam > 5:\n",
    "    \n",
    "print('bacon')\n",
    "\n",
    "else:\n",
    "\n",
    "print('ham')\n",
    "\n",
    "print('spam')\n",
    "\n",
    "print('spam')"
   ]
  },
  {
   "cell_type": "markdown",
   "id": "86986769",
   "metadata": {},
   "source": [
    "Answer:\n",
    "    \n",
    "     There are three blocks:\n",
    "            \n",
    "            two blocks are if block, checking condition and return result based on that\n",
    "        \n",
    "            And one is else block, this block will run when both if blocks are False"
   ]
  },
  {
   "cell_type": "code",
   "execution_count": 13,
   "id": "af0da9be",
   "metadata": {},
   "outputs": [
    {
     "name": "stdout",
     "output_type": "stream",
     "text": [
      "ham\n",
      "spam\n",
      "spam\n"
     ]
    }
   ],
   "source": [
    "spam = 0\n",
    "if spam == 10:\n",
    "    print('eggs')\n",
    "if spam > 5:\n",
    "    print('bacon')\n",
    "else:\n",
    "    print('ham')\n",
    "    print('spam')\n",
    "    print('spam')"
   ]
  },
  {
   "cell_type": "markdown",
   "id": "ded8bda3",
   "metadata": {},
   "source": [
    "# Q.8.Write code that prints Hello if 1 is stored in spam, prints Howdy if 2 is stored in spam, and prints Greetings! if anything else is stored in spam."
   ]
  },
  {
   "cell_type": "code",
   "execution_count": 6,
   "id": "19174b10",
   "metadata": {},
   "outputs": [
    {
     "name": "stdout",
     "output_type": "stream",
     "text": [
      "enter anything : 3\n",
      "Greetings!\n"
     ]
    }
   ],
   "source": [
    "spam = int(input('enter anything : '))\n",
    "if spam == 1:\n",
    "    print('Hello')\n",
    "elif spam ==2:\n",
    "    print('howdy')\n",
    "else:\n",
    "    print('Greetings!')"
   ]
  },
  {
   "cell_type": "markdown",
   "id": "278a204d",
   "metadata": {},
   "source": [
    "# Q.9.If your programme is stuck in an endless loop, what keys you’ll press?"
   ]
  },
  {
   "cell_type": "markdown",
   "id": "e01476fc",
   "metadata": {},
   "source": [
    "Press CTRL + c to exit form infinite loop"
   ]
  },
  {
   "cell_type": "markdown",
   "id": "c222a66c",
   "metadata": {},
   "source": [
    "# Q.10. How can you tell the difference between break and continue?"
   ]
  },
  {
   "cell_type": "markdown",
   "id": "65432cf2",
   "metadata": {},
   "source": [
    "Answer: \n",
    "        main difference is loop terminate \n",
    "    \n",
    "Break:\n",
    "    \n",
    "       The Break is used for terminate the execution of the statements. \n",
    "        \n",
    "        \n",
    "        \n",
    "Continue:\n",
    "    \n",
    "         The continue will terminate only the current iteration of loop\n",
    "        \n",
    "        and it will keep checking when to exit, once condition is satisfied then it will move out\n",
    "    \n",
    "    "
   ]
  },
  {
   "cell_type": "code",
   "execution_count": 15,
   "id": "feb955ca",
   "metadata": {},
   "outputs": [
    {
     "name": "stdout",
     "output_type": "stream",
     "text": [
      "i\n",
      "n\n",
      "e\n"
     ]
    }
   ],
   "source": [
    "# Break Example\n",
    "\n",
    "a = \"ineuron\"\n",
    "for i in a:\n",
    "    if  i == \"u\":\n",
    "        break\n",
    "    print(i)"
   ]
  },
  {
   "cell_type": "code",
   "execution_count": 16,
   "id": "ff510339",
   "metadata": {
    "scrolled": true
   },
   "outputs": [
    {
     "name": "stdout",
     "output_type": "stream",
     "text": [
      "i\n",
      "n\n",
      "e\n",
      "r\n",
      "o\n",
      "n\n"
     ]
    }
   ],
   "source": [
    "# Continue Example:\n",
    "\n",
    "a = \"ineuron\"\n",
    "for i in a:\n",
    "    if i ==\"u\":\n",
    "        continue\n",
    "    print(i)\n"
   ]
  },
  {
   "cell_type": "markdown",
   "id": "31cb30d0",
   "metadata": {},
   "source": [
    "# Q.11. In a for loop, what is the difference between range(10), range(0, 10), and range(0, 10, 1)?"
   ]
  },
  {
   "cell_type": "markdown",
   "id": "8e8a1385",
   "metadata": {},
   "source": [
    "Answer:\n",
    "    \n",
    "    There is no difference between range(10), range(0,10), range(0,10,1)\n",
    "    \n",
    "    range(10) it is starting with initial value 0 and jumping means increment value is also by default 1 \n",
    "    \n",
    "    range(0,10) here initial value is given 0 and increment value is also by default 1 \n",
    "    \n",
    "    range(0,10,1) this is the standard written format \n",
    "    \n",
    "    this all increment value up to n-1, here n is 10"
   ]
  },
  {
   "cell_type": "code",
   "execution_count": 19,
   "id": "2c417c54",
   "metadata": {},
   "outputs": [
    {
     "name": "stdout",
     "output_type": "stream",
     "text": [
      "0\n",
      "1\n",
      "2\n",
      "3\n",
      "4\n",
      "5\n",
      "6\n",
      "7\n",
      "8\n",
      "9\n"
     ]
    }
   ],
   "source": [
    "for i in range(10):\n",
    "    print(i)"
   ]
  },
  {
   "cell_type": "code",
   "execution_count": 20,
   "id": "aea26ba2",
   "metadata": {},
   "outputs": [
    {
     "name": "stdout",
     "output_type": "stream",
     "text": [
      "0\n",
      "1\n",
      "2\n",
      "3\n",
      "4\n",
      "5\n",
      "6\n",
      "7\n",
      "8\n",
      "9\n"
     ]
    }
   ],
   "source": [
    "for i in range(0,10):\n",
    "    print(i)"
   ]
  },
  {
   "cell_type": "code",
   "execution_count": 21,
   "id": "e101e7d3",
   "metadata": {},
   "outputs": [
    {
     "name": "stdout",
     "output_type": "stream",
     "text": [
      "0\n",
      "1\n",
      "2\n",
      "3\n",
      "4\n",
      "5\n",
      "6\n",
      "7\n",
      "8\n",
      "9\n"
     ]
    }
   ],
   "source": [
    "for i in range(0,10,1):\n",
    "    print(i)"
   ]
  },
  {
   "cell_type": "markdown",
   "id": "7c31c02a",
   "metadata": {},
   "source": [
    "# Q.12. Write a short program that prints the numbers 1 to 10 using a for loop. Then write an equivalent program that prints the numbers 1 to 10 using a while loop."
   ]
  },
  {
   "cell_type": "code",
   "execution_count": 22,
   "id": "54e4489a",
   "metadata": {},
   "outputs": [
    {
     "name": "stdout",
     "output_type": "stream",
     "text": [
      "0\n",
      "1\n",
      "2\n",
      "3\n",
      "4\n",
      "5\n",
      "6\n",
      "7\n",
      "8\n",
      "9\n",
      "10\n"
     ]
    }
   ],
   "source": [
    "for i in range(11):\n",
    "    print(i)"
   ]
  },
  {
   "cell_type": "code",
   "execution_count": 1,
   "id": "6071eaf8",
   "metadata": {},
   "outputs": [
    {
     "name": "stdout",
     "output_type": "stream",
     "text": [
      "1\n",
      "2\n",
      "3\n",
      "4\n",
      "5\n",
      "6\n",
      "7\n",
      "8\n",
      "9\n",
      "10\n"
     ]
    }
   ],
   "source": [
    "i=1\n",
    "while i<=10:\n",
    "    print(i)\n",
    "    i = i+1"
   ]
  },
  {
   "cell_type": "markdown",
   "id": "31f9fef8",
   "metadata": {},
   "source": [
    "# Q.13. If you had a function named bacon() inside a module named spam, how would you call it after importing spam?"
   ]
  },
  {
   "cell_type": "markdown",
   "id": "cb588b8b",
   "metadata": {},
   "source": [
    "Answer:\n",
    "    \n",
    "    import spam \n",
    "    spam.bacon()\n",
    "    \n",
    "    or\n",
    "    \n",
    "    from spam import*\n",
    "    bacon()"
   ]
  },
  {
   "cell_type": "code",
   "execution_count": null,
   "id": "f8b3efd2",
   "metadata": {},
   "outputs": [],
   "source": []
  }
 ],
 "metadata": {
  "kernelspec": {
   "display_name": "Python 3 (ipykernel)",
   "language": "python",
   "name": "python3"
  },
  "language_info": {
   "codemirror_mode": {
    "name": "ipython",
    "version": 3
   },
   "file_extension": ".py",
   "mimetype": "text/x-python",
   "name": "python",
   "nbconvert_exporter": "python",
   "pygments_lexer": "ipython3",
   "version": "3.9.7"
  }
 },
 "nbformat": 4,
 "nbformat_minor": 5
}
