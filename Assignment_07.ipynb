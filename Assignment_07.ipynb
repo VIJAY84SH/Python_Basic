{
 "cells": [
  {
   "cell_type": "markdown",
   "id": "891bd8e0",
   "metadata": {},
   "source": [
    "# Q. 1. What is the name of the feature responsible for generating Regex objects?"
   ]
  },
  {
   "cell_type": "markdown",
   "id": "b3dcc687",
   "metadata": {},
   "source": [
    "re.compile()"
   ]
  },
  {
   "cell_type": "markdown",
   "id": "61166e95",
   "metadata": {},
   "source": [
    "# Q. 2. Why do raw strings often appear in Regex objects?"
   ]
  },
  {
   "cell_type": "markdown",
   "id": "16093105",
   "metadata": {},
   "source": [
    "Ans\n",
    "\n",
    "  In regular expression use the backslash character('\\') to indicate special forms (Metacharacters) or to allow special characters to use any purpose\n",
    "  \n",
    "   As shown below example."
   ]
  },
  {
   "cell_type": "code",
   "execution_count": 2,
   "id": "d562a769",
   "metadata": {},
   "outputs": [
    {
     "name": "stdout",
     "output_type": "stream",
     "text": [
      "k \n",
      " vijay\n"
     ]
    }
   ],
   "source": [
    "print(\"k \\n vijay\")"
   ]
  },
  {
   "cell_type": "code",
   "execution_count": 3,
   "id": "00e4a663",
   "metadata": {},
   "outputs": [
    {
     "name": "stdout",
     "output_type": "stream",
     "text": [
      "vijay \\n patil\n"
     ]
    }
   ],
   "source": [
    "print(r\"vijay \\n patil\")"
   ]
  },
  {
   "cell_type": "markdown",
   "id": "a66c14b2",
   "metadata": {},
   "source": [
    "# Q. 3. What is the return value of the search() method?"
   ]
  },
  {
   "cell_type": "markdown",
   "id": "3ceb9f42",
   "metadata": {},
   "source": [
    "Ans:\n",
    "    \n",
    " This method returns \"None\" if the pattern doesnot match or else return match object \n",
    "\n",
    " where that contains informastion about the matching part of the string.\n",
    "    \n",
    "    As example shown below."
   ]
  },
  {
   "cell_type": "code",
   "execution_count": 4,
   "id": "3177eae6",
   "metadata": {},
   "outputs": [],
   "source": [
    "import re"
   ]
  },
  {
   "cell_type": "code",
   "execution_count": 8,
   "id": "fcb3db27",
   "metadata": {},
   "outputs": [
    {
     "name": "stdout",
     "output_type": "stream",
     "text": [
      "output <re.Match object; span=(0, 1), match='v'>\n",
      "output None\n"
     ]
    }
   ],
   "source": [
    "match = re.search('v', 'vijay patil')\n",
    "print('output', match)\n",
    "match = re.search('x', 'vijay patil')\n",
    "print('output',match)"
   ]
  },
  {
   "cell_type": "markdown",
   "id": "927126d9",
   "metadata": {},
   "source": [
    "# Q. 4. From a Match item, how do you get the actual strings that match the pattern?"
   ]
  },
  {
   "cell_type": "markdown",
   "id": "d5710479",
   "metadata": {},
   "source": [
    "Ans\n",
    "\n",
    "group() method returnd the actual string that match the pattern."
   ]
  },
  {
   "cell_type": "code",
   "execution_count": 10,
   "id": "130de2fe",
   "metadata": {},
   "outputs": [
    {
     "name": "stdout",
     "output_type": "stream",
     "text": [
      "output :  v\n"
     ]
    }
   ],
   "source": [
    "match = re.search('v', 'vijay patil')\n",
    "print('output : ', match.group())"
   ]
  },
  {
   "cell_type": "markdown",
   "id": "be89ee8c",
   "metadata": {},
   "source": [
    "# Q.5. In the regex which created from the r'(\\d\\d\\d)-(\\d\\d\\d-\\d\\d\\d\\d)' what does group zero cover? Group 2? Group 1?"
   ]
  },
  {
   "cell_type": "markdown",
   "id": "27ae0f4e",
   "metadata": {},
   "source": [
    "Ans:\n",
    "    \n",
    "    group 0 - (\\d\\d\\d)-(\\d\\d\\d-\\d\\d\\d\\d)\n",
    "    group 1 - (\\d\\d\\d)\n",
    "    group 2 - (\\d\\d\\d-\\d\\d\\d\\d)"
   ]
  },
  {
   "cell_type": "markdown",
   "id": "167f2083",
   "metadata": {},
   "source": [
    "# Q. 6. In standard expression syntax, parentheses and intervals have distinct meanings. How can you tell a regex that you want it to fit real parentheses and periods?"
   ]
  },
  {
   "cell_type": "markdown",
   "id": "b305a9dd",
   "metadata": {},
   "source": [
    "Ans:\n",
    "    \n",
    "    The \\. \\ ( and \\ ) escape characters in the raw string passed to re.compile()"
   ]
  },
  {
   "cell_type": "markdown",
   "id": "62847ce0",
   "metadata": {},
   "source": [
    "# Q. 7. The findall() method returns a string list or a list of string tuples. What causes it to return one of the two options?"
   ]
  },
  {
   "cell_type": "markdown",
   "id": "e0abffe7",
   "metadata": {},
   "source": [
    "Ans:\n",
    "    \n",
    "     If the regex has no groups, a list of strings is returned. if the regex has groups, a list of tuples of strings is returned."
   ]
  },
  {
   "cell_type": "markdown",
   "id": "910be30b",
   "metadata": {},
   "source": [
    "# Q. 8. In standard expressions, what does the | character mean?"
   ]
  },
  {
   "cell_type": "markdown",
   "id": "b8ac7b7b",
   "metadata": {},
   "source": [
    "Ans:\n",
    "    \n",
    "    In standard expressions | means \"Or\" operator."
   ]
  },
  {
   "cell_type": "markdown",
   "id": "5d4c480a",
   "metadata": {},
   "source": [
    "# Q. 9. In regular expressions, what does the character stand for?"
   ]
  },
  {
   "cell_type": "markdown",
   "id": "be03d6df",
   "metadata": {},
   "source": [
    "Ans:\n",
    "    \n",
    "    Zero or one occerences \n",
    "    "
   ]
  },
  {
   "cell_type": "markdown",
   "id": "5d49f3fe",
   "metadata": {},
   "source": [
    "# Q. 10.In regular expressions, what is the difference between the + and * characters?"
   ]
  },
  {
   "cell_type": "markdown",
   "id": "2a8e7d2b",
   "metadata": {},
   "source": [
    "Ans:\n",
    "    \n",
    "    - '+' used for one or more occurences\n",
    "    - '*' used for zero or more occurences"
   ]
  },
  {
   "cell_type": "markdown",
   "id": "90406439",
   "metadata": {},
   "source": [
    "# Q. 11. What is the difference between {4} and {4,5} in regular expression?"
   ]
  },
  {
   "cell_type": "markdown",
   "id": "e2aab732",
   "metadata": {},
   "source": [
    "Ans:\n",
    "    \n",
    "    - {4} it means preceding character is to be repeated 4 times.\n",
    "    - {4,5} it means preceding character is repeated minimum 4 times and maximum 5 times"
   ]
  },
  {
   "cell_type": "markdown",
   "id": "313bfb88",
   "metadata": {},
   "source": [
    "# Q. 12. What do you mean by the \\d, \\w, and \\s shorthand character classes signify in regular expressions?"
   ]
  },
  {
   "cell_type": "markdown",
   "id": "fe44415f",
   "metadata": {},
   "source": [
    "Ans:\n",
    "    \n",
    "    these are special sequence in regular expression.\n",
    "    \n",
    "    \\w – Matches a word character equivalent to [a-zA-Z0-9_]\n",
    "    \\d – Matches digit character equivalent to [0-9]\n",
    "    \\s – Matches whitespace character (space, tab, newline, etc."
   ]
  },
  {
   "cell_type": "markdown",
   "id": "71e5cc16",
   "metadata": {},
   "source": [
    "# Q. 13. What do means by \\D, \\W, and \\S shorthand character classes signify in regular expressions?"
   ]
  },
  {
   "cell_type": "markdown",
   "id": "1f40d1ee",
   "metadata": {},
   "source": [
    "Ans:\n",
    "\n",
    "    these are special sequence in regular expression.\n",
    "\n",
    "    \\w – Matches a word character equivalent to [a-zA-Z0-9_]\n",
    "    \\d – Matches digit character equivalent to [0-9]\n",
    "    \\s – Matches whitespace character (space, tab, newline, etc."
   ]
  },
  {
   "cell_type": "markdown",
   "id": "be006b51",
   "metadata": {},
   "source": [
    "# Q. 14. What is the difference between .*? and .*?"
   ]
  },
  {
   "cell_type": "markdown",
   "id": "1558fde2",
   "metadata": {},
   "source": [
    "Ans:\n",
    "    \n",
    "    '.' accepts as many sequence as available(Greedy approach)\n",
    "    '.?' accepts the first matched sequence and then stops(Non-Greedy approach)."
   ]
  },
  {
   "cell_type": "markdown",
   "id": "eba10026",
   "metadata": {},
   "source": [
    "# Q. 15. What is the syntax for matching both numbers and lowercase letters with a character class?"
   ]
  },
  {
   "cell_type": "markdown",
   "id": "6e60a475",
   "metadata": {},
   "source": [
    "Ans: \n",
    "    \n",
    "    [a-z0-9]\n",
    "    \n",
    "    "
   ]
  },
  {
   "cell_type": "markdown",
   "id": "093322f6",
   "metadata": {},
   "source": [
    "# Q. 16. What is the procedure for making a normal expression in regax case insensitive?"
   ]
  },
  {
   "cell_type": "markdown",
   "id": "f3fb4297",
   "metadata": {},
   "source": [
    "Ans:\n",
    "    \n",
    "    pass re.IGNORECASE to re.compile()"
   ]
  },
  {
   "cell_type": "markdown",
   "id": "44a91fe4",
   "metadata": {},
   "source": [
    "# Q. 17. What does the . character normally match? What does it match if re.DOTALL is passed as 2nd argument in re.compile()?"
   ]
  },
  {
   "cell_type": "markdown",
   "id": "e37128d5",
   "metadata": {},
   "source": [
    "Ans:\n",
    "    \n",
    "    '.' character normally pass any character except newline character. \n",
    "\n",
    "    With the help of DOTALL, '.' character can match any character including newline."
   ]
  },
  {
   "cell_type": "markdown",
   "id": "5eeacf54",
   "metadata": {},
   "source": [
    "# Q. 18. If numReg = re.compile(r'\\d+'), what will numRegex.sub('X', '11 drummers, 10 pipers, five rings, 4 hen') return?"
   ]
  },
  {
   "cell_type": "code",
   "execution_count": 19,
   "id": "67cc4ee0",
   "metadata": {},
   "outputs": [
    {
     "data": {
      "text/plain": [
       "'X drummers, X pipers, five rings, X hen'"
      ]
     },
     "execution_count": 19,
     "metadata": {},
     "output_type": "execute_result"
    }
   ],
   "source": [
    "import re\n",
    "numReg = re.compile(r'\\d+')\n",
    "numReg.sub('X', '11 drummers, 10 pipers, five rings, 4 hen')"
   ]
  },
  {
   "cell_type": "markdown",
   "id": "8d0104f6",
   "metadata": {},
   "source": [
    "# Q. 19. What does passing re.VERBOSE as the 2nd argument to re.compile() allow to do?"
   ]
  },
  {
   "cell_type": "markdown",
   "id": "00e90d70",
   "metadata": {},
   "source": [
    "Ans:\n",
    "    \n",
    "    re.VERBOSE : This flag allows you to write regular expressions that look \n",
    "    nicer and are more readable by allowing you to visually separate logical \n",
    "    sections of the pattern and add comments."
   ]
  },
  {
   "cell_type": "markdown",
   "id": "e58f3f60",
   "metadata": {},
   "source": [
    "# Q. 20. How would you write a regex that match a number with comma for every three digits? It must match the given following:"
   ]
  },
  {
   "cell_type": "markdown",
   "id": "1d4f4489",
   "metadata": {},
   "source": [
    "    '42'\n",
    "    '1,234'\n",
    "    '6,368,745'\n",
    "    but not the following:\n",
    "    '12,34,567' (which has only two digits between the commas)\n",
    "    '1234' ( which lacks commas)\n",
    "        "
   ]
  },
  {
   "cell_type": "code",
   "execution_count": 20,
   "id": "861414b8",
   "metadata": {},
   "outputs": [
    {
     "name": "stdout",
     "output_type": "stream",
     "text": [
      "Output: 42 -> <re.Match object; span=(0, 2), match='42'>\n",
      "Output: 1,234 -> <re.Match object; span=(0, 5), match='1,234'>\n",
      "Output: 6,368,745 -> <re.Match object; span=(0, 9), match='6,368,745'>\n",
      "Output: 12,34,567 -> None\n",
      "Output: 1234 -> None\n"
     ]
    }
   ],
   "source": [
    "import re\n",
    "pattern = r'^\\d{1,3}(,\\d{3})*$'\n",
    "pagex = re.compile(pattern)\n",
    "for ele in ['42','1,234', '6,368,745','12,34,567','1234']:\n",
    "    print('Output:',ele, '->', pagex.search(ele))"
   ]
  },
  {
   "cell_type": "markdown",
   "id": "6b0865fb",
   "metadata": {},
   "source": [
    "# Q. 21. How would you write a regex that matches the full name of someone whose last name is Watanabe? You can assume that the first name that comes before it will always be one word that begins with a capital letter. The regex must match the following:"
   ]
  },
  {
   "cell_type": "markdown",
   "id": "90e1d739",
   "metadata": {},
   "source": [
    "\n",
    "    Haruto Watanabe\n",
    "    Alice Watanabe\n",
    "    RoboCop Watanabe\n",
    "    but not the following:\n",
    "    haruto Watanabe(where the first name is not capitalized)\n",
    "    Mr. Watanabe(where the preceding word has a nonletter character)\n",
    "    Watanabe(which has no first name)\n",
    "    Haruto watanabe(where Watanabe is not capitalized)"
   ]
  },
  {
   "cell_type": "code",
   "execution_count": 21,
   "id": "424b071f",
   "metadata": {},
   "outputs": [
    {
     "name": "stdout",
     "output_type": "stream",
     "text": [
      "Output:  Haruto Watanabe -> <re.Match object; span=(0, 15), match='Haruto Watanabe'>\n",
      "Output:  Alice Watanabe -> <re.Match object; span=(0, 14), match='Alice Watanabe'>\n",
      "Output:  RoboCop Watanabe -> <re.Match object; span=(4, 16), match='Cop Watanabe'>\n",
      "Output:  haruto Watanabe -> None\n",
      "Output:  Mr. Watanabe -> None\n",
      "Output:  Watanabe -> None\n",
      "Output:  Haruto watanabe -> None\n"
     ]
    }
   ],
   "source": [
    "import re\n",
    "pattern = r'[A-Z]{1}[a-z]*\\sWatanabe'\n",
    "namex = re.compile(pattern)\n",
    "for name in ['Haruto Watanabe','Alice Watanabe','RoboCop Watanabe','haruto Watanabe','Mr. Watanabe','Watanabe','Haruto watanabe']:\n",
    "    print('Output: ',name,'->',namex.search(name))"
   ]
  },
  {
   "cell_type": "markdown",
   "id": "e0a16d81",
   "metadata": {},
   "source": [
    "# 22. How would you write a regex that matches a sentence where the first word is either Alice, Bob, or Carol; the second word is either eats, pets, or throws; the third word is apples, cats, or baseballs; and the sentence ends with a period? This regex should be case-insensitive. It must match the following:"
   ]
  },
  {
   "cell_type": "markdown",
   "id": "ba4ec5fc",
   "metadata": {},
   "source": [
    "    Alice eats apples.\n",
    "    Bob pets cats.\n",
    "    Carol throws baseballs.\n",
    "    Alice throws Apples.\n",
    "    BOB EATS CATS.\n",
    "    but not the following:\n",
    "    RoboCop eats apples.\n",
    "    ALICE THROWS FOOTBALLS.\n",
    "    Carol eats 7 cats."
   ]
  },
  {
   "cell_type": "code",
   "execution_count": 23,
   "id": "463046f6",
   "metadata": {},
   "outputs": [
    {
     "name": "stdout",
     "output_type": "stream",
     "text": [
      "Output:  Carol eats 7 cats. -> <re.Match object; span=(0, 18), match='Alice eats apples.'>\n",
      "Output:  Carol eats 7 cats. -> <re.Match object; span=(0, 14), match='Bob pets cats.'>\n",
      "Output:  Carol eats 7 cats. -> <re.Match object; span=(0, 23), match='Carol throws baseballs.'>\n",
      "Output:  Carol eats 7 cats. -> <re.Match object; span=(0, 20), match='Alice throws Apples.'>\n",
      "Output:  Carol eats 7 cats. -> <re.Match object; span=(0, 14), match='BOB EATS CATS.'>\n",
      "Output:  Carol eats 7 cats. -> None\n",
      "Output:  Carol eats 7 cats. -> None\n",
      "Output:  Carol eats 7 cats. -> None\n"
     ]
    }
   ],
   "source": [
    "import re\n",
    "pattern = r'(Alice|Bob|Carol)\\s(eats|pets|throws)\\s(apples|cats|baseballs)\\.'\n",
    "a = re.compile(pattern,re.IGNORECASE)\n",
    "for spam in ['Alice eats apples.','Bob pets cats.','Carol throws baseballs.','Alice throws Apples.','BOB EATS CATS.','RoboCop eats apples.'\n",
    ",'ALICE THROWS FOOTBALLS.','Carol eats 7 cats.']:\n",
    "    print('Output: ',ele,'->',a.search(spam))"
   ]
  },
  {
   "cell_type": "code",
   "execution_count": null,
   "id": "980edb16",
   "metadata": {},
   "outputs": [],
   "source": []
  }
 ],
 "metadata": {
  "kernelspec": {
   "display_name": "Python 3 (ipykernel)",
   "language": "python",
   "name": "python3"
  },
  "language_info": {
   "codemirror_mode": {
    "name": "ipython",
    "version": 3
   },
   "file_extension": ".py",
   "mimetype": "text/x-python",
   "name": "python",
   "nbconvert_exporter": "python",
   "pygments_lexer": "ipython3",
   "version": "3.9.7"
  }
 },
 "nbformat": 4,
 "nbformat_minor": 5
}
