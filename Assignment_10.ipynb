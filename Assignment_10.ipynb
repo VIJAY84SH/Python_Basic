{
 "cells": [
  {
   "cell_type": "markdown",
   "id": "24172bd3",
   "metadata": {},
   "source": [
    "# Q. 1. How do you distinguish between shutil.copy() and shutil.copytree()?"
   ]
  },
  {
   "cell_type": "markdown",
   "id": "a540ad9e",
   "metadata": {},
   "source": [
    "Ans:\n",
    "    \n",
    "    shutil. copy() will copy a single file, shutil. copytree() will copy an entire folder and every folder and file contained in it."
   ]
  },
  {
   "cell_type": "markdown",
   "id": "70986d32",
   "metadata": {},
   "source": [
    "# Q. 2. What function is used to rename files??"
   ]
  },
  {
   "cell_type": "markdown",
   "id": "4edb3985",
   "metadata": {},
   "source": [
    "Ans:\n",
    "    \n",
    "     os.rename() function is used to rename files or directories using a python program, this function takes two arguments src and dest, src represents the name file/directory which we want to rename, whereas dest represents the new name of the file/director"
   ]
  },
  {
   "cell_type": "markdown",
   "id": "aafe7b44",
   "metadata": {},
   "source": [
    "# Q. 3. What is the difference between the delete functions in the send2trash and shutil modules?"
   ]
  },
  {
   "cell_type": "markdown",
   "id": "2e759433",
   "metadata": {},
   "source": [
    "Ans:\n",
    "    \n",
    "    Using the send2trash module in Python. Using send2trash, we can send files to the Trash or Recycle Bin instead of permanently deleting them\n",
    "    \n",
    "    Shutil module provides a funciton called as shutil.rmtree() which deletes a directory and all its contents.\n",
    "    \n",
    "    The other functions with similar functionality are os.remove() -> removes a file, os.rmdir() removes a empty directory. The problem with these functions is once a file is deleted. it will be lost permanently, if a file is deleted accidentally using these methods there is no way we can recover the deleted file"
   ]
  },
  {
   "cell_type": "markdown",
   "id": "f674aeef",
   "metadata": {},
   "source": [
    "# Q. 4.ZipFile objects have a close() method just like File objects’ close() method. What ZipFile method is equivalent to File objects’ open() method?"
   ]
  },
  {
   "cell_type": "markdown",
   "id": "861f107a",
   "metadata": {},
   "source": [
    "Ans:\n",
    "    \n",
    "    ZipFile Module provides a method called as zipfile.ZipFile() to read and write to zipFiles. it takes arugments lile filename and mode etc\n",
    "    \n",
    "    zipfile.ZipFile('filename', mode = 'r')"
   ]
  },
  {
   "cell_type": "markdown",
   "id": "b71e2d41",
   "metadata": {},
   "source": [
    "# Q. 5. Create a programme that searches a folder tree for files with a certain file extension (such as .pdf or .jpg). Copy these files from whatever location they are in to a new folder."
   ]
  },
  {
   "cell_type": "code",
   "execution_count": 5,
   "id": "3e082801",
   "metadata": {},
   "outputs": [],
   "source": [
    "def copyFile(src,dst,ext):\n",
    "    try:\n",
    "        import os,shutil\n",
    "        for file in os.listdir(src):\n",
    "            if file.endswith(ext):\n",
    "                shutil.copy(os.path.join(src,file),dst)\n",
    "        print(\"File have been successfully copied from source to destination\")\n",
    "    except Exception as e:\n",
    "        print(e)\n",
    "        "
   ]
  },
  {
   "cell_type": "code",
   "execution_count": 6,
   "id": "ee892317",
   "metadata": {},
   "outputs": [],
   "source": [
    "source = r'C:\\Users\\vijay\\OneDrive\\Desktop\\src_v'"
   ]
  },
  {
   "cell_type": "code",
   "execution_count": 7,
   "id": "458383df",
   "metadata": {},
   "outputs": [],
   "source": [
    "dest = r'C:\\Users\\vijay\\OneDrive\\Desktop\\dst_v'"
   ]
  },
  {
   "cell_type": "code",
   "execution_count": 8,
   "id": "6b5571d4",
   "metadata": {},
   "outputs": [
    {
     "name": "stdout",
     "output_type": "stream",
     "text": [
      "File have been successfully copied from source to destination\n"
     ]
    }
   ],
   "source": [
    "copyFile(source,dest,'.xlsx')"
   ]
  },
  {
   "cell_type": "code",
   "execution_count": null,
   "id": "b72d0769",
   "metadata": {},
   "outputs": [],
   "source": []
  },
  {
   "cell_type": "code",
   "execution_count": null,
   "id": "184006f4",
   "metadata": {},
   "outputs": [],
   "source": []
  }
 ],
 "metadata": {
  "kernelspec": {
   "display_name": "Python 3 (ipykernel)",
   "language": "python",
   "name": "python3"
  },
  "language_info": {
   "codemirror_mode": {
    "name": "ipython",
    "version": 3
   },
   "file_extension": ".py",
   "mimetype": "text/x-python",
   "name": "python",
   "nbconvert_exporter": "python",
   "pygments_lexer": "ipython3",
   "version": "3.9.7"
  }
 },
 "nbformat": 4,
 "nbformat_minor": 5
}
