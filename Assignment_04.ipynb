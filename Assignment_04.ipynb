{
 "cells": [
  {
   "cell_type": "markdown",
   "id": "e503725c",
   "metadata": {},
   "source": [
    "# Q.1. What exactly is []?"
   ]
  },
  {
   "cell_type": "markdown",
   "id": "3e927e0e",
   "metadata": {},
   "source": [
    "Answer:\n",
    "    \n",
    "    [] this is empty list.\n",
    "     "
   ]
  },
  {
   "cell_type": "markdown",
   "id": "5fa3be6e",
   "metadata": {},
   "source": [
    "# Q.2. In a list of values stored in a variable called spam, how would you assign the value 'hello' as the third value? (Assume [2, 4, 6, 8, 10] are in spam.)"
   ]
  },
  {
   "cell_type": "code",
   "execution_count": null,
   "id": "905366b8",
   "metadata": {},
   "outputs": [],
   "source": [
    "Answer:\n",
    "    \n",
    "     if we "
   ]
  },
  {
   "cell_type": "code",
   "execution_count": 1,
   "id": "e66d5661",
   "metadata": {},
   "outputs": [],
   "source": [
    "spam = [2,4,6,8,10]"
   ]
  },
  {
   "cell_type": "code",
   "execution_count": 3,
   "id": "e55630db",
   "metadata": {},
   "outputs": [],
   "source": [
    "spam[2] = \"hello\""
   ]
  },
  {
   "cell_type": "code",
   "execution_count": 4,
   "id": "756c03a5",
   "metadata": {},
   "outputs": [
    {
     "data": {
      "text/plain": [
       "[2, 4, 'hello', 8, 10]"
      ]
     },
     "execution_count": 4,
     "metadata": {},
     "output_type": "execute_result"
    }
   ],
   "source": [
    "spam"
   ]
  },
  {
   "cell_type": "markdown",
   "id": "46125635",
   "metadata": {},
   "source": [
    "# Let's pretend the spam includes the list ['a','b','c','d'] for the next three queries."
   ]
  },
  {
   "cell_type": "code",
   "execution_count": 2,
   "id": "e1a5a0eb",
   "metadata": {},
   "outputs": [],
   "source": [
    "spam = ['a', 'b', 'c', 'd']"
   ]
  },
  {
   "cell_type": "markdown",
   "id": "cd8d0f6a",
   "metadata": {},
   "source": [
    "# Q.3. What is the value of spam[int(int('3' * 2) / 11)]?"
   ]
  },
  {
   "cell_type": "markdown",
   "id": "869c8661",
   "metadata": {},
   "source": [
    "Answer:\n",
    "    \n",
    "      '3' considerd as a string after multification it will be '33'\n",
    "\n",
    "        \n",
    "       Then int('33') will become 33\n",
    "    \n",
    "       33/11 will be 3.0\n",
    "        \n",
    "        int(3.0) will be 3\n",
    "        \n",
    "        spam[3] that is index value is 'd'\n",
    "        \n",
    "       \n",
    "        \n",
    "      "
   ]
  },
  {
   "cell_type": "code",
   "execution_count": 3,
   "id": "e2506162",
   "metadata": {},
   "outputs": [
    {
     "data": {
      "text/plain": [
       "'d'"
      ]
     },
     "execution_count": 3,
     "metadata": {},
     "output_type": "execute_result"
    }
   ],
   "source": [
    "spam[int(int('3'*2)/11)]"
   ]
  },
  {
   "cell_type": "code",
   "execution_count": 4,
   "id": "94704ecd",
   "metadata": {},
   "outputs": [
    {
     "data": {
      "text/plain": [
       "'33'"
      ]
     },
     "execution_count": 4,
     "metadata": {},
     "output_type": "execute_result"
    }
   ],
   "source": [
    "'3'*2"
   ]
  },
  {
   "cell_type": "code",
   "execution_count": 6,
   "id": "56db29dc",
   "metadata": {},
   "outputs": [
    {
     "data": {
      "text/plain": [
       "3.0"
      ]
     },
     "execution_count": 6,
     "metadata": {},
     "output_type": "execute_result"
    }
   ],
   "source": [
    "int('3'*2)/11"
   ]
  },
  {
   "cell_type": "code",
   "execution_count": 8,
   "id": "a4f02d96",
   "metadata": {},
   "outputs": [
    {
     "data": {
      "text/plain": [
       "3"
      ]
     },
     "execution_count": 8,
     "metadata": {},
     "output_type": "execute_result"
    }
   ],
   "source": [
    "int(3)"
   ]
  },
  {
   "cell_type": "code",
   "execution_count": 10,
   "id": "0dedaf9b",
   "metadata": {},
   "outputs": [
    {
     "data": {
      "text/plain": [
       "'d'"
      ]
     },
     "execution_count": 10,
     "metadata": {},
     "output_type": "execute_result"
    }
   ],
   "source": [
    "spam[3]"
   ]
  },
  {
   "cell_type": "markdown",
   "id": "644da349",
   "metadata": {},
   "source": [
    "# Q.4. What is the value of spam[-1]?"
   ]
  },
  {
   "cell_type": "markdown",
   "id": "32f81c02",
   "metadata": {},
   "source": [
    "Answer:\n",
    "    \n",
    "    When we start negative index last element will have -1 "
   ]
  },
  {
   "cell_type": "code",
   "execution_count": 11,
   "id": "638e2a2a",
   "metadata": {},
   "outputs": [
    {
     "data": {
      "text/plain": [
       "'d'"
      ]
     },
     "execution_count": 11,
     "metadata": {},
     "output_type": "execute_result"
    }
   ],
   "source": [
    "spam[-1]"
   ]
  },
  {
   "cell_type": "markdown",
   "id": "2ba31925",
   "metadata": {},
   "source": [
    "# Q.5. What is the value of spam[:2]?"
   ]
  },
  {
   "cell_type": "markdown",
   "id": "96e61f1a",
   "metadata": {},
   "source": [
    "Answer:\n",
    "    \n",
    "     Returning first two index elements"
   ]
  },
  {
   "cell_type": "code",
   "execution_count": 15,
   "id": "e0800bff",
   "metadata": {},
   "outputs": [
    {
     "name": "stdout",
     "output_type": "stream",
     "text": [
      "['a', 'b', 'c', 'd']\n",
      "['a', 'b']\n"
     ]
    }
   ],
   "source": [
    "print(spam)\n",
    "print(spam[:2])"
   ]
  },
  {
   "cell_type": "markdown",
   "id": "7e0db06c",
   "metadata": {},
   "source": [
    "# Let's pretend bacon has the list [3.14, 'cat', 11, 'cat', True] for the next three questions."
   ]
  },
  {
   "cell_type": "code",
   "execution_count": 27,
   "id": "9512c890",
   "metadata": {},
   "outputs": [],
   "source": [
    "bacon = [3.14, 'cat', 11, 'cat', True]"
   ]
  },
  {
   "cell_type": "markdown",
   "id": "2e6d2eb4",
   "metadata": {},
   "source": [
    "# Q.6. What is the value of bacon.index('cat')?"
   ]
  },
  {
   "cell_type": "markdown",
   "id": "d11acf5b",
   "metadata": {},
   "source": [
    "it will give the index of first occuurence of 'cat' value"
   ]
  },
  {
   "cell_type": "code",
   "execution_count": 18,
   "id": "a5b1db8c",
   "metadata": {},
   "outputs": [
    {
     "data": {
      "text/plain": [
       "1"
      ]
     },
     "execution_count": 18,
     "metadata": {},
     "output_type": "execute_result"
    }
   ],
   "source": [
    "bacon.index('cat')"
   ]
  },
  {
   "cell_type": "markdown",
   "id": "c04f5d6c",
   "metadata": {},
   "source": [
    "# Q.7. How does bacon.append(99) change the look of the list value in bacon?"
   ]
  },
  {
   "cell_type": "markdown",
   "id": "1b8328a6",
   "metadata": {},
   "source": [
    "append funtion is used to add the element at last. "
   ]
  },
  {
   "cell_type": "code",
   "execution_count": 22,
   "id": "4eac4cea",
   "metadata": {},
   "outputs": [
    {
     "data": {
      "text/plain": [
       "[3.14, 'cat', 11, 'cat', True, 99]"
      ]
     },
     "execution_count": 22,
     "metadata": {},
     "output_type": "execute_result"
    }
   ],
   "source": [
    "bacon.append(99)\n",
    "bacon"
   ]
  },
  {
   "cell_type": "markdown",
   "id": "954cc787",
   "metadata": {},
   "source": [
    "# Q.8. How does bacon.remove('cat') change the look of the list in bacon?"
   ]
  },
  {
   "cell_type": "code",
   "execution_count": 28,
   "id": "9d8fee67",
   "metadata": {},
   "outputs": [
    {
     "data": {
      "text/plain": [
       "[3.14, 'cat', 11, 'cat', True]"
      ]
     },
     "execution_count": 28,
     "metadata": {},
     "output_type": "execute_result"
    }
   ],
   "source": [
    "bacon"
   ]
  },
  {
   "cell_type": "code",
   "execution_count": 29,
   "id": "39b2f11f",
   "metadata": {},
   "outputs": [
    {
     "data": {
      "text/plain": [
       "[3.14, 11, 'cat', True]"
      ]
     },
     "execution_count": 29,
     "metadata": {},
     "output_type": "execute_result"
    }
   ],
   "source": [
    "bacon.remove('cat')\n",
    "bacon"
   ]
  },
  {
   "cell_type": "markdown",
   "id": "4fd49a0a",
   "metadata": {},
   "source": [
    "The Remove function remove first occurence of value."
   ]
  },
  {
   "cell_type": "markdown",
   "id": "f1b036db",
   "metadata": {},
   "source": [
    "# Q.9. What are the list concatenation and list replication operators?"
   ]
  },
  {
   "cell_type": "markdown",
   "id": "2c097034",
   "metadata": {},
   "source": [
    "Operator for Concatenation is \"+\" and for replication is \" * \" "
   ]
  },
  {
   "cell_type": "code",
   "execution_count": 8,
   "id": "0bd3e443",
   "metadata": {},
   "outputs": [
    {
     "data": {
      "text/plain": [
       "[1, 2, 3, 4, 'a', 'b', 'c', 'd']"
      ]
     },
     "execution_count": 8,
     "metadata": {},
     "output_type": "execute_result"
    }
   ],
   "source": [
    "list_1 = [1,2,3,4]\n",
    "list_2 = [\"a\", \"b\", \"c\", \"d\"]\n",
    "list_A = list_1 + list_2  #List Concatenation\n",
    "list_B = list_1*2\n",
    "list_A"
   ]
  },
  {
   "cell_type": "code",
   "execution_count": 9,
   "id": "5c1352e1",
   "metadata": {},
   "outputs": [
    {
     "data": {
      "text/plain": [
       "[1, 2, 3, 4, 1, 2, 3, 4]"
      ]
     },
     "execution_count": 9,
     "metadata": {},
     "output_type": "execute_result"
    }
   ],
   "source": [
    "list_B"
   ]
  },
  {
   "cell_type": "markdown",
   "id": "282cbc53",
   "metadata": {},
   "source": [
    "# Q.10. What is difference between the list methods append() and insert()?"
   ]
  },
  {
   "cell_type": "markdown",
   "id": "e4683075",
   "metadata": {},
   "source": [
    "There is simple difference between **append** and **insert** ,\n",
    "\n",
    "In **Insert** method we add element at any index postion.\n",
    "\n",
    "In **append** method we element only at the end of the list."
   ]
  },
  {
   "cell_type": "code",
   "execution_count": 9,
   "id": "9775820f",
   "metadata": {},
   "outputs": [
    {
     "name": "stdout",
     "output_type": "stream",
     "text": [
      "[1, 2, 3, 4, 6, 1]\n"
     ]
    }
   ],
   "source": [
    "l = [1,2,3,4,6]\n",
    "l.append(1)\n",
    "print(l)\n"
   ]
  },
  {
   "cell_type": "code",
   "execution_count": 10,
   "id": "4ca0d578",
   "metadata": {},
   "outputs": [
    {
     "name": "stdout",
     "output_type": "stream",
     "text": [
      "[1, 'a', 2, 3, 4, 6, 1]\n"
     ]
    }
   ],
   "source": [
    "l.insert(1,\"a\")\n",
    "print(l)"
   ]
  },
  {
   "cell_type": "markdown",
   "id": "0c3e595b",
   "metadata": {},
   "source": [
    "# Q.11. What are the two methods for removing items from a list?"
   ]
  },
  {
   "cell_type": "markdown",
   "id": "31476ff1",
   "metadata": {},
   "source": [
    "remove(value) - by using remove method we can remove selected element\n",
    "\n",
    "pop() - we remove element here by using index and default index is -1. "
   ]
  },
  {
   "cell_type": "code",
   "execution_count": 19,
   "id": "122fa113",
   "metadata": {},
   "outputs": [
    {
     "name": "stdout",
     "output_type": "stream",
     "text": [
      "[1, 2, 3, 'b', 'c']\n"
     ]
    }
   ],
   "source": [
    "l = [1,2,3,\"a\", \"b\", \"c\"]\n",
    "l.remove('a') # we removed \"a\" element here\n",
    "print(l)\n"
   ]
  },
  {
   "cell_type": "code",
   "execution_count": 21,
   "id": "82bd10be",
   "metadata": {},
   "outputs": [
    {
     "name": "stdout",
     "output_type": "stream",
     "text": [
      "[1, 2, 'a', 'b', 'c']\n"
     ]
    }
   ],
   "source": [
    "l = [1,2,3,\"a\", \"b\", \"c\"]\n",
    "l.pop(2) # Here we remove element by using index number\n",
    "print(l)"
   ]
  },
  {
   "cell_type": "code",
   "execution_count": 22,
   "id": "7757f729",
   "metadata": {},
   "outputs": [
    {
     "name": "stdout",
     "output_type": "stream",
     "text": [
      "[1, 2, 'a', 'b']\n"
     ]
    }
   ],
   "source": [
    "l.pop()     # default index is -1 so it remove last element\n",
    "print(l)"
   ]
  },
  {
   "cell_type": "markdown",
   "id": "a153cd08",
   "metadata": {},
   "source": [
    "# Q. 12. Describe how list values and string values are identical."
   ]
  },
  {
   "cell_type": "markdown",
   "id": "082dc289",
   "metadata": {},
   "source": [
    "- **list** is collection of values in python and **string** is collection of characters \n",
    "\n",
    "- Both can be used for loops\n",
    "\n",
    "- Both can be concatenated and replicated\n",
    "\n",
    "- Both can be passed len() function"
   ]
  },
  {
   "cell_type": "markdown",
   "id": "2cef80a4",
   "metadata": {},
   "source": [
    "# Q. 13. What is the difference between tuples and lists?"
   ]
  },
  {
   "cell_type": "markdown",
   "id": "2ac560f3",
   "metadata": {},
   "source": [
    "## list - \n",
    "        - lists are mutable(lists allow to item assignment)\n",
    "    \n",
    "        - list is enclosed with \"[]\"\n",
    "        \n",
    "        - It consume more memory\n",
    "        \n",
    "        - list have several built in methods\n",
    "        \n",
    "## Tuple - \n",
    "\n",
    "        - tuple is immutable ( tuple does not allow to item assignment)\n",
    "    \n",
    "        - tuple is enclosed with \"()\"\n",
    "        \n",
    "        - It consume less memory as comared to list\n",
    "        \n",
    "        - It has few methods only\n",
    "        \n",
    "**Example shown as bellow**"
   ]
  },
  {
   "cell_type": "code",
   "execution_count": 24,
   "id": "22e1be88",
   "metadata": {
    "scrolled": true
   },
   "outputs": [
    {
     "ename": "TypeError",
     "evalue": "'tuple' object does not support item assignment",
     "output_type": "error",
     "traceback": [
      "\u001b[1;31m---------------------------------------------------------------------------\u001b[0m",
      "\u001b[1;31mTypeError\u001b[0m                                 Traceback (most recent call last)",
      "\u001b[1;32m~\\AppData\\Local\\Temp/ipykernel_7144/798300873.py\u001b[0m in \u001b[0;36m<module>\u001b[1;34m\u001b[0m\n\u001b[0;32m      1\u001b[0m \u001b[0mt\u001b[0m \u001b[1;33m=\u001b[0m \u001b[1;33m(\u001b[0m\u001b[1;36m1\u001b[0m\u001b[1;33m,\u001b[0m\u001b[1;36m2\u001b[0m\u001b[1;33m,\u001b[0m\u001b[1;36m3\u001b[0m\u001b[1;33m,\u001b[0m\u001b[1;36m4\u001b[0m\u001b[1;33m)\u001b[0m\u001b[1;33m\u001b[0m\u001b[1;33m\u001b[0m\u001b[0m\n\u001b[1;32m----> 2\u001b[1;33m \u001b[0mt\u001b[0m\u001b[1;33m[\u001b[0m\u001b[1;36m0\u001b[0m\u001b[1;33m]\u001b[0m \u001b[1;33m=\u001b[0m \u001b[1;34m'a'\u001b[0m\u001b[1;33m\u001b[0m\u001b[1;33m\u001b[0m\u001b[0m\n\u001b[0m",
      "\u001b[1;31mTypeError\u001b[0m: 'tuple' object does not support item assignment"
     ]
    }
   ],
   "source": [
    "t = (1,2,3,4)\n",
    "t[0] = 'a'"
   ]
  },
  {
   "cell_type": "code",
   "execution_count": 25,
   "id": "9cd605a0",
   "metadata": {},
   "outputs": [
    {
     "data": {
      "text/plain": [
       "['a', 2, 3, 4]"
      ]
     },
     "execution_count": 25,
     "metadata": {},
     "output_type": "execute_result"
    }
   ],
   "source": [
    "l = [1,2,3,4]\n",
    "l[0] = 'a'\n",
    "l"
   ]
  },
  {
   "cell_type": "markdown",
   "id": "73225f2f",
   "metadata": {},
   "source": [
    "# Q. 14. How do you type a tuple value that only contains the integer 42?"
   ]
  },
  {
   "cell_type": "markdown",
   "id": "40d6369b",
   "metadata": {},
   "source": [
    "Tuple are written using parentheses() \n",
    "\n",
    "Here integer value in it, **comma** is mandatory."
   ]
  },
  {
   "cell_type": "code",
   "execution_count": 13,
   "id": "aed4dfdd",
   "metadata": {},
   "outputs": [
    {
     "data": {
      "text/plain": [
       "int"
      ]
     },
     "execution_count": 13,
     "metadata": {},
     "output_type": "execute_result"
    }
   ],
   "source": [
    "t = (42)\n",
    "type(t)"
   ]
  },
  {
   "cell_type": "code",
   "execution_count": 6,
   "id": "fd4b787a",
   "metadata": {},
   "outputs": [
    {
     "data": {
      "text/plain": [
       "tuple"
      ]
     },
     "execution_count": 6,
     "metadata": {},
     "output_type": "execute_result"
    }
   ],
   "source": [
    "t = (42,) \n",
    "type(t)"
   ]
  },
  {
   "cell_type": "markdown",
   "id": "8977b18b",
   "metadata": {},
   "source": [
    "# Q. 15. How do you get a list value's tuple form? How do you get a tuple value's list form?"
   ]
  },
  {
   "cell_type": "code",
   "execution_count": 12,
   "id": "37520192",
   "metadata": {},
   "outputs": [
    {
     "name": "stdout",
     "output_type": "stream",
     "text": [
      "(1, 2, 3, 'a', 'b', 'c')\n"
     ]
    }
   ],
   "source": [
    "l = [1,2,3,\"a\", \"b\", \"c\"] \n",
    "\n",
    "t = tuple(l)   # conversion of list into tuple\n",
    "print(t)"
   ]
  },
  {
   "cell_type": "code",
   "execution_count": 11,
   "id": "3049ee96",
   "metadata": {},
   "outputs": [
    {
     "name": "stdout",
     "output_type": "stream",
     "text": [
      "[1, 2, 3, 'a', 'b', 'c']\n"
     ]
    }
   ],
   "source": [
    "l = list(t) # conversion of tuple into list\n",
    "print(l)"
   ]
  },
  {
   "cell_type": "markdown",
   "id": "f956ffd3",
   "metadata": {},
   "source": [
    "# Q. 16. Variables that \"contain\" list values are not necessarily lists themselves. Instead, what do they contain?"
   ]
  },
  {
   "cell_type": "markdown",
   "id": "98840862",
   "metadata": {},
   "source": [
    "Variables will contain references to list values rather than list values themselves."
   ]
  },
  {
   "cell_type": "markdown",
   "id": "204fc9f1",
   "metadata": {},
   "source": [
    "# Q. 17. How do you distinguish between copy.copy() and copy.deepcopy()?"
   ]
  },
  {
   "cell_type": "markdown",
   "id": "dedc4118",
   "metadata": {},
   "source": [
    "-  **shallow Copy:** \n",
    "    \n",
    "    1. the copy() return a shallow copy of x. Similarly, deepcopy() return a deep copy of x\n",
    "\n",
    "    2. A shallow copy creates a new object which stores the reference of the original elements.\n",
    "\n",
    "    3. A deep copy creates a new object and recursively adds the copies of nested objects present in the original elements.\n"
   ]
  },
  {
   "cell_type": "code",
   "execution_count": null,
   "id": "532b2f1a",
   "metadata": {},
   "outputs": [],
   "source": []
  }
 ],
 "metadata": {
  "kernelspec": {
   "display_name": "Python 3 (ipykernel)",
   "language": "python",
   "name": "python3"
  },
  "language_info": {
   "codemirror_mode": {
    "name": "ipython",
    "version": 3
   },
   "file_extension": ".py",
   "mimetype": "text/x-python",
   "name": "python",
   "nbconvert_exporter": "python",
   "pygments_lexer": "ipython3",
   "version": "3.9.7"
  }
 },
 "nbformat": 4,
 "nbformat_minor": 5
}
