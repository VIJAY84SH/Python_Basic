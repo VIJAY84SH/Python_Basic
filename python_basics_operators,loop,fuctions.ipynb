{
 "cells": [
  {
   "cell_type": "markdown",
   "id": "0ccf8197",
   "metadata": {},
   "source": [
    "## Function"
   ]
  },
  {
   "cell_type": "markdown",
   "id": "ab1be335",
   "metadata": {},
   "source": [
    "- A function is a block of code which only runs when it is called."
   ]
  },
  {
   "cell_type": "code",
   "execution_count": 7,
   "id": "4b78c907",
   "metadata": {},
   "outputs": [],
   "source": [
    "def test(a,b):\n",
    "    return ((((a+b)*a*b)-a-b)/a/b)"
   ]
  },
  {
   "cell_type": "code",
   "execution_count": 8,
   "id": "5dae8a17",
   "metadata": {},
   "outputs": [
    {
     "data": {
      "text/plain": [
       "1.5"
      ]
     },
     "execution_count": 8,
     "metadata": {},
     "output_type": "execute_result"
    }
   ],
   "source": [
    "test(1,2)"
   ]
  },
  {
   "cell_type": "code",
   "execution_count": 9,
   "id": "3f6758e8",
   "metadata": {},
   "outputs": [
    {
     "data": {
      "text/plain": [
       "4.166666666666667"
      ]
     },
     "execution_count": 9,
     "metadata": {},
     "output_type": "execute_result"
    }
   ],
   "source": [
    "test(2,3)"
   ]
  },
  {
   "cell_type": "code",
   "execution_count": 23,
   "id": "425ea4c8",
   "metadata": {},
   "outputs": [],
   "source": [
    "def test1(a,b):\n",
    "    return a+\" \"+b;"
   ]
  },
  {
   "cell_type": "code",
   "execution_count": 24,
   "id": "64f58e06",
   "metadata": {},
   "outputs": [
    {
     "data": {
      "text/plain": [
       "'vijay patil'"
      ]
     },
     "execution_count": 24,
     "metadata": {},
     "output_type": "execute_result"
    }
   ],
   "source": [
    "test1 ('vijay','patil')"
   ]
  },
  {
   "cell_type": "markdown",
   "id": "e71acc94",
   "metadata": {},
   "source": [
    "## print"
   ]
  },
  {
   "cell_type": "code",
   "execution_count": 26,
   "id": "69967942",
   "metadata": {},
   "outputs": [
    {
     "name": "stdout",
     "output_type": "stream",
     "text": [
      "vijay age is 30\n"
     ]
    }
   ],
   "source": [
    "print(\"vijay age is\",30)"
   ]
  },
  {
   "cell_type": "code",
   "execution_count": 27,
   "id": "96c9baf8",
   "metadata": {},
   "outputs": [
    {
     "name": "stdout",
     "output_type": "stream",
     "text": [
      "vijay age is 30\n"
     ]
    }
   ],
   "source": [
    "age=30\n",
    "print(\"vijay age is\", age)"
   ]
  },
  {
   "cell_type": "code",
   "execution_count": 29,
   "id": "dbc7b25a",
   "metadata": {},
   "outputs": [
    {
     "name": "stdout",
     "output_type": "stream",
     "text": [
      "my age is 30\n"
     ]
    }
   ],
   "source": [
    "age = 30\n",
    "print((\"my age is {}\").format(age))"
   ]
  },
  {
   "cell_type": "code",
   "execution_count": 30,
   "id": "c8aa6fb8",
   "metadata": {},
   "outputs": [
    {
     "name": "stdout",
     "output_type": "stream",
     "text": [
      "a\n",
      "b\n",
      "c\n"
     ]
    }
   ],
   "source": [
    "print('a')\n",
    "print('b')\n",
    "print('c')"
   ]
  },
  {
   "cell_type": "code",
   "execution_count": 32,
   "id": "411f8100",
   "metadata": {},
   "outputs": [
    {
     "name": "stdout",
     "output_type": "stream",
     "text": [
      "a b c\n"
     ]
    }
   ],
   "source": [
    "print('a', end = \" \")\n",
    "print('b', end = \" \")\n",
    "print('c')"
   ]
  },
  {
   "cell_type": "code",
   "execution_count": 33,
   "id": "874db7f1",
   "metadata": {},
   "outputs": [
    {
     "name": "stdout",
     "output_type": "stream",
     "text": [
      "a*b*c\n"
     ]
    }
   ],
   "source": [
    "print('a', end = \"*\")\n",
    "print('b', end = \"*\")\n",
    "print('c')"
   ]
  },
  {
   "cell_type": "code",
   "execution_count": 34,
   "id": "8484042f",
   "metadata": {},
   "outputs": [
    {
     "data": {
      "text/plain": [
       "3.3333333333333335"
      ]
     },
     "execution_count": 34,
     "metadata": {},
     "output_type": "execute_result"
    }
   ],
   "source": [
    "10/3 # division\n",
    "    "
   ]
  },
  {
   "cell_type": "code",
   "execution_count": 35,
   "id": "c2228205",
   "metadata": {},
   "outputs": [
    {
     "data": {
      "text/plain": [
       "3"
      ]
     },
     "execution_count": 35,
     "metadata": {},
     "output_type": "execute_result"
    }
   ],
   "source": [
    "10//3  # floor division"
   ]
  },
  {
   "cell_type": "code",
   "execution_count": 36,
   "id": "6cc524fd",
   "metadata": {},
   "outputs": [
    {
     "data": {
      "text/plain": [
       "1"
      ]
     },
     "execution_count": 36,
     "metadata": {},
     "output_type": "execute_result"
    }
   ],
   "source": [
    "10%3 # modulus"
   ]
  },
  {
   "cell_type": "code",
   "execution_count": 37,
   "id": "be7e2b0a",
   "metadata": {},
   "outputs": [
    {
     "data": {
      "text/plain": [
       "4"
      ]
     },
     "execution_count": 37,
     "metadata": {},
     "output_type": "execute_result"
    }
   ],
   "source": [
    "2**2"
   ]
  },
  {
   "cell_type": "code",
   "execution_count": 38,
   "id": "1e207009",
   "metadata": {},
   "outputs": [
    {
     "data": {
      "text/plain": [
       "8"
      ]
     },
     "execution_count": 38,
     "metadata": {},
     "output_type": "execute_result"
    }
   ],
   "source": [
    "2**3"
   ]
  },
  {
   "cell_type": "code",
   "execution_count": 40,
   "id": "c4f1f0d9",
   "metadata": {},
   "outputs": [
    {
     "name": "stdout",
     "output_type": "stream",
     "text": [
      "input your name3\n"
     ]
    }
   ],
   "source": [
    "name = input(\"input your name\")"
   ]
  },
  {
   "cell_type": "code",
   "execution_count": 42,
   "id": "e0efc136",
   "metadata": {},
   "outputs": [
    {
     "name": "stdout",
     "output_type": "stream",
     "text": [
      "please enter age 4\n"
     ]
    }
   ],
   "source": [
    "age = int(input(\"please enter age \"))"
   ]
  },
  {
   "cell_type": "markdown",
   "id": "936a9674",
   "metadata": {},
   "source": [
    "## Relational Operators"
   ]
  },
  {
   "cell_type": "code",
   "execution_count": 43,
   "id": "3178bcc3",
   "metadata": {},
   "outputs": [],
   "source": [
    "i1 = \"vijay\""
   ]
  },
  {
   "cell_type": "code",
   "execution_count": 44,
   "id": "0e0346f2",
   "metadata": {},
   "outputs": [],
   "source": [
    "i2 = \"patil\""
   ]
  },
  {
   "cell_type": "code",
   "execution_count": 45,
   "id": "c9f103ad",
   "metadata": {},
   "outputs": [
    {
     "name": "stdout",
     "output_type": "stream",
     "text": [
      "patil\n"
     ]
    }
   ],
   "source": [
    "i1=i2\n",
    "print(i1)"
   ]
  },
  {
   "cell_type": "code",
   "execution_count": 46,
   "id": "d6d6eede",
   "metadata": {},
   "outputs": [
    {
     "data": {
      "text/plain": [
       "'patil'"
      ]
     },
     "execution_count": 46,
     "metadata": {},
     "output_type": "execute_result"
    }
   ],
   "source": [
    "i2"
   ]
  },
  {
   "cell_type": "markdown",
   "id": "c2e8fbac",
   "metadata": {},
   "source": [
    "## Logical Operator"
   ]
  },
  {
   "cell_type": "code",
   "execution_count": 47,
   "id": "37117f57",
   "metadata": {},
   "outputs": [
    {
     "data": {
      "text/plain": [
       "False"
      ]
     },
     "execution_count": 47,
     "metadata": {},
     "output_type": "execute_result"
    }
   ],
   "source": [
    "10>20"
   ]
  },
  {
   "cell_type": "code",
   "execution_count": 48,
   "id": "a5a66d40",
   "metadata": {},
   "outputs": [
    {
     "data": {
      "text/plain": [
       "True"
      ]
     },
     "execution_count": 48,
     "metadata": {},
     "output_type": "execute_result"
    }
   ],
   "source": [
    "10<20"
   ]
  },
  {
   "cell_type": "code",
   "execution_count": 49,
   "id": "de8f070a",
   "metadata": {},
   "outputs": [
    {
     "data": {
      "text/plain": [
       "True"
      ]
     },
     "execution_count": 49,
     "metadata": {},
     "output_type": "execute_result"
    }
   ],
   "source": [
    "(10>20) or (10<20)"
   ]
  },
  {
   "cell_type": "code",
   "execution_count": 50,
   "id": "03c92e8f",
   "metadata": {},
   "outputs": [
    {
     "data": {
      "text/plain": [
       "False"
      ]
     },
     "execution_count": 50,
     "metadata": {},
     "output_type": "execute_result"
    }
   ],
   "source": [
    "(10>20) and (10<20)"
   ]
  },
  {
   "cell_type": "code",
   "execution_count": 51,
   "id": "045f804c",
   "metadata": {},
   "outputs": [
    {
     "data": {
      "text/plain": [
       "False"
      ]
     },
     "execution_count": 51,
     "metadata": {},
     "output_type": "execute_result"
    }
   ],
   "source": [
    "not(True)"
   ]
  },
  {
   "cell_type": "code",
   "execution_count": 52,
   "id": "4c7c682b",
   "metadata": {},
   "outputs": [
    {
     "data": {
      "text/plain": [
       "True"
      ]
     },
     "execution_count": 52,
     "metadata": {},
     "output_type": "execute_result"
    }
   ],
   "source": [
    "not(False)"
   ]
  },
  {
   "cell_type": "code",
   "execution_count": 53,
   "id": "96a153c5",
   "metadata": {},
   "outputs": [
    {
     "data": {
      "text/plain": [
       "False"
      ]
     },
     "execution_count": 53,
     "metadata": {},
     "output_type": "execute_result"
    }
   ],
   "source": [
    "not(10<15)"
   ]
  },
  {
   "cell_type": "code",
   "execution_count": 54,
   "id": "cb82aedf",
   "metadata": {},
   "outputs": [
    {
     "data": {
      "text/plain": [
       "True"
      ]
     },
     "execution_count": 54,
     "metadata": {},
     "output_type": "execute_result"
    }
   ],
   "source": [
    "not(10>15)"
   ]
  },
  {
   "cell_type": "markdown",
   "id": "6d996f88",
   "metadata": {},
   "source": [
    "## identity Operators"
   ]
  },
  {
   "cell_type": "code",
   "execution_count": 55,
   "id": "5e1d58d1",
   "metadata": {},
   "outputs": [],
   "source": [
    "x,y = 10,15"
   ]
  },
  {
   "cell_type": "code",
   "execution_count": 56,
   "id": "5b67ce03",
   "metadata": {},
   "outputs": [
    {
     "data": {
      "text/plain": [
       "False"
      ]
     },
     "execution_count": 56,
     "metadata": {},
     "output_type": "execute_result"
    }
   ],
   "source": [
    "x is y"
   ]
  },
  {
   "cell_type": "code",
   "execution_count": 57,
   "id": "42966b57",
   "metadata": {},
   "outputs": [
    {
     "data": {
      "text/plain": [
       "True"
      ]
     },
     "execution_count": 57,
     "metadata": {},
     "output_type": "execute_result"
    }
   ],
   "source": [
    "x is not y"
   ]
  },
  {
   "cell_type": "markdown",
   "id": "64617b3e",
   "metadata": {},
   "source": [
    "## Membership Operators"
   ]
  },
  {
   "cell_type": "code",
   "execution_count": 59,
   "id": "6fd19695",
   "metadata": {},
   "outputs": [
    {
     "data": {
      "text/plain": [
       "True"
      ]
     },
     "execution_count": 59,
     "metadata": {},
     "output_type": "execute_result"
    }
   ],
   "source": [
    "x in [10,20,30,40]"
   ]
  },
  {
   "cell_type": "code",
   "execution_count": 60,
   "id": "3270449a",
   "metadata": {},
   "outputs": [
    {
     "data": {
      "text/plain": [
       "False"
      ]
     },
     "execution_count": 60,
     "metadata": {},
     "output_type": "execute_result"
    }
   ],
   "source": [
    "y in [10,20,30,40]"
   ]
  },
  {
   "cell_type": "markdown",
   "id": "24e820ee",
   "metadata": {},
   "source": [
    "## Bitwise Oprator"
   ]
  },
  {
   "cell_type": "code",
   "execution_count": 61,
   "id": "37841276",
   "metadata": {},
   "outputs": [
    {
     "data": {
      "text/plain": [
       "'0b1010'"
      ]
     },
     "execution_count": 61,
     "metadata": {},
     "output_type": "execute_result"
    }
   ],
   "source": [
    "bin(10)"
   ]
  },
  {
   "cell_type": "code",
   "execution_count": 62,
   "id": "69be3b52",
   "metadata": {},
   "outputs": [
    {
     "data": {
      "text/plain": [
       "8"
      ]
     },
     "execution_count": 62,
     "metadata": {},
     "output_type": "execute_result"
    }
   ],
   "source": [
    "10 & 12"
   ]
  },
  {
   "cell_type": "code",
   "execution_count": 63,
   "id": "91a94871",
   "metadata": {},
   "outputs": [
    {
     "data": {
      "text/plain": [
       "0"
      ]
     },
     "execution_count": 63,
     "metadata": {},
     "output_type": "execute_result"
    }
   ],
   "source": [
    "10 & 20"
   ]
  },
  {
   "cell_type": "code",
   "execution_count": 65,
   "id": "adb52804",
   "metadata": {},
   "outputs": [
    {
     "data": {
      "text/plain": [
       "14"
      ]
     },
     "execution_count": 65,
     "metadata": {},
     "output_type": "execute_result"
    }
   ],
   "source": [
    "10 | 12"
   ]
  },
  {
   "cell_type": "code",
   "execution_count": 66,
   "id": "61c81946",
   "metadata": {},
   "outputs": [
    {
     "data": {
      "text/plain": [
       "21"
      ]
     },
     "execution_count": 66,
     "metadata": {},
     "output_type": "execute_result"
    }
   ],
   "source": [
    "17 |20"
   ]
  },
  {
   "cell_type": "code",
   "execution_count": 67,
   "id": "7b075dfc",
   "metadata": {},
   "outputs": [
    {
     "data": {
      "text/plain": [
       "30"
      ]
     },
     "execution_count": 67,
     "metadata": {},
     "output_type": "execute_result"
    }
   ],
   "source": [
    "10 ^ 20"
   ]
  },
  {
   "cell_type": "code",
   "execution_count": 68,
   "id": "fc4b6d77",
   "metadata": {},
   "outputs": [
    {
     "data": {
      "text/plain": [
       "15"
      ]
     },
     "execution_count": 68,
     "metadata": {},
     "output_type": "execute_result"
    }
   ],
   "source": [
    "10^5"
   ]
  },
  {
   "cell_type": "code",
   "execution_count": 69,
   "id": "c5ff453a",
   "metadata": {},
   "outputs": [
    {
     "data": {
      "text/plain": [
       "4"
      ]
     },
     "execution_count": 69,
     "metadata": {},
     "output_type": "execute_result"
    }
   ],
   "source": [
    "7^3"
   ]
  },
  {
   "cell_type": "markdown",
   "id": "e476ffc8",
   "metadata": {},
   "source": [
    "## Right Shift and Left Shift"
   ]
  },
  {
   "cell_type": "code",
   "execution_count": 70,
   "id": "33af667b",
   "metadata": {},
   "outputs": [
    {
     "data": {
      "text/plain": [
       "2"
      ]
     },
     "execution_count": 70,
     "metadata": {},
     "output_type": "execute_result"
    }
   ],
   "source": [
    "10 >> 2"
   ]
  },
  {
   "cell_type": "code",
   "execution_count": 71,
   "id": "c910704f",
   "metadata": {},
   "outputs": [
    {
     "data": {
      "text/plain": [
       "40"
      ]
     },
     "execution_count": 71,
     "metadata": {},
     "output_type": "execute_result"
    }
   ],
   "source": [
    "10 <<2"
   ]
  },
  {
   "cell_type": "markdown",
   "id": "0b953402",
   "metadata": {},
   "source": [
    "## COnditional Statements"
   ]
  },
  {
   "cell_type": "code",
   "execution_count": 72,
   "id": "dba6f274",
   "metadata": {},
   "outputs": [
    {
     "name": "stdout",
     "output_type": "stream",
     "text": [
      "10 is less than 15\n"
     ]
    }
   ],
   "source": [
    "if 10<15:\n",
    "    print(\"10 is less than 15\")"
   ]
  },
  {
   "cell_type": "code",
   "execution_count": 74,
   "id": "319b543b",
   "metadata": {},
   "outputs": [
    {
     "name": "stdout",
     "output_type": "stream",
     "text": [
      "15 is greater than 10\n"
     ]
    }
   ],
   "source": [
    "if 10>15:\n",
    "    print(\"10 is less than 15\")\n",
    "else:\n",
    "    print(\"15 is greater than 10\")"
   ]
  },
  {
   "cell_type": "code",
   "execution_count": 2,
   "id": "0babf265",
   "metadata": {},
   "outputs": [
    {
     "name": "stdout",
     "output_type": "stream",
     "text": [
      "Enter the number :20\n",
      "b\n"
     ]
    }
   ],
   "source": [
    "a = int(input(\"Enter the number :\"))\n",
    "if a<15:\n",
    "    print('a')\n",
    "elif a==20:\n",
    "    print('b')\n",
    "else:\n",
    "    print('c')"
   ]
  },
  {
   "cell_type": "code",
   "execution_count": 5,
   "id": "16153a55",
   "metadata": {},
   "outputs": [
    {
     "name": "stdout",
     "output_type": "stream",
     "text": [
      "1\n",
      "2\n",
      "3\n",
      "4\n"
     ]
    }
   ],
   "source": [
    "for i in range(1,5):\n",
    "    print(i)"
   ]
  },
  {
   "cell_type": "code",
   "execution_count": 6,
   "id": "9401b6b1",
   "metadata": {},
   "outputs": [
    {
     "name": "stdout",
     "output_type": "stream",
     "text": [
      "1\n",
      "3\n"
     ]
    }
   ],
   "source": [
    "for i in range(1,5,2):\n",
    "    print(i)"
   ]
  },
  {
   "cell_type": "code",
   "execution_count": 10,
   "id": "2e6606a5",
   "metadata": {},
   "outputs": [
    {
     "name": "stdout",
     "output_type": "stream",
     "text": [
      "1\n",
      "2\n",
      "3\n",
      "4\n",
      "5\n",
      "6\n",
      "7\n",
      "8\n",
      "9\n",
      "10\n"
     ]
    }
   ],
   "source": [
    "for i in range(0,10):\n",
    "    a=i+1\n",
    "    print(a)"
   ]
  },
  {
   "cell_type": "code",
   "execution_count": 12,
   "id": "a08279ce",
   "metadata": {},
   "outputs": [
    {
     "name": "stdout",
     "output_type": "stream",
     "text": [
      "2\n",
      "4\n",
      "6\n",
      "8\n",
      "10\n",
      "12\n",
      "14\n",
      "16\n",
      "18\n",
      "20\n"
     ]
    }
   ],
   "source": [
    "for i in range(1,11):\n",
    "    print(i*2)"
   ]
  },
  {
   "cell_type": "code",
   "execution_count": 14,
   "id": "3c5c0c9f",
   "metadata": {},
   "outputs": [],
   "source": [
    "b = \"lenovo\""
   ]
  },
  {
   "cell_type": "code",
   "execution_count": 15,
   "id": "7fe7a854",
   "metadata": {},
   "outputs": [
    {
     "data": {
      "text/plain": [
       "'le'"
      ]
     },
     "execution_count": 15,
     "metadata": {},
     "output_type": "execute_result"
    }
   ],
   "source": [
    "b[0:-4]"
   ]
  },
  {
   "cell_type": "code",
   "execution_count": 16,
   "id": "f925651a",
   "metadata": {},
   "outputs": [
    {
     "data": {
      "text/plain": [
       "'len'"
      ]
     },
     "execution_count": 16,
     "metadata": {},
     "output_type": "execute_result"
    }
   ],
   "source": [
    "b[0:-3]"
   ]
  },
  {
   "cell_type": "code",
   "execution_count": 18,
   "id": "7578927c",
   "metadata": {},
   "outputs": [
    {
     "data": {
      "text/plain": [
       "'o'"
      ]
     },
     "execution_count": 18,
     "metadata": {},
     "output_type": "execute_result"
    }
   ],
   "source": [
    "b[-1:-2:-1]"
   ]
  },
  {
   "cell_type": "markdown",
   "id": "6e2533a8",
   "metadata": {},
   "source": [
    "## Nested for loop"
   ]
  },
  {
   "cell_type": "code",
   "execution_count": 20,
   "id": "52b356fb",
   "metadata": {},
   "outputs": [
    {
     "name": "stdout",
     "output_type": "stream",
     "text": [
      "1 1\n",
      "1 10\n",
      "2 1\n",
      "2 10\n",
      "3 1\n",
      "3 10\n",
      "4 1\n",
      "4 10\n",
      "5 1\n",
      "5 10\n",
      "6 1\n",
      "6 10\n",
      "7 1\n",
      "7 10\n",
      "8 1\n",
      "8 10\n",
      "9 1\n",
      "9 10\n"
     ]
    }
   ],
   "source": [
    "for i in range(1,10):\n",
    "    for j in (1,10):\n",
    "        print(i,j)"
   ]
  },
  {
   "cell_type": "markdown",
   "id": "ef98a090",
   "metadata": {},
   "source": [
    "## While loop"
   ]
  },
  {
   "cell_type": "code",
   "execution_count": 1,
   "id": "69f9198c",
   "metadata": {},
   "outputs": [
    {
     "name": "stdout",
     "output_type": "stream",
     "text": [
      "0\n",
      "1\n",
      "2\n",
      "3\n",
      "4\n"
     ]
    }
   ],
   "source": [
    "i = 0\n",
    "while i<5:\n",
    "    print(i)\n",
    "    i=i+1"
   ]
  },
  {
   "cell_type": "markdown",
   "id": "0dc32691",
   "metadata": {},
   "source": [
    "## Break, Pass & Continue"
   ]
  },
  {
   "cell_type": "code",
   "execution_count": 2,
   "id": "0f02886a",
   "metadata": {},
   "outputs": [
    {
     "name": "stdout",
     "output_type": "stream",
     "text": [
      "0\n",
      "1\n",
      "2\n",
      "3\n",
      "4\n"
     ]
    }
   ],
   "source": [
    "i = 0\n",
    "while i<100:\n",
    "    print(i)\n",
    "    i=i+1\n",
    "    if i==5:\n",
    "        break"
   ]
  },
  {
   "cell_type": "code",
   "execution_count": 9,
   "id": "d6680154",
   "metadata": {},
   "outputs": [
    {
     "name": "stdout",
     "output_type": "stream",
     "text": [
      "0\n",
      "1\n",
      "2\n",
      "3\n",
      "4\n",
      "i am\n",
      "5\n",
      "6\n",
      "7\n",
      "8\n",
      "9\n"
     ]
    }
   ],
   "source": [
    "i = 0\n",
    "while i<10:\n",
    "    print(i)\n",
    "    i=i+1\n",
    "    if i==5:\n",
    "        pass\n",
    "        print('i am')"
   ]
  },
  {
   "cell_type": "code",
   "execution_count": 10,
   "id": "a2a4efb9",
   "metadata": {},
   "outputs": [
    {
     "name": "stdout",
     "output_type": "stream",
     "text": [
      "0\n",
      "1\n",
      "2\n",
      "3\n",
      "4\n",
      "5\n",
      "6\n",
      "7\n",
      "8\n",
      "9\n"
     ]
    }
   ],
   "source": [
    "i = 0\n",
    "while i<10:\n",
    "    print(i)\n",
    "    i=i+1\n",
    "    if i==5:\n",
    "        continue\n",
    "        print(\"vijay\")"
   ]
  },
  {
   "cell_type": "markdown",
   "id": "0d5f9eb7",
   "metadata": {},
   "source": [
    "## Nested Loops"
   ]
  },
  {
   "cell_type": "code",
   "execution_count": 12,
   "id": "82bf291e",
   "metadata": {},
   "outputs": [
    {
     "name": "stdout",
     "output_type": "stream",
     "text": [
      "10 is less than 15 and 12\n"
     ]
    }
   ],
   "source": [
    "if 10<15:\n",
    "    if 10<12:\n",
    "        print(\"10 is less than 15 and 12\")"
   ]
  },
  {
   "cell_type": "markdown",
   "id": "f23bce47",
   "metadata": {},
   "source": [
    "## for loop"
   ]
  },
  {
   "cell_type": "code",
   "execution_count": 14,
   "id": "9bd9dbc6",
   "metadata": {},
   "outputs": [
    {
     "name": "stdout",
     "output_type": "stream",
     "text": [
      "i--> 0 j--> 20\n",
      "i--> 0 j--> 21\n",
      "i--> 0 j--> 22\n",
      "i--> 2 j--> 20\n",
      "i--> 2 j--> 21\n",
      "i--> 2 j--> 22\n",
      "i--> 4 j--> 20\n",
      "i--> 4 j--> 21\n",
      "i--> 4 j--> 22\n",
      "i--> 6 j--> 20\n",
      "i--> 6 j--> 21\n",
      "i--> 6 j--> 22\n",
      "i--> 8 j--> 20\n",
      "i--> 8 j--> 21\n",
      "i--> 8 j--> 22\n"
     ]
    }
   ],
   "source": [
    "for i in range(0,10,2):\n",
    "    for j in range(20,23):\n",
    "        print(\"i-->\", i, \"j-->\",j)"
   ]
  },
  {
   "cell_type": "code",
   "execution_count": 36,
   "id": "9eaf314d",
   "metadata": {},
   "outputs": [
    {
     "name": "stdout",
     "output_type": "stream",
     "text": [
      "2\n",
      "vijay\n",
      "vijay\n",
      "vijay\n"
     ]
    }
   ],
   "source": [
    "i = int(input())\n",
    "while i<5:\n",
    "    print(\"vijay\")\n",
    "    i = i+1"
   ]
  },
  {
   "cell_type": "code",
   "execution_count": 41,
   "id": "a985d550",
   "metadata": {},
   "outputs": [
    {
     "name": "stdout",
     "output_type": "stream",
     "text": [
      "vijay\n",
      "vijay\n",
      "vijay\n",
      "vijay\n",
      "vijay\n"
     ]
    }
   ],
   "source": [
    "for i in range(0,10):\n",
    "    while(i<5):\n",
    "        print(\"vijay\")\n",
    "        break\n"
   ]
  },
  {
   "cell_type": "code",
   "execution_count": null,
   "id": "11b2b583",
   "metadata": {},
   "outputs": [],
   "source": []
  }
 ],
 "metadata": {
  "kernelspec": {
   "display_name": "Python 3 (ipykernel)",
   "language": "python",
   "name": "python3"
  },
  "language_info": {
   "codemirror_mode": {
    "name": "ipython",
    "version": 3
   },
   "file_extension": ".py",
   "mimetype": "text/x-python",
   "name": "python",
   "nbconvert_exporter": "python",
   "pygments_lexer": "ipython3",
   "version": "3.9.13"
  }
 },
 "nbformat": 4,
 "nbformat_minor": 5
}
