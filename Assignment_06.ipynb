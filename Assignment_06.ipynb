{
 "cells": [
  {
   "cell_type": "markdown",
   "id": "6ea86b45",
   "metadata": {},
   "source": [
    "# Q. 1. What are escape characters, and how do you use them?"
   ]
  },
  {
   "cell_type": "code",
   "execution_count": null,
   "id": "31df7f30",
   "metadata": {},
   "outputs": [],
   "source": [
    "In Python strings, the backslash \"\\\" is a special character, also called the \"escape\" character. \n",
    "\n",
    "It is used in representing certain whitespace characters: \"\\t\" is a tab, \"\\n\" is a newline, and \"\\r\" is a carriage return\n",
    "\n",
    "1.   \\   single Quote\n",
    "\n",
    "2.  \\\\  Backslash\n",
    "\n",
    "3.  \\n  new  line\n",
    "\n",
    "4.  \\t  Tab\n",
    "\n",
    "5.  \\b  Backspace\n",
    " \n",
    "    It is used as below\n"
   ]
  },
  {
   "cell_type": "code",
   "execution_count": 8,
   "id": "03ef23a2",
   "metadata": {},
   "outputs": [
    {
     "name": "stdout",
     "output_type": "stream",
     "text": [
      "Ineuron\\s\n"
     ]
    }
   ],
   "source": [
    "a= 'Ineuron\\s'\n",
    "print(a) "
   ]
  },
  {
   "cell_type": "code",
   "execution_count": 9,
   "id": "a11abe7c",
   "metadata": {},
   "outputs": [
    {
     "name": "stdout",
     "output_type": "stream",
     "text": [
      "This is oneneuron \\ (backslash).\n"
     ]
    }
   ],
   "source": [
    "b = \"This is oneneuron \\\\ (backslash).\"\n",
    "print(b) \n"
   ]
  },
  {
   "cell_type": "code",
   "execution_count": 6,
   "id": "ec999a88",
   "metadata": {},
   "outputs": [
    {
     "name": "stdout",
     "output_type": "stream",
     "text": [
      "welcone\n",
      "all\n"
     ]
    }
   ],
   "source": [
    "c = \"welcone\\nall\"\n",
    "print(c) \n",
    "# used for new line"
   ]
  },
  {
   "cell_type": "code",
   "execution_count": 12,
   "id": "823e2d5d",
   "metadata": {},
   "outputs": [
    {
     "name": "stdout",
     "output_type": "stream",
     "text": [
      "good\tmorning\n"
     ]
    }
   ],
   "source": [
    "d = \"good\\tmorning\"\n",
    "print(d) \n",
    "# Used for tab"
   ]
  },
  {
   "cell_type": "code",
   "execution_count": 13,
   "id": "23782f1c",
   "metadata": {},
   "outputs": [
    {
     "name": "stdout",
     "output_type": "stream",
     "text": [
      "Hello \bWorld!\n"
     ]
    }
   ],
   "source": [
    "e = \"Hello \\bWorld!\"\n",
    "print(e) "
   ]
  },
  {
   "cell_type": "markdown",
   "id": "f6f8428e",
   "metadata": {},
   "source": [
    "# Q. 2. What do the escape characters n and t stand for?"
   ]
  },
  {
   "cell_type": "markdown",
   "id": "a86c6a5a",
   "metadata": {},
   "source": [
    "\"\\n\" this is for new line\n",
    "\n",
    "\"\\t\"  this is for tab"
   ]
  },
  {
   "cell_type": "markdown",
   "id": "80368bf6",
   "metadata": {},
   "source": [
    "# Q.3. What is the way to include backslash characters in a string?"
   ]
  },
  {
   "cell_type": "code",
   "execution_count": 16,
   "id": "e23c9f5d",
   "metadata": {},
   "outputs": [
    {
     "name": "stdout",
     "output_type": "stream",
     "text": [
      "this is \\ one neuron\n"
     ]
    }
   ],
   "source": [
    "print('this is \\\\ one neuron')"
   ]
  },
  {
   "cell_type": "markdown",
   "id": "629d123b",
   "metadata": {},
   "source": [
    "# Q. 4. The string \"Howl's Moving Castle\" is a correct value. Why isn't the single quote character in the word Howl's not escaped a problem?"
   ]
  },
  {
   "cell_type": "code",
   "execution_count": 17,
   "id": "e4144a98",
   "metadata": {},
   "outputs": [
    {
     "name": "stdout",
     "output_type": "stream",
     "text": [
      "Howl's Moving Castle\n"
     ]
    }
   ],
   "source": [
    "print(\"Howl's Moving Castle\")"
   ]
  },
  {
   "cell_type": "code",
   "execution_count": 19,
   "id": "9a779a2b",
   "metadata": {},
   "outputs": [
    {
     "name": "stdout",
     "output_type": "stream",
     "text": [
      "Have a 'Good' Day\n"
     ]
    }
   ],
   "source": [
    "print(\"Have a 'Good' Day\")"
   ]
  },
  {
   "cell_type": "markdown",
   "id": "43fb8871",
   "metadata": {},
   "source": [
    "There is no problem  in both way"
   ]
  },
  {
   "cell_type": "markdown",
   "id": "aeaf2264",
   "metadata": {},
   "source": [
    "# Q. 5. How do you write a string of newlines if you don't want to use the n character?"
   ]
  },
  {
   "cell_type": "markdown",
   "id": "eec71108",
   "metadata": {},
   "source": [
    "**If we dont want \"\\n\" then we can use default value**"
   ]
  },
  {
   "cell_type": "code",
   "execution_count": 20,
   "id": "3deada0b",
   "metadata": {},
   "outputs": [
    {
     "name": "stdout",
     "output_type": "stream",
     "text": [
      "hello\n",
      "welcome\n"
     ]
    }
   ],
   "source": [
    "print(\"hello\")\n",
    "print(\"welcome\")"
   ]
  },
  {
   "cell_type": "markdown",
   "id": "2b0f1372",
   "metadata": {},
   "source": [
    "# Q. 6. What are the values of the given expressions?"
   ]
  },
  {
   "cell_type": "markdown",
   "id": "c6359004",
   "metadata": {},
   "source": [
    "'Hello,world!'[1]\n",
    "\n",
    "'Hello,world!'[0:5]\n",
    "\n",
    "'Hello,world!'[:5]\n",
    "\n",
    "'Hello,world!'[3:]"
   ]
  },
  {
   "cell_type": "code",
   "execution_count": 27,
   "id": "0f53333f",
   "metadata": {},
   "outputs": [
    {
     "data": {
      "text/plain": [
       "'e'"
      ]
     },
     "execution_count": 27,
     "metadata": {},
     "output_type": "execute_result"
    }
   ],
   "source": [
    "'Hello,world!'[1]"
   ]
  },
  {
   "cell_type": "code",
   "execution_count": 28,
   "id": "6d577cf5",
   "metadata": {},
   "outputs": [
    {
     "data": {
      "text/plain": [
       "'Hello'"
      ]
     },
     "execution_count": 28,
     "metadata": {},
     "output_type": "execute_result"
    }
   ],
   "source": [
    "'Hello,world!'[0:5]"
   ]
  },
  {
   "cell_type": "code",
   "execution_count": 29,
   "id": "b0ef901f",
   "metadata": {},
   "outputs": [
    {
     "data": {
      "text/plain": [
       "'Hello'"
      ]
     },
     "execution_count": 29,
     "metadata": {},
     "output_type": "execute_result"
    }
   ],
   "source": [
    "'Hello world!'[:5]"
   ]
  },
  {
   "cell_type": "code",
   "execution_count": 30,
   "id": "f752c382",
   "metadata": {},
   "outputs": [
    {
     "data": {
      "text/plain": [
       "'lo,world!'"
      ]
     },
     "execution_count": 30,
     "metadata": {},
     "output_type": "execute_result"
    }
   ],
   "source": [
    "'Hello,world!'[3:]"
   ]
  },
  {
   "cell_type": "markdown",
   "id": "ee8dd38d",
   "metadata": {},
   "source": [
    "# Q. 7. What are the values of the following expressions?"
   ]
  },
  {
   "cell_type": "code",
   "execution_count": 31,
   "id": "c658666f",
   "metadata": {},
   "outputs": [
    {
     "data": {
      "text/plain": [
       "'HELLO'"
      ]
     },
     "execution_count": 31,
     "metadata": {},
     "output_type": "execute_result"
    }
   ],
   "source": [
    "'Hello'.upper()"
   ]
  },
  {
   "cell_type": "code",
   "execution_count": 32,
   "id": "4902997d",
   "metadata": {},
   "outputs": [
    {
     "data": {
      "text/plain": [
       "True"
      ]
     },
     "execution_count": 32,
     "metadata": {},
     "output_type": "execute_result"
    }
   ],
   "source": [
    "'Hello'.upper().isupper()"
   ]
  },
  {
   "cell_type": "code",
   "execution_count": 33,
   "id": "2bb344b5",
   "metadata": {},
   "outputs": [
    {
     "data": {
      "text/plain": [
       "'hello'"
      ]
     },
     "execution_count": 33,
     "metadata": {},
     "output_type": "execute_result"
    }
   ],
   "source": [
    "'Hello'.upper().lower()"
   ]
  },
  {
   "cell_type": "markdown",
   "id": "1a7dc453",
   "metadata": {},
   "source": [
    "# Q. 8. What are the values of the following expressions?"
   ]
  },
  {
   "cell_type": "markdown",
   "id": "d7f3b31c",
   "metadata": {},
   "source": [
    "'Remember,remember,thr fifth of july'.split()\n",
    "\n",
    "it will return the list of words"
   ]
  },
  {
   "cell_type": "code",
   "execution_count": 56,
   "id": "e849892f",
   "metadata": {},
   "outputs": [
    {
     "data": {
      "text/plain": [
       "['Remember,remember,thr', 'fifth', 'of', 'july']"
      ]
     },
     "execution_count": 56,
     "metadata": {},
     "output_type": "execute_result"
    }
   ],
   "source": [
    "'Remember,remember,thr fifth of july'.split()"
   ]
  },
  {
   "cell_type": "markdown",
   "id": "a0bb9288",
   "metadata": {},
   "source": [
    "# Q. 9. What are the methods for right-justifying, left-justifying, and centering a string?"
   ]
  },
  {
   "cell_type": "markdown",
   "id": "19ee57ab",
   "metadata": {},
   "source": [
    "**Ans**\n",
    "\n",
    "    the left align ljust(), right align rjust() and center() string methods are respectively.\n"
   ]
  },
  {
   "cell_type": "markdown",
   "id": "d84db2b9",
   "metadata": {},
   "source": [
    "# Q. 10. What is the best way to remove whitespace characters from the start or end?"
   ]
  },
  {
   "cell_type": "markdown",
   "id": "06a3195f",
   "metadata": {},
   "source": [
    "**Ans** \n",
    "\n",
    "    The lstrip() and rstrip() methods remove whitespace characters from the left and right ends of a string. "
   ]
  },
  {
   "cell_type": "code",
   "execution_count": null,
   "id": "cfe8a1a8",
   "metadata": {},
   "outputs": [],
   "source": []
  }
 ],
 "metadata": {
  "kernelspec": {
   "display_name": "Python 3 (ipykernel)",
   "language": "python",
   "name": "python3"
  },
  "language_info": {
   "codemirror_mode": {
    "name": "ipython",
    "version": 3
   },
   "file_extension": ".py",
   "mimetype": "text/x-python",
   "name": "python",
   "nbconvert_exporter": "python",
   "pygments_lexer": "ipython3",
   "version": "3.9.7"
  }
 },
 "nbformat": 4,
 "nbformat_minor": 5
}
