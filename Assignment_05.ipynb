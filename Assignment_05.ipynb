{
 "cells": [
  {
   "cell_type": "markdown",
   "id": "8dcb3f54",
   "metadata": {},
   "source": [
    "# Q. 1. What does an empty dictionary's code look like?"
   ]
  },
  {
   "cell_type": "code",
   "execution_count": 1,
   "id": "8fc3875f",
   "metadata": {},
   "outputs": [
    {
     "data": {
      "text/plain": [
       "dict"
      ]
     },
     "execution_count": 1,
     "metadata": {},
     "output_type": "execute_result"
    }
   ],
   "source": [
    "D = {}\n",
    "type(D)"
   ]
  },
  {
   "cell_type": "markdown",
   "id": "2de01691",
   "metadata": {},
   "source": [
    "It look like  a **Set**\n",
    "\n",
    "Here empty dictionary is dictionary but if you add element over there without \n",
    "\n",
    "key and value pair,it is going to be set as shown below"
   ]
  },
  {
   "cell_type": "code",
   "execution_count": null,
   "id": "071abafa",
   "metadata": {},
   "outputs": [],
   "source": [
    "D = {1,2,3}\n",
    "type(D)"
   ]
  },
  {
   "cell_type": "markdown",
   "id": "f8f8c1d3",
   "metadata": {},
   "source": [
    "# Q. 2. What is the value of a dictionary value with the key 'foo' and the value 42?"
   ]
  },
  {
   "cell_type": "code",
   "execution_count": 4,
   "id": "1195f689",
   "metadata": {},
   "outputs": [],
   "source": [
    "d = {\"foo\" : 42}"
   ]
  },
  {
   "cell_type": "code",
   "execution_count": 5,
   "id": "c056edf4",
   "metadata": {},
   "outputs": [
    {
     "data": {
      "text/plain": [
       "42"
      ]
     },
     "execution_count": 5,
     "metadata": {},
     "output_type": "execute_result"
    }
   ],
   "source": [
    "d['foo']"
   ]
  },
  {
   "cell_type": "markdown",
   "id": "65903509",
   "metadata": {},
   "source": [
    "# Q. 3. What is the most significant distinction between a dictionary and a list?"
   ]
  },
  {
   "cell_type": "markdown",
   "id": "9a10c5fe",
   "metadata": {},
   "source": [
    "The most significant difference is dictionaries are accessed via key and list accessed via their position\n",
    "as we as list is an ordered and dictionary are unorederd."
   ]
  },
  {
   "cell_type": "markdown",
   "id": "f89ccecb",
   "metadata": {},
   "source": [
    "# Q. 4. What happens if you try to access spam['foo'] if spam is {'bar': 100}?"
   ]
  },
  {
   "cell_type": "code",
   "execution_count": 10,
   "id": "127b86b0",
   "metadata": {},
   "outputs": [],
   "source": [
    "spam = {'bar' : 100}"
   ]
  },
  {
   "cell_type": "code",
   "execution_count": 13,
   "id": "ef69052c",
   "metadata": {},
   "outputs": [
    {
     "ename": "KeyError",
     "evalue": "'foo'",
     "output_type": "error",
     "traceback": [
      "\u001b[1;31m---------------------------------------------------------------------------\u001b[0m",
      "\u001b[1;31mKeyError\u001b[0m                                  Traceback (most recent call last)",
      "\u001b[1;32m~\\AppData\\Local\\Temp/ipykernel_5016/3999281786.py\u001b[0m in \u001b[0;36m<module>\u001b[1;34m\u001b[0m\n\u001b[1;32m----> 1\u001b[1;33m \u001b[0mspam\u001b[0m\u001b[1;33m[\u001b[0m\u001b[1;34m'foo'\u001b[0m\u001b[1;33m]\u001b[0m\u001b[1;33m\u001b[0m\u001b[1;33m\u001b[0m\u001b[0m\n\u001b[0m",
      "\u001b[1;31mKeyError\u001b[0m: 'foo'"
     ]
    }
   ],
   "source": [
    "spam['foo']"
   ]
  },
  {
   "cell_type": "markdown",
   "id": "d212b24e",
   "metadata": {},
   "source": [
    "**Showing KeyError because there is 'foo' key not present.**"
   ]
  },
  {
   "cell_type": "markdown",
   "id": "a6d34994",
   "metadata": {},
   "source": [
    "# Q. 5. If a dictionary is stored in spam, what is the difference between the expressions 'cat' in spam and 'cat' in spam.keys()?"
   ]
  },
  {
   "cell_type": "markdown",
   "id": "ae335465",
   "metadata": {},
   "source": [
    "Both statements are same, checking 'cat' key available or Not."
   ]
  },
  {
   "cell_type": "code",
   "execution_count": 15,
   "id": "8a9fd618",
   "metadata": {},
   "outputs": [
    {
     "data": {
      "text/plain": [
       "True"
      ]
     },
     "execution_count": 15,
     "metadata": {},
     "output_type": "execute_result"
    }
   ],
   "source": [
    "spam = {'cat' : 123}\n",
    "'cat' in spam"
   ]
  },
  {
   "cell_type": "code",
   "execution_count": 16,
   "id": "7ea2cbfe",
   "metadata": {},
   "outputs": [
    {
     "data": {
      "text/plain": [
       "True"
      ]
     },
     "execution_count": 16,
     "metadata": {},
     "output_type": "execute_result"
    }
   ],
   "source": [
    "'cat' in spam.keys()"
   ]
  },
  {
   "cell_type": "markdown",
   "id": "1f3dc084",
   "metadata": {},
   "source": [
    "# Q. 6. If a dictionary is stored in spam, what is the difference between the expressions 'cat' in spam and 'cat' in spam.values()?"
   ]
  },
  {
   "cell_type": "code",
   "execution_count": 17,
   "id": "96167770",
   "metadata": {},
   "outputs": [
    {
     "data": {
      "text/plain": [
       "True"
      ]
     },
     "execution_count": 17,
     "metadata": {},
     "output_type": "execute_result"
    }
   ],
   "source": [
    "spam = {'cat' : 100}\n",
    "'cat' in spam"
   ]
  },
  {
   "cell_type": "code",
   "execution_count": 18,
   "id": "d494d2c4",
   "metadata": {},
   "outputs": [
    {
     "data": {
      "text/plain": [
       "False"
      ]
     },
     "execution_count": 18,
     "metadata": {},
     "output_type": "execute_result"
    }
   ],
   "source": [
    "'cat' in spam.values()"
   ]
  },
  {
   "cell_type": "markdown",
   "id": "50936501",
   "metadata": {},
   "source": [
    "# Q. 7. What is a shortcut for the following code?\n",
    "\n",
    "if color not in spam:\n",
    "    \n",
    "spam ['color'] = 'black'"
   ]
  },
  {
   "cell_type": "code",
   "execution_count": 21,
   "id": "934b0f25",
   "metadata": {},
   "outputs": [
    {
     "data": {
      "text/plain": [
       "{'cat': 100, 'color': 'black'}"
      ]
     },
     "execution_count": 21,
     "metadata": {},
     "output_type": "execute_result"
    }
   ],
   "source": [
    "spam = {'cat' : 100}\n",
    "spam.setdefault('color', 'black')\n",
    "spam"
   ]
  },
  {
   "cell_type": "markdown",
   "id": "5f6a9b74",
   "metadata": {},
   "source": [
    "# Q. 8. How do you \"pretty print\" dictionary values using which module and function?"
   ]
  },
  {
   "cell_type": "code",
   "execution_count": 22,
   "id": "0a65d5a2",
   "metadata": {},
   "outputs": [
    {
     "name": "stdout",
     "output_type": "stream",
     "text": [
      "{'cat': 100, 'color': 'black'}\n"
     ]
    }
   ],
   "source": [
    "import pprint\n",
    "pprint.pprint(spam)"
   ]
  },
  {
   "cell_type": "markdown",
   "id": "8e51947b",
   "metadata": {},
   "source": [
    " pprint.pprint(dictionary_name)\n",
    "\n",
    "pprint is used for easy readable to user "
   ]
  },
  {
   "cell_type": "code",
   "execution_count": null,
   "id": "f378574b",
   "metadata": {},
   "outputs": [],
   "source": []
  }
 ],
 "metadata": {
  "kernelspec": {
   "display_name": "Python 3 (ipykernel)",
   "language": "python",
   "name": "python3"
  },
  "language_info": {
   "codemirror_mode": {
    "name": "ipython",
    "version": 3
   },
   "file_extension": ".py",
   "mimetype": "text/x-python",
   "name": "python",
   "nbconvert_exporter": "python",
   "pygments_lexer": "ipython3",
   "version": "3.9.7"
  }
 },
 "nbformat": 4,
 "nbformat_minor": 5
}
