{
 "cells": [
  {
   "cell_type": "markdown",
   "id": "520289f3",
   "metadata": {},
   "source": [
    "## Python Exam"
   ]
  },
  {
   "cell_type": "code",
   "execution_count": 172,
   "id": "19b2ae55",
   "metadata": {},
   "outputs": [],
   "source": [
    "import pandas as pd"
   ]
  },
  {
   "cell_type": "markdown",
   "id": "13619c4b",
   "metadata": {},
   "source": [
    "### Q.1 Count all letters, digits, and special symbols from a given string\n",
    "\n",
    "str1 = \"I@#ma26rt^&ic5us\"\n"
   ]
  },
  {
   "cell_type": "code",
   "execution_count": 173,
   "id": "29452cd0",
   "metadata": {},
   "outputs": [],
   "source": [
    "str1 = \"I@#ma26rt^&ic5us\""
   ]
  },
  {
   "cell_type": "code",
   "execution_count": 174,
   "id": "0bdf4e21",
   "metadata": {},
   "outputs": [
    {
     "data": {
      "text/plain": [
       "'I@#ma26rt^&ic5us'"
      ]
     },
     "execution_count": 174,
     "metadata": {},
     "output_type": "execute_result"
    }
   ],
   "source": [
    "str1"
   ]
  },
  {
   "cell_type": "code",
   "execution_count": 175,
   "id": "b358d588",
   "metadata": {},
   "outputs": [
    {
     "name": "stdout",
     "output_type": "stream",
     "text": [
      "letters are : ['I', 'm', 'a', 'r', 't', 'i', 'c', 'u', 's']\n",
      "Count of letters is 9\n",
      "\n",
      "digits are  : ['2', '6', '5']\n",
      "Count of digit is 3\n",
      "\n",
      "special symbols are : ['@', '#', '^', '&']\n",
      "Count of special symbols is 4\n"
     ]
    }
   ],
   "source": [
    "digit = []\n",
    "letters = []\n",
    "special = []\n",
    "for i in str1:\n",
    "    if i.isdigit():\n",
    "        digit.append(i)\n",
    "    elif i.isalpha():\n",
    "        letters.append(i)\n",
    "    else:\n",
    "        special.append(i)\n",
    "    \n",
    "print(\"letters are : {}\".format(letters))\n",
    "print(\"Count of letters is\",len(letters))\n",
    "print()\n",
    "print(\"digits are  : {}\".format(digit))\n",
    "print(\"Count of digit is\",len(digit))\n",
    "print()\n",
    "print(\"special symbols are : {}\".format(special))\n",
    "print(\"Count of special symbols is\",len(special))\n",
    "\n",
    "        "
   ]
  },
  {
   "cell_type": "markdown",
   "id": "827a4e8b",
   "metadata": {},
   "source": [
    "## Q.2  Write a Python program to find numbers divisible by nineteen or thirteen from a list of numbers using Lambda.\n",
    "a=[19, 65, 57, 39, 152, 639, 121, 44, 90, 190]\n"
   ]
  },
  {
   "cell_type": "code",
   "execution_count": 176,
   "id": "3eed1707",
   "metadata": {},
   "outputs": [],
   "source": [
    "a = [19, 65, 57, 39, 152, 639, 121, 44, 90, 190]\n",
    "l1 = list(filter(lambda x:x%19 == 0 or x%13 == 0,a))"
   ]
  },
  {
   "cell_type": "code",
   "execution_count": 177,
   "id": "0b656212",
   "metadata": {},
   "outputs": [
    {
     "data": {
      "text/plain": [
       "[19, 65, 57, 39, 152, 190]"
      ]
     },
     "execution_count": 177,
     "metadata": {},
     "output_type": "execute_result"
    }
   ],
   "source": [
    "l1  # these are the numbers which are divisible by 19 & 13"
   ]
  },
  {
   "cell_type": "markdown",
   "id": "084430a5",
   "metadata": {},
   "source": [
    "## Q.3 Find all of the words in a string that are less than 5 letters.\n",
    "string = \"Practice Problems to Drill List Comprehension in \n",
    "Your Head.\"\n"
   ]
  },
  {
   "cell_type": "code",
   "execution_count": 178,
   "id": "d1769bc3",
   "metadata": {},
   "outputs": [],
   "source": [
    "string = \"Practice Problems to Drill List Comprehension in Your Head.\"\n",
    "l2 = list(string.split())"
   ]
  },
  {
   "cell_type": "code",
   "execution_count": 179,
   "id": "fd4c3e93",
   "metadata": {},
   "outputs": [
    {
     "name": "stdout",
     "output_type": "stream",
     "text": [
      "to\n",
      "List\n",
      "in\n",
      "Your\n"
     ]
    }
   ],
   "source": [
    "for i in l2:\n",
    "    if len(i)<5:\n",
    "        print(i)"
   ]
  },
  {
   "cell_type": "markdown",
   "id": "51ed93a7",
   "metadata": {},
   "source": [
    "## Q4. Calculate income tax for the given income by adhering to the below rules:"
   ]
  },
  {
   "cell_type": "raw",
   "id": "fbfe48ff",
   "metadata": {},
   "source": [
    "Taxable income Rate (in %)\n",
    "First $10,000 0\n",
    "Next $10,000 10\n",
    "The remaining 20\n",
    "\n",
    "Expected Output:\n",
    "For example, suppose the taxable income is 45000 the \n",
    "income tax payable is:\n",
    "10000 0% + 10000 10% + 25000 20% = $6000.\n"
   ]
  },
  {
   "cell_type": "code",
   "execution_count": 180,
   "id": "08e212d9",
   "metadata": {},
   "outputs": [],
   "source": [
    "def tax_amt (amt):\n",
    "    amt = int(amt)\n",
    "    total = 0\n",
    "    if amt > 20000:\n",
    "        total = 1000 + ((amt -20000)*.2)\n",
    "    elif (amt > 10000) and (amt<=20000):\n",
    "        total = (amt - 10000)*.1\n",
    "    else:\n",
    "        total = 0\n",
    "    print(\"The tax amount to paid is: \", total,\"$\")"
   ]
  },
  {
   "cell_type": "code",
   "execution_count": 181,
   "id": "01ca8ff5",
   "metadata": {},
   "outputs": [
    {
     "name": "stdout",
     "output_type": "stream",
     "text": [
      "The tax amount to paid is:  6000.0 $\n"
     ]
    }
   ],
   "source": [
    "tax_amt(45000)"
   ]
  },
  {
   "cell_type": "markdown",
   "id": "27c55fba",
   "metadata": {},
   "source": [
    "## Q5. Given below are the list of positive and negative words. Also,a list of tweets is provided. Separate out the positive and negative comments."
   ]
  },
  {
   "cell_type": "markdown",
   "id": "196ab519",
   "metadata": {},
   "source": [
    "positive = ['good','awesome', 'best', 'nice']\n",
    "\n",
    "negative = ['worst','awful', 'bad']\n",
    "\n",
    "tweets = ['This government policies are good', 'bad \n",
    "implementation', 'The way he played showed that he is one \n",
    "of the best players in the world', 'Her acting in the play was \n",
    "awesome', 'The wine tastes awful', 'It's nice to hear this little \n",
    "kid's laugh']\n"
   ]
  },
  {
   "cell_type": "code",
   "execution_count": 182,
   "id": "9b4becbe",
   "metadata": {},
   "outputs": [],
   "source": [
    "positive = ['good','awesome', 'best', 'nice']\n",
    "negative = ['worst','awful', 'bad']\n",
    "\n",
    "tweets = ['This government policies are good', 'bad implementation', 'The way he played showed that he is one of the best players in the world', 'Her acting in the play was awesome', 'The wine tastes awful', \"It's nice to hear this little kid's laugh\"]"
   ]
  },
  {
   "cell_type": "code",
   "execution_count": 183,
   "id": "cc7082ee",
   "metadata": {},
   "outputs": [
    {
     "name": "stdout",
     "output_type": "stream",
     "text": [
      "Positive Comments:  ['This government policies are good', 'The way he played showed that he is one of the best players in the world', 'Her acting in the play was awesome', \"It's nice to hear this little kid's laugh\"]\n",
      "Negative Comments:  ['bad implementation', 'The wine tastes awful']\n"
     ]
    }
   ],
   "source": [
    "p_comm = []\n",
    "n_comm = []\n",
    "for i in tweets:\n",
    "    for j in positive:\n",
    "        if j.lower() in i.lower():\n",
    "            p_comm.append(i)\n",
    "    for k in negative:\n",
    "        if k.lower() in i.lower():\n",
    "            n_comm.append(i)\n",
    "print(\"Positive Comments: \",p_comm)\n",
    "print(\"Negative Comments: \",n_comm)"
   ]
  },
  {
   "cell_type": "markdown",
   "id": "4c15da0d",
   "metadata": {},
   "source": [
    "## 6. Extend nested list by adding the sublist.\n",
    "\n",
    "You have given a nested list. Write a program to extend it by \n",
    "adding the sublist [\"h\", \"i\", \"j\"] in such a way that it will look \n",
    "like the following list.\n",
    "list1 = [\"a\", \"b\", [\"c\", [\"d\", \"e\", [\"f\", \"g\"], \"k\"], \"l\"], \"m\", \"n\"]\n",
    "sub list to add\n",
    "sub_list = [\"h\", \"i\", \"j\"]\n",
    "expected output =['a', 'b', ['c', ['d', 'e', ['f', 'g', 'h', 'i', 'j'], 'k'], 'l'], \n",
    "'m', 'n']\n"
   ]
  },
  {
   "cell_type": "code",
   "execution_count": 184,
   "id": "b5b20c65",
   "metadata": {},
   "outputs": [],
   "source": [
    "list1 = [\"a\", \"b\", [\"c\", [\"d\", \"e\", [\"f\", \"g\"], \"k\"], \"l\"], \"m\", \"n\"]"
   ]
  },
  {
   "cell_type": "code",
   "execution_count": 185,
   "id": "37160cd4",
   "metadata": {},
   "outputs": [],
   "source": [
    "sub_list = [\"h\", \"i\", \"j\"] "
   ]
  },
  {
   "cell_type": "code",
   "execution_count": 186,
   "id": "f72ded25",
   "metadata": {},
   "outputs": [],
   "source": [
    "list1[2][1][2].extend(sub_list)"
   ]
  },
  {
   "cell_type": "code",
   "execution_count": 187,
   "id": "bea6b7a0",
   "metadata": {},
   "outputs": [
    {
     "data": {
      "text/plain": [
       "['a', 'b', ['c', ['d', 'e', ['f', 'g', 'h', 'i', 'j'], 'k'], 'l'], 'm', 'n']"
      ]
     },
     "execution_count": 187,
     "metadata": {},
     "output_type": "execute_result"
    }
   ],
   "source": [
    "list1 # final output"
   ]
  },
  {
   "cell_type": "markdown",
   "id": "b4a194b5",
   "metadata": {},
   "source": [
    "### Q7. Remove and add item in a list.\n",
    "\n",
    "Write a program to remove the item present at index 4 and \n",
    "add it to the 2nd position and at the end of the list.\n",
    "list1 = [54, 44, 27, 79, 91, 41]\n"
   ]
  },
  {
   "cell_type": "code",
   "execution_count": 188,
   "id": "bf1e73f9",
   "metadata": {},
   "outputs": [],
   "source": [
    "list1 = [54, 44, 27, 79, 91, 41]"
   ]
  },
  {
   "cell_type": "code",
   "execution_count": 189,
   "id": "94cd62c8",
   "metadata": {},
   "outputs": [
    {
     "data": {
      "text/plain": [
       "91"
      ]
     },
     "execution_count": 189,
     "metadata": {},
     "output_type": "execute_result"
    }
   ],
   "source": [
    "rmv = list1.pop(4)\n",
    "rmv"
   ]
  },
  {
   "cell_type": "markdown",
   "id": "8b71d44a",
   "metadata": {},
   "source": [
    "### 2nd position"
   ]
  },
  {
   "cell_type": "code",
   "execution_count": 190,
   "id": "2bb403da",
   "metadata": {},
   "outputs": [],
   "source": [
    "list1.insert(2,rmv)"
   ]
  },
  {
   "cell_type": "code",
   "execution_count": 191,
   "id": "0f89f723",
   "metadata": {},
   "outputs": [
    {
     "data": {
      "text/plain": [
       "[54, 44, 91, 27, 79, 41]"
      ]
     },
     "execution_count": 191,
     "metadata": {},
     "output_type": "execute_result"
    }
   ],
   "source": [
    "list1"
   ]
  },
  {
   "cell_type": "markdown",
   "id": "cd3bf450",
   "metadata": {},
   "source": [
    "### end of the list"
   ]
  },
  {
   "cell_type": "code",
   "execution_count": 192,
   "id": "40c5affa",
   "metadata": {},
   "outputs": [],
   "source": [
    "list1.append(rmv)"
   ]
  },
  {
   "cell_type": "code",
   "execution_count": 193,
   "id": "2530731b",
   "metadata": {},
   "outputs": [
    {
     "data": {
      "text/plain": [
       "[54, 44, 91, 27, 79, 41, 91]"
      ]
     },
     "execution_count": 193,
     "metadata": {},
     "output_type": "execute_result"
    }
   ],
   "source": [
    "list1"
   ]
  },
  {
   "cell_type": "markdown",
   "id": "a528624b",
   "metadata": {},
   "source": [
    "### Q8. Load the iris dataset and Find only those records whose sepal_length = 5.1 and sepal_width = 3.5\n"
   ]
  },
  {
   "cell_type": "code",
   "execution_count": 194,
   "id": "a9057a20",
   "metadata": {},
   "outputs": [],
   "source": [
    "import seaborn as sns"
   ]
  },
  {
   "cell_type": "code",
   "execution_count": 195,
   "id": "9a977932",
   "metadata": {},
   "outputs": [],
   "source": [
    "df = sns.load_dataset('iris')"
   ]
  },
  {
   "cell_type": "code",
   "execution_count": 196,
   "id": "6ab400ed",
   "metadata": {},
   "outputs": [
    {
     "data": {
      "text/html": [
       "<div>\n",
       "<style scoped>\n",
       "    .dataframe tbody tr th:only-of-type {\n",
       "        vertical-align: middle;\n",
       "    }\n",
       "\n",
       "    .dataframe tbody tr th {\n",
       "        vertical-align: top;\n",
       "    }\n",
       "\n",
       "    .dataframe thead th {\n",
       "        text-align: right;\n",
       "    }\n",
       "</style>\n",
       "<table border=\"1\" class=\"dataframe\">\n",
       "  <thead>\n",
       "    <tr style=\"text-align: right;\">\n",
       "      <th></th>\n",
       "      <th>sepal_length</th>\n",
       "      <th>sepal_width</th>\n",
       "      <th>petal_length</th>\n",
       "      <th>petal_width</th>\n",
       "      <th>species</th>\n",
       "    </tr>\n",
       "  </thead>\n",
       "  <tbody>\n",
       "    <tr>\n",
       "      <th>0</th>\n",
       "      <td>5.1</td>\n",
       "      <td>3.5</td>\n",
       "      <td>1.4</td>\n",
       "      <td>0.2</td>\n",
       "      <td>setosa</td>\n",
       "    </tr>\n",
       "    <tr>\n",
       "      <th>1</th>\n",
       "      <td>4.9</td>\n",
       "      <td>3.0</td>\n",
       "      <td>1.4</td>\n",
       "      <td>0.2</td>\n",
       "      <td>setosa</td>\n",
       "    </tr>\n",
       "    <tr>\n",
       "      <th>2</th>\n",
       "      <td>4.7</td>\n",
       "      <td>3.2</td>\n",
       "      <td>1.3</td>\n",
       "      <td>0.2</td>\n",
       "      <td>setosa</td>\n",
       "    </tr>\n",
       "    <tr>\n",
       "      <th>3</th>\n",
       "      <td>4.6</td>\n",
       "      <td>3.1</td>\n",
       "      <td>1.5</td>\n",
       "      <td>0.2</td>\n",
       "      <td>setosa</td>\n",
       "    </tr>\n",
       "    <tr>\n",
       "      <th>4</th>\n",
       "      <td>5.0</td>\n",
       "      <td>3.6</td>\n",
       "      <td>1.4</td>\n",
       "      <td>0.2</td>\n",
       "      <td>setosa</td>\n",
       "    </tr>\n",
       "    <tr>\n",
       "      <th>...</th>\n",
       "      <td>...</td>\n",
       "      <td>...</td>\n",
       "      <td>...</td>\n",
       "      <td>...</td>\n",
       "      <td>...</td>\n",
       "    </tr>\n",
       "    <tr>\n",
       "      <th>145</th>\n",
       "      <td>6.7</td>\n",
       "      <td>3.0</td>\n",
       "      <td>5.2</td>\n",
       "      <td>2.3</td>\n",
       "      <td>virginica</td>\n",
       "    </tr>\n",
       "    <tr>\n",
       "      <th>146</th>\n",
       "      <td>6.3</td>\n",
       "      <td>2.5</td>\n",
       "      <td>5.0</td>\n",
       "      <td>1.9</td>\n",
       "      <td>virginica</td>\n",
       "    </tr>\n",
       "    <tr>\n",
       "      <th>147</th>\n",
       "      <td>6.5</td>\n",
       "      <td>3.0</td>\n",
       "      <td>5.2</td>\n",
       "      <td>2.0</td>\n",
       "      <td>virginica</td>\n",
       "    </tr>\n",
       "    <tr>\n",
       "      <th>148</th>\n",
       "      <td>6.2</td>\n",
       "      <td>3.4</td>\n",
       "      <td>5.4</td>\n",
       "      <td>2.3</td>\n",
       "      <td>virginica</td>\n",
       "    </tr>\n",
       "    <tr>\n",
       "      <th>149</th>\n",
       "      <td>5.9</td>\n",
       "      <td>3.0</td>\n",
       "      <td>5.1</td>\n",
       "      <td>1.8</td>\n",
       "      <td>virginica</td>\n",
       "    </tr>\n",
       "  </tbody>\n",
       "</table>\n",
       "<p>150 rows × 5 columns</p>\n",
       "</div>"
      ],
      "text/plain": [
       "     sepal_length  sepal_width  petal_length  petal_width    species\n",
       "0             5.1          3.5           1.4          0.2     setosa\n",
       "1             4.9          3.0           1.4          0.2     setosa\n",
       "2             4.7          3.2           1.3          0.2     setosa\n",
       "3             4.6          3.1           1.5          0.2     setosa\n",
       "4             5.0          3.6           1.4          0.2     setosa\n",
       "..            ...          ...           ...          ...        ...\n",
       "145           6.7          3.0           5.2          2.3  virginica\n",
       "146           6.3          2.5           5.0          1.9  virginica\n",
       "147           6.5          3.0           5.2          2.0  virginica\n",
       "148           6.2          3.4           5.4          2.3  virginica\n",
       "149           5.9          3.0           5.1          1.8  virginica\n",
       "\n",
       "[150 rows x 5 columns]"
      ]
     },
     "execution_count": 196,
     "metadata": {},
     "output_type": "execute_result"
    }
   ],
   "source": [
    "df"
   ]
  },
  {
   "cell_type": "code",
   "execution_count": 197,
   "id": "989f9f3a",
   "metadata": {},
   "outputs": [
    {
     "data": {
      "text/html": [
       "<div>\n",
       "<style scoped>\n",
       "    .dataframe tbody tr th:only-of-type {\n",
       "        vertical-align: middle;\n",
       "    }\n",
       "\n",
       "    .dataframe tbody tr th {\n",
       "        vertical-align: top;\n",
       "    }\n",
       "\n",
       "    .dataframe thead th {\n",
       "        text-align: right;\n",
       "    }\n",
       "</style>\n",
       "<table border=\"1\" class=\"dataframe\">\n",
       "  <thead>\n",
       "    <tr style=\"text-align: right;\">\n",
       "      <th></th>\n",
       "      <th>sepal_length</th>\n",
       "      <th>sepal_width</th>\n",
       "      <th>petal_length</th>\n",
       "      <th>petal_width</th>\n",
       "      <th>species</th>\n",
       "    </tr>\n",
       "  </thead>\n",
       "  <tbody>\n",
       "    <tr>\n",
       "      <th>0</th>\n",
       "      <td>5.1</td>\n",
       "      <td>3.5</td>\n",
       "      <td>1.4</td>\n",
       "      <td>0.2</td>\n",
       "      <td>setosa</td>\n",
       "    </tr>\n",
       "    <tr>\n",
       "      <th>17</th>\n",
       "      <td>5.1</td>\n",
       "      <td>3.5</td>\n",
       "      <td>1.4</td>\n",
       "      <td>0.3</td>\n",
       "      <td>setosa</td>\n",
       "    </tr>\n",
       "  </tbody>\n",
       "</table>\n",
       "</div>"
      ],
      "text/plain": [
       "    sepal_length  sepal_width  petal_length  petal_width species\n",
       "0            5.1          3.5           1.4          0.2  setosa\n",
       "17           5.1          3.5           1.4          0.3  setosa"
      ]
     },
     "execution_count": 197,
     "metadata": {},
     "output_type": "execute_result"
    }
   ],
   "source": [
    "df[(df.sepal_length == 5.1) & (df.sepal_width==3.5)]"
   ]
  },
  {
   "cell_type": "markdown",
   "id": "48540d90",
   "metadata": {},
   "source": [
    "### Q9. Check for Maximum petal_length and convert it in to 7.2 and min petal_length and convert it in to 1.2"
   ]
  },
  {
   "cell_type": "code",
   "execution_count": 198,
   "id": "ec405f00",
   "metadata": {},
   "outputs": [
    {
     "data": {
      "text/html": [
       "<div>\n",
       "<style scoped>\n",
       "    .dataframe tbody tr th:only-of-type {\n",
       "        vertical-align: middle;\n",
       "    }\n",
       "\n",
       "    .dataframe tbody tr th {\n",
       "        vertical-align: top;\n",
       "    }\n",
       "\n",
       "    .dataframe thead th {\n",
       "        text-align: right;\n",
       "    }\n",
       "</style>\n",
       "<table border=\"1\" class=\"dataframe\">\n",
       "  <thead>\n",
       "    <tr style=\"text-align: right;\">\n",
       "      <th></th>\n",
       "      <th>sepal_length</th>\n",
       "      <th>sepal_width</th>\n",
       "      <th>petal_length</th>\n",
       "      <th>petal_width</th>\n",
       "      <th>species</th>\n",
       "    </tr>\n",
       "  </thead>\n",
       "  <tbody>\n",
       "    <tr>\n",
       "      <th>118</th>\n",
       "      <td>7.7</td>\n",
       "      <td>2.6</td>\n",
       "      <td>6.9</td>\n",
       "      <td>2.3</td>\n",
       "      <td>virginica</td>\n",
       "    </tr>\n",
       "  </tbody>\n",
       "</table>\n",
       "</div>"
      ],
      "text/plain": [
       "     sepal_length  sepal_width  petal_length  petal_width    species\n",
       "118           7.7          2.6           6.9          2.3  virginica"
      ]
     },
     "execution_count": 198,
     "metadata": {},
     "output_type": "execute_result"
    }
   ],
   "source": [
    "df[df[\"petal_length\"]==df[\"petal_length\"].max() ]"
   ]
  },
  {
   "cell_type": "code",
   "execution_count": 199,
   "id": "34bc095c",
   "metadata": {
    "scrolled": true
   },
   "outputs": [
    {
     "data": {
      "text/plain": [
       "6.9"
      ]
     },
     "execution_count": 199,
     "metadata": {},
     "output_type": "execute_result"
    }
   ],
   "source": [
    "df.petal_length.max()"
   ]
  },
  {
   "cell_type": "code",
   "execution_count": 200,
   "id": "77870763",
   "metadata": {},
   "outputs": [
    {
     "data": {
      "text/html": [
       "<div>\n",
       "<style scoped>\n",
       "    .dataframe tbody tr th:only-of-type {\n",
       "        vertical-align: middle;\n",
       "    }\n",
       "\n",
       "    .dataframe tbody tr th {\n",
       "        vertical-align: top;\n",
       "    }\n",
       "\n",
       "    .dataframe thead th {\n",
       "        text-align: right;\n",
       "    }\n",
       "</style>\n",
       "<table border=\"1\" class=\"dataframe\">\n",
       "  <thead>\n",
       "    <tr style=\"text-align: right;\">\n",
       "      <th></th>\n",
       "      <th>sepal_length</th>\n",
       "      <th>sepal_width</th>\n",
       "      <th>petal_length</th>\n",
       "      <th>petal_width</th>\n",
       "      <th>species</th>\n",
       "    </tr>\n",
       "  </thead>\n",
       "  <tbody>\n",
       "    <tr>\n",
       "      <th>22</th>\n",
       "      <td>4.6</td>\n",
       "      <td>3.6</td>\n",
       "      <td>1.0</td>\n",
       "      <td>0.2</td>\n",
       "      <td>setosa</td>\n",
       "    </tr>\n",
       "  </tbody>\n",
       "</table>\n",
       "</div>"
      ],
      "text/plain": [
       "    sepal_length  sepal_width  petal_length  petal_width species\n",
       "22           4.6          3.6           1.0          0.2  setosa"
      ]
     },
     "execution_count": 200,
     "metadata": {},
     "output_type": "execute_result"
    }
   ],
   "source": [
    "df[df[\"petal_length\"]==df[\"petal_length\"].min() ]"
   ]
  },
  {
   "cell_type": "code",
   "execution_count": 201,
   "id": "c98bd5c7",
   "metadata": {},
   "outputs": [
    {
     "data": {
      "text/plain": [
       "1.0"
      ]
     },
     "execution_count": 201,
     "metadata": {},
     "output_type": "execute_result"
    }
   ],
   "source": [
    "df.petal_length.min()"
   ]
  },
  {
   "cell_type": "code",
   "execution_count": 202,
   "id": "3e6559e9",
   "metadata": {},
   "outputs": [],
   "source": [
    "max_petal_length = df.petal_length.max()"
   ]
  },
  {
   "cell_type": "code",
   "execution_count": 203,
   "id": "bad1316b",
   "metadata": {},
   "outputs": [],
   "source": [
    "min_petal_length = df.petal_length.min()"
   ]
  },
  {
   "cell_type": "code",
   "execution_count": 204,
   "id": "47c1a09c",
   "metadata": {},
   "outputs": [],
   "source": [
    "df.loc[df['petal_length'] == max_petal_length, 'petal_length'] = 7.2\n",
    "df.loc[df['petal_length'] == min_petal_length, 'petal_length'] = 1.2"
   ]
  },
  {
   "cell_type": "markdown",
   "id": "3b109f3d",
   "metadata": {},
   "source": [
    "### After Conversion"
   ]
  },
  {
   "cell_type": "code",
   "execution_count": 205,
   "id": "5f8467e9",
   "metadata": {},
   "outputs": [
    {
     "data": {
      "text/html": [
       "<div>\n",
       "<style scoped>\n",
       "    .dataframe tbody tr th:only-of-type {\n",
       "        vertical-align: middle;\n",
       "    }\n",
       "\n",
       "    .dataframe tbody tr th {\n",
       "        vertical-align: top;\n",
       "    }\n",
       "\n",
       "    .dataframe thead th {\n",
       "        text-align: right;\n",
       "    }\n",
       "</style>\n",
       "<table border=\"1\" class=\"dataframe\">\n",
       "  <thead>\n",
       "    <tr style=\"text-align: right;\">\n",
       "      <th></th>\n",
       "      <th>sepal_length</th>\n",
       "      <th>sepal_width</th>\n",
       "      <th>petal_length</th>\n",
       "      <th>petal_width</th>\n",
       "      <th>species</th>\n",
       "    </tr>\n",
       "  </thead>\n",
       "  <tbody>\n",
       "    <tr>\n",
       "      <th>118</th>\n",
       "      <td>7.7</td>\n",
       "      <td>2.6</td>\n",
       "      <td>7.2</td>\n",
       "      <td>2.3</td>\n",
       "      <td>virginica</td>\n",
       "    </tr>\n",
       "  </tbody>\n",
       "</table>\n",
       "</div>"
      ],
      "text/plain": [
       "     sepal_length  sepal_width  petal_length  petal_width    species\n",
       "118           7.7          2.6           7.2          2.3  virginica"
      ]
     },
     "execution_count": 205,
     "metadata": {},
     "output_type": "execute_result"
    }
   ],
   "source": [
    "df[df[\"petal_length\"]==df[\"petal_length\"].max() ]"
   ]
  },
  {
   "cell_type": "code",
   "execution_count": 206,
   "id": "1cc4d642",
   "metadata": {
    "scrolled": false
   },
   "outputs": [
    {
     "data": {
      "text/html": [
       "<div>\n",
       "<style scoped>\n",
       "    .dataframe tbody tr th:only-of-type {\n",
       "        vertical-align: middle;\n",
       "    }\n",
       "\n",
       "    .dataframe tbody tr th {\n",
       "        vertical-align: top;\n",
       "    }\n",
       "\n",
       "    .dataframe thead th {\n",
       "        text-align: right;\n",
       "    }\n",
       "</style>\n",
       "<table border=\"1\" class=\"dataframe\">\n",
       "  <thead>\n",
       "    <tr style=\"text-align: right;\">\n",
       "      <th></th>\n",
       "      <th>sepal_length</th>\n",
       "      <th>sepal_width</th>\n",
       "      <th>petal_length</th>\n",
       "      <th>petal_width</th>\n",
       "      <th>species</th>\n",
       "    </tr>\n",
       "  </thead>\n",
       "  <tbody>\n",
       "    <tr>\n",
       "      <th>13</th>\n",
       "      <td>4.3</td>\n",
       "      <td>3.0</td>\n",
       "      <td>1.1</td>\n",
       "      <td>0.1</td>\n",
       "      <td>setosa</td>\n",
       "    </tr>\n",
       "  </tbody>\n",
       "</table>\n",
       "</div>"
      ],
      "text/plain": [
       "    sepal_length  sepal_width  petal_length  petal_width species\n",
       "13           4.3          3.0           1.1          0.1  setosa"
      ]
     },
     "execution_count": 206,
     "metadata": {},
     "output_type": "execute_result"
    }
   ],
   "source": [
    "df[df[\"petal_length\"]==df[\"petal_length\"].min() ]"
   ]
  },
  {
   "cell_type": "code",
   "execution_count": 207,
   "id": "261b40e1",
   "metadata": {},
   "outputs": [
    {
     "data": {
      "text/plain": [
       "7.2"
      ]
     },
     "execution_count": 207,
     "metadata": {},
     "output_type": "execute_result"
    }
   ],
   "source": [
    "df.petal_length.max()"
   ]
  },
  {
   "cell_type": "code",
   "execution_count": 208,
   "id": "5c1a704e",
   "metadata": {},
   "outputs": [
    {
     "data": {
      "text/plain": [
       "1.1"
      ]
     },
     "execution_count": 208,
     "metadata": {},
     "output_type": "execute_result"
    }
   ],
   "source": [
    "df.petal_length.min()"
   ]
  },
  {
   "cell_type": "markdown",
   "id": "c8f0b913",
   "metadata": {},
   "source": [
    "### Q10. Perform right join to combine values based on the 'ID' in the two dataframes.\n",
    "Use the dataframe given below, read the DataFrame with the \n",
    "help of clipboard function."
   ]
  },
  {
   "cell_type": "code",
   "execution_count": 217,
   "id": "55390a1a",
   "metadata": {},
   "outputs": [],
   "source": [
    "df_clip = pd.read_clipboard()"
   ]
  },
  {
   "cell_type": "code",
   "execution_count": 218,
   "id": "fe352f09",
   "metadata": {
    "scrolled": true
   },
   "outputs": [
    {
     "data": {
      "text/html": [
       "<div>\n",
       "<style scoped>\n",
       "    .dataframe tbody tr th:only-of-type {\n",
       "        vertical-align: middle;\n",
       "    }\n",
       "\n",
       "    .dataframe tbody tr th {\n",
       "        vertical-align: top;\n",
       "    }\n",
       "\n",
       "    .dataframe thead th {\n",
       "        text-align: right;\n",
       "    }\n",
       "</style>\n",
       "<table border=\"1\" class=\"dataframe\">\n",
       "  <thead>\n",
       "    <tr style=\"text-align: right;\">\n",
       "      <th></th>\n",
       "      <th>ID</th>\n",
       "      <th>Candidate_Name</th>\n",
       "      <th>Subject</th>\n",
       "    </tr>\n",
       "  </thead>\n",
       "  <tbody>\n",
       "    <tr>\n",
       "      <th>0</th>\n",
       "      <td>101</td>\n",
       "      <td>Alex</td>\n",
       "      <td>History</td>\n",
       "    </tr>\n",
       "    <tr>\n",
       "      <th>1</th>\n",
       "      <td>102</td>\n",
       "      <td>Amy</td>\n",
       "      <td>English</td>\n",
       "    </tr>\n",
       "    <tr>\n",
       "      <th>2</th>\n",
       "      <td>103</td>\n",
       "      <td>Allen</td>\n",
       "      <td>Geography</td>\n",
       "    </tr>\n",
       "    <tr>\n",
       "      <th>3</th>\n",
       "      <td>104</td>\n",
       "      <td>Alice</td>\n",
       "      <td>German</td>\n",
       "    </tr>\n",
       "    <tr>\n",
       "      <th>4</th>\n",
       "      <td>105</td>\n",
       "      <td>James</td>\n",
       "      <td>History</td>\n",
       "    </tr>\n",
       "    <tr>\n",
       "      <th>5</th>\n",
       "      <td>106</td>\n",
       "      <td>Sara</td>\n",
       "      <td>German</td>\n",
       "    </tr>\n",
       "    <tr>\n",
       "      <th>6</th>\n",
       "      <td>107</td>\n",
       "      <td>Mia</td>\n",
       "      <td>English</td>\n",
       "    </tr>\n",
       "  </tbody>\n",
       "</table>\n",
       "</div>"
      ],
      "text/plain": [
       "    ID Candidate_Name    Subject\n",
       "0  101           Alex    History\n",
       "1  102            Amy    English\n",
       "2  103          Allen  Geography\n",
       "3  104          Alice     German\n",
       "4  105          James    History\n",
       "5  106           Sara     German\n",
       "6  107            Mia    English"
      ]
     },
     "execution_count": 218,
     "metadata": {},
     "output_type": "execute_result"
    }
   ],
   "source": [
    "df_clip"
   ]
  },
  {
   "cell_type": "code",
   "execution_count": 221,
   "id": "e988ce19",
   "metadata": {},
   "outputs": [],
   "source": [
    "df_clip2 = pd.read_clipboard()"
   ]
  },
  {
   "cell_type": "code",
   "execution_count": 222,
   "id": "c347c57d",
   "metadata": {},
   "outputs": [
    {
     "data": {
      "text/html": [
       "<div>\n",
       "<style scoped>\n",
       "    .dataframe tbody tr th:only-of-type {\n",
       "        vertical-align: middle;\n",
       "    }\n",
       "\n",
       "    .dataframe tbody tr th {\n",
       "        vertical-align: top;\n",
       "    }\n",
       "\n",
       "    .dataframe thead th {\n",
       "        text-align: right;\n",
       "    }\n",
       "</style>\n",
       "<table border=\"1\" class=\"dataframe\">\n",
       "  <thead>\n",
       "    <tr style=\"text-align: right;\">\n",
       "      <th></th>\n",
       "      <th>ID</th>\n",
       "      <th>City</th>\n",
       "      <th>Subject_Score</th>\n",
       "    </tr>\n",
       "  </thead>\n",
       "  <tbody>\n",
       "    <tr>\n",
       "      <th>0</th>\n",
       "      <td>101</td>\n",
       "      <td>Delhi</td>\n",
       "      <td>89</td>\n",
       "    </tr>\n",
       "    <tr>\n",
       "      <th>1</th>\n",
       "      <td>102</td>\n",
       "      <td>Mumbai</td>\n",
       "      <td>78</td>\n",
       "    </tr>\n",
       "    <tr>\n",
       "      <th>2</th>\n",
       "      <td>103</td>\n",
       "      <td>Delhi</td>\n",
       "      <td>77</td>\n",
       "    </tr>\n",
       "    <tr>\n",
       "      <th>3</th>\n",
       "      <td>104</td>\n",
       "      <td>Chennai</td>\n",
       "      <td>87</td>\n",
       "    </tr>\n",
       "    <tr>\n",
       "      <th>4</th>\n",
       "      <td>105</td>\n",
       "      <td>Hyderabad</td>\n",
       "      <td>87</td>\n",
       "    </tr>\n",
       "    <tr>\n",
       "      <th>5</th>\n",
       "      <td>108</td>\n",
       "      <td>Delhi</td>\n",
       "      <td>84</td>\n",
       "    </tr>\n",
       "  </tbody>\n",
       "</table>\n",
       "</div>"
      ],
      "text/plain": [
       "    ID       City  Subject_Score\n",
       "0  101      Delhi             89\n",
       "1  102     Mumbai             78\n",
       "2  103      Delhi             77\n",
       "3  104    Chennai             87\n",
       "4  105  Hyderabad             87\n",
       "5  108      Delhi             84"
      ]
     },
     "execution_count": 222,
     "metadata": {},
     "output_type": "execute_result"
    }
   ],
   "source": [
    "df_clip2"
   ]
  },
  {
   "cell_type": "code",
   "execution_count": 223,
   "id": "bfd00aa4",
   "metadata": {},
   "outputs": [],
   "source": [
    "Final_df = pd.merge(df_clip,df_clip2,how = 'right',on = 'ID')"
   ]
  },
  {
   "cell_type": "code",
   "execution_count": 224,
   "id": "907bc666",
   "metadata": {},
   "outputs": [
    {
     "data": {
      "text/html": [
       "<div>\n",
       "<style scoped>\n",
       "    .dataframe tbody tr th:only-of-type {\n",
       "        vertical-align: middle;\n",
       "    }\n",
       "\n",
       "    .dataframe tbody tr th {\n",
       "        vertical-align: top;\n",
       "    }\n",
       "\n",
       "    .dataframe thead th {\n",
       "        text-align: right;\n",
       "    }\n",
       "</style>\n",
       "<table border=\"1\" class=\"dataframe\">\n",
       "  <thead>\n",
       "    <tr style=\"text-align: right;\">\n",
       "      <th></th>\n",
       "      <th>ID</th>\n",
       "      <th>Candidate_Name</th>\n",
       "      <th>Subject</th>\n",
       "      <th>City</th>\n",
       "      <th>Subject_Score</th>\n",
       "    </tr>\n",
       "  </thead>\n",
       "  <tbody>\n",
       "    <tr>\n",
       "      <th>0</th>\n",
       "      <td>101</td>\n",
       "      <td>Alex</td>\n",
       "      <td>History</td>\n",
       "      <td>Delhi</td>\n",
       "      <td>89</td>\n",
       "    </tr>\n",
       "    <tr>\n",
       "      <th>1</th>\n",
       "      <td>102</td>\n",
       "      <td>Amy</td>\n",
       "      <td>English</td>\n",
       "      <td>Mumbai</td>\n",
       "      <td>78</td>\n",
       "    </tr>\n",
       "    <tr>\n",
       "      <th>2</th>\n",
       "      <td>103</td>\n",
       "      <td>Allen</td>\n",
       "      <td>Geography</td>\n",
       "      <td>Delhi</td>\n",
       "      <td>77</td>\n",
       "    </tr>\n",
       "    <tr>\n",
       "      <th>3</th>\n",
       "      <td>104</td>\n",
       "      <td>Alice</td>\n",
       "      <td>German</td>\n",
       "      <td>Chennai</td>\n",
       "      <td>87</td>\n",
       "    </tr>\n",
       "    <tr>\n",
       "      <th>4</th>\n",
       "      <td>105</td>\n",
       "      <td>James</td>\n",
       "      <td>History</td>\n",
       "      <td>Hyderabad</td>\n",
       "      <td>87</td>\n",
       "    </tr>\n",
       "    <tr>\n",
       "      <th>5</th>\n",
       "      <td>108</td>\n",
       "      <td>NaN</td>\n",
       "      <td>NaN</td>\n",
       "      <td>Delhi</td>\n",
       "      <td>84</td>\n",
       "    </tr>\n",
       "  </tbody>\n",
       "</table>\n",
       "</div>"
      ],
      "text/plain": [
       "    ID Candidate_Name    Subject       City  Subject_Score\n",
       "0  101           Alex    History      Delhi             89\n",
       "1  102            Amy    English     Mumbai             78\n",
       "2  103          Allen  Geography      Delhi             77\n",
       "3  104          Alice     German    Chennai             87\n",
       "4  105          James    History  Hyderabad             87\n",
       "5  108            NaN        NaN      Delhi             84"
      ]
     },
     "execution_count": 224,
     "metadata": {},
     "output_type": "execute_result"
    }
   ],
   "source": [
    "Final_df"
   ]
  },
  {
   "cell_type": "code",
   "execution_count": null,
   "id": "1dfa62e2",
   "metadata": {},
   "outputs": [],
   "source": []
  },
  {
   "cell_type": "code",
   "execution_count": null,
   "id": "a0db5a8d",
   "metadata": {},
   "outputs": [],
   "source": []
  },
  {
   "cell_type": "code",
   "execution_count": null,
   "id": "f112aae4",
   "metadata": {},
   "outputs": [],
   "source": []
  },
  {
   "cell_type": "code",
   "execution_count": null,
   "id": "fdc18ed4",
   "metadata": {},
   "outputs": [],
   "source": []
  }
 ],
 "metadata": {
  "kernelspec": {
   "display_name": "Python 3 (ipykernel)",
   "language": "python",
   "name": "python3"
  },
  "language_info": {
   "codemirror_mode": {
    "name": "ipython",
    "version": 3
   },
   "file_extension": ".py",
   "mimetype": "text/x-python",
   "name": "python",
   "nbconvert_exporter": "python",
   "pygments_lexer": "ipython3",
   "version": "3.9.13"
  }
 },
 "nbformat": 4,
 "nbformat_minor": 5
}
