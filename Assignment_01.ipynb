{
 "cells": [
  {
   "cell_type": "raw",
   "id": "b2e81340",
   "metadata": {},
   "source": [
    "Q.1. In the below elements which of them are values or an expression? eg:- values can be integer or string and expressions will be mathematical operators.\n",
    "\n",
    "*\n",
    "'hello'\n",
    "-87.8\n",
    "-\n",
    "/\n",
    "+\n",
    "6\n",
    "\n",
    "Answer:\n",
    "\n",
    "Operators: *, -, /, +,\n",
    "\n",
    "values: 'hello', -87.8, 6\n",
    "\n"
   ]
  },
  {
   "cell_type": "raw",
   "id": "080bb7de",
   "metadata": {},
   "source": [
    "Q.2. What is the difference between string and variable?\n",
    "\n",
    "Answer:\n",
    "\n",
    "1. String: string is nothing but simply we can say it is collection of characters and in python it enclosed with two single or double quote\n",
    "\n",
    "2. variable: variables are the name where we give to the memory location which are used to store the data/information.\n",
    "\n",
    "ex. \n",
    "    a = 'ineuron'\n",
    "    \n",
    "    where-\n",
    "            ineuron - it is a string\n",
    "                  a - it is a variable\n",
    "          \n",
    "\n"
   ]
  },
  {
   "cell_type": "markdown",
   "id": "5ff6a30e",
   "metadata": {},
   "source": [
    "# Q.3. Descibe three different data types"
   ]
  },
  {
   "cell_type": "raw",
   "id": "83009144",
   "metadata": {},
   "source": [
    "\n",
    "Answer:\n",
    "    \n",
    "1.Integer(INT): Integer represents an integer number without any decimal point or fraction part.\n",
    "\n",
    "    a = 10\n",
    "    b = -15\n",
    "    \n",
    "    it support both positive and negative integer numbers.\n",
    "    \n",
    "2.Float: The float datatype represents floating point numbers that contains a decimal point\n",
    "\n",
    "    c = 22.15\n",
    "    c = -3.5\n",
    "    \n",
    "3.String(str): A string is represented by a group of characters which is enclosed with single or double quotes\n",
    "\n",
    "    d = 'ineuron'\n",
    "    d = \"fsds\"\n",
    "    \n"
   ]
  },
  {
   "cell_type": "code",
   "execution_count": 4,
   "id": "bdf3302d",
   "metadata": {},
   "outputs": [
    {
     "data": {
      "text/plain": [
       "int"
      ]
     },
     "execution_count": 4,
     "metadata": {},
     "output_type": "execute_result"
    }
   ],
   "source": [
    "a = 10\n",
    "type(a)\n"
   ]
  },
  {
   "cell_type": "code",
   "execution_count": 5,
   "id": "68ee2f6b",
   "metadata": {},
   "outputs": [
    {
     "data": {
      "text/plain": [
       "float"
      ]
     },
     "execution_count": 5,
     "metadata": {},
     "output_type": "execute_result"
    }
   ],
   "source": [
    "c = 22.15\n",
    "type(c)"
   ]
  },
  {
   "cell_type": "code",
   "execution_count": 6,
   "id": "78636c7a",
   "metadata": {},
   "outputs": [
    {
     "data": {
      "text/plain": [
       "str"
      ]
     },
     "execution_count": 6,
     "metadata": {},
     "output_type": "execute_result"
    }
   ],
   "source": [
    "d = 'ineuron'\n",
    "type(d)"
   ]
  },
  {
   "cell_type": "markdown",
   "id": "e46f00cb",
   "metadata": {},
   "source": [
    "# Q.4. what is an expression made up of? what do all expressions do?"
   ]
  },
  {
   "cell_type": "raw",
   "id": "dbe27eb2",
   "metadata": {},
   "source": [
    "Answer:\n",
    "    \n",
    "    An expression is any valid combination of operators and variable,\n",
    "    that make a result in terms of values\n",
    "    \n",
    "    example:\n",
    "        \n",
    "variable: a = 5\n",
    "          b = 6\n",
    "        \n",
    "Expression: (Arithmatic)\n",
    "    \n",
    "    c = a+b\n",
    "    c = 11 \n",
    "        "
   ]
  },
  {
   "cell_type": "markdown",
   "id": "68aeaf60",
   "metadata": {},
   "source": [
    "# Q.5. This assignment statements, like spam = 10. What is the difference between an expression and a statement?"
   ]
  },
  {
   "cell_type": "raw",
   "id": "6ce3cadb",
   "metadata": {},
   "source": [
    "Answer:\n",
    "    \n",
    "    - The Assignment statement is assign a value to variable.\n",
    "    - the expression evalueates the value which is depends upon operator\n",
    "      and vlaues\n",
    "        \n",
    "    In above example spam = 10, 10 is assigned to variable spam\n",
    "    and spam value will become 10.\n",
    "    \n",
    "    But in expression a = b+c, value of a depend upon b and c."
   ]
  },
  {
   "cell_type": "markdown",
   "id": "838dbbae",
   "metadata": {},
   "source": [
    "# Q.6. After running the following code, what does the variable bacon contain"
   ]
  },
  {
   "cell_type": "raw",
   "id": "05b0aab5",
   "metadata": {},
   "source": [
    "bacon = 22\n",
    "bacon + 1"
   ]
  },
  {
   "cell_type": "code",
   "execution_count": 1,
   "id": "7794ad9f",
   "metadata": {},
   "outputs": [],
   "source": [
    "# Answer\n",
    "\n",
    "bacon = 22\n",
    "a = bacon +1"
   ]
  },
  {
   "cell_type": "code",
   "execution_count": 2,
   "id": "47cd83e9",
   "metadata": {},
   "outputs": [
    {
     "data": {
      "text/plain": [
       "23"
      ]
     },
     "execution_count": 2,
     "metadata": {},
     "output_type": "execute_result"
    }
   ],
   "source": [
    "a"
   ]
  },
  {
   "cell_type": "code",
   "execution_count": 4,
   "id": "34f4ccfa",
   "metadata": {},
   "outputs": [
    {
     "data": {
      "text/plain": [
       "22"
      ]
     },
     "execution_count": 4,
     "metadata": {},
     "output_type": "execute_result"
    }
   ],
   "source": [
    "bacon # bacon contain same value, it will not change"
   ]
  },
  {
   "cell_type": "markdown",
   "id": "f0add4e8",
   "metadata": {},
   "source": [
    "# Q.7. What should the values of the following two terms be?"
   ]
  },
  {
   "cell_type": "raw",
   "id": "7343f013",
   "metadata": {},
   "source": [
    "'spam' + 'spamspam'\n",
    "'spam' * 3"
   ]
  },
  {
   "cell_type": "code",
   "execution_count": 5,
   "id": "4457810e",
   "metadata": {},
   "outputs": [
    {
     "data": {
      "text/plain": [
       "'spamspamspam'"
      ]
     },
     "execution_count": 5,
     "metadata": {},
     "output_type": "execute_result"
    }
   ],
   "source": [
    "# Answer:\n",
    "\n",
    "'spam'+'spamspam'"
   ]
  },
  {
   "cell_type": "code",
   "execution_count": 6,
   "id": "f50674bb",
   "metadata": {},
   "outputs": [
    {
     "data": {
      "text/plain": [
       "'spamspamspam'"
      ]
     },
     "execution_count": 6,
     "metadata": {},
     "output_type": "execute_result"
    }
   ],
   "source": [
    "'spam'*3"
   ]
  },
  {
   "cell_type": "markdown",
   "id": "93df994e",
   "metadata": {},
   "source": [
    "# Q.8. Why is eggs a valid variable name while 100 is invalid?"
   ]
  },
  {
   "cell_type": "code",
   "execution_count": 7,
   "id": "bf994fff",
   "metadata": {},
   "outputs": [],
   "source": [
    "# Answer:\n",
    "\n",
    "eggs = 100"
   ]
  },
  {
   "cell_type": "code",
   "execution_count": 9,
   "id": "95aee4d4",
   "metadata": {},
   "outputs": [
    {
     "ename": "SyntaxError",
     "evalue": "cannot assign to literal (Temp/ipykernel_5144/2811739266.py, line 1)",
     "output_type": "error",
     "traceback": [
      "\u001b[1;36m  File \u001b[1;32m\"C:\\Users\\vijay\\AppData\\Local\\Temp/ipykernel_5144/2811739266.py\"\u001b[1;36m, line \u001b[1;32m1\u001b[0m\n\u001b[1;33m    100 = 100\u001b[0m\n\u001b[1;37m    ^\u001b[0m\n\u001b[1;31mSyntaxError\u001b[0m\u001b[1;31m:\u001b[0m cannot assign to literal\n"
     ]
    }
   ],
   "source": [
    "100 = 100"
   ]
  },
  {
   "cell_type": "raw",
   "id": "175282d9",
   "metadata": {},
   "source": [
    "100 is not valid variable name because compiler confuse so variable not start\n",
    "with number"
   ]
  },
  {
   "cell_type": "markdown",
   "id": "a680bb8a",
   "metadata": {},
   "source": [
    "# Q.9. What three functions can be used to get the integer, floating-point number, or string version of a value?"
   ]
  },
  {
   "cell_type": "code",
   "execution_count": 10,
   "id": "7275380f",
   "metadata": {},
   "outputs": [
    {
     "data": {
      "text/plain": [
       "10"
      ]
     },
     "execution_count": 10,
     "metadata": {},
     "output_type": "execute_result"
    }
   ],
   "source": [
    "# Answer\n",
    "\n",
    "a = 10\n",
    "int(a) # giving integer value"
   ]
  },
  {
   "cell_type": "code",
   "execution_count": 12,
   "id": "96142315",
   "metadata": {},
   "outputs": [
    {
     "data": {
      "text/plain": [
       "10.0"
      ]
     },
     "execution_count": 12,
     "metadata": {},
     "output_type": "execute_result"
    }
   ],
   "source": [
    "float(a) # giving floating point value"
   ]
  },
  {
   "cell_type": "code",
   "execution_count": 13,
   "id": "22dbd19b",
   "metadata": {},
   "outputs": [
    {
     "data": {
      "text/plain": [
       "'10'"
      ]
     },
     "execution_count": 13,
     "metadata": {},
     "output_type": "execute_result"
    }
   ],
   "source": [
    "str(a) # giving as a string value"
   ]
  },
  {
   "cell_type": "markdown",
   "id": "eccc9130",
   "metadata": {},
   "source": [
    "# Q.10. Why does this expression cause an error? How can you fix it?\n",
    "'i have eaten'+99+'burritos'"
   ]
  },
  {
   "cell_type": "code",
   "execution_count": 14,
   "id": "02b5d3f5",
   "metadata": {},
   "outputs": [
    {
     "ename": "TypeError",
     "evalue": "can only concatenate str (not \"int\") to str",
     "output_type": "error",
     "traceback": [
      "\u001b[1;31m---------------------------------------------------------------------------\u001b[0m",
      "\u001b[1;31mTypeError\u001b[0m                                 Traceback (most recent call last)",
      "\u001b[1;32m~\\AppData\\Local\\Temp/ipykernel_5144/2878724274.py\u001b[0m in \u001b[0;36m<module>\u001b[1;34m\u001b[0m\n\u001b[1;32m----> 1\u001b[1;33m \u001b[1;34m'i have eaten'\u001b[0m\u001b[1;33m+\u001b[0m\u001b[1;36m99\u001b[0m\u001b[1;33m+\u001b[0m\u001b[1;34m'burritos'\u001b[0m\u001b[1;33m\u001b[0m\u001b[1;33m\u001b[0m\u001b[0m\n\u001b[0m",
      "\u001b[1;31mTypeError\u001b[0m: can only concatenate str (not \"int\") to str"
     ]
    }
   ],
   "source": [
    "'i have eaten'+99+'burritos'"
   ]
  },
  {
   "cell_type": "code",
   "execution_count": null,
   "id": "5020f3c9",
   "metadata": {},
   "outputs": [],
   "source": [
    "In above example we will get error due to \n",
    "addition operation happen with same data types\n",
    "\n",
    "99 is an Integer and remains are string \n",
    "for fixing this erroe we can convert int to str(99)"
   ]
  },
  {
   "cell_type": "code",
   "execution_count": 15,
   "id": "e7607835",
   "metadata": {},
   "outputs": [
    {
     "data": {
      "text/plain": [
       "'i have eaten99burritos'"
      ]
     },
     "execution_count": 15,
     "metadata": {},
     "output_type": "execute_result"
    }
   ],
   "source": [
    "'i have eaten' + str(99) + 'burritos'"
   ]
  },
  {
   "cell_type": "code",
   "execution_count": null,
   "id": "e3bcff2a",
   "metadata": {},
   "outputs": [],
   "source": []
  }
 ],
 "metadata": {
  "kernelspec": {
   "display_name": "Python 3 (ipykernel)",
   "language": "python",
   "name": "python3"
  },
  "language_info": {
   "codemirror_mode": {
    "name": "ipython",
    "version": 3
   },
   "file_extension": ".py",
   "mimetype": "text/x-python",
   "name": "python",
   "nbconvert_exporter": "python",
   "pygments_lexer": "ipython3",
   "version": "3.9.7"
  }
 },
 "nbformat": 4,
 "nbformat_minor": 5
}
