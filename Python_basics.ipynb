{
 "cells": [
  {
   "cell_type": "markdown",
   "id": "c081676b",
   "metadata": {},
   "source": [
    "Conditional Statements"
   ]
  },
  {
   "cell_type": "markdown",
   "id": "42cbdf18",
   "metadata": {},
   "source": [
    " - if\n",
    " - if,else\n",
    " - if, elif,elif,else\n"
   ]
  },
  {
   "cell_type": "code",
   "execution_count": 1,
   "id": "53bd5dc9",
   "metadata": {},
   "outputs": [],
   "source": [
    "#i want find the square if number is greater than 10"
   ]
  },
  {
   "cell_type": "code",
   "execution_count": 4,
   "id": "d47f8e31",
   "metadata": {},
   "outputs": [
    {
     "name": "stdout",
     "output_type": "stream",
     "text": [
      "number square is  81\n",
      "some thing\n"
     ]
    }
   ],
   "source": [
    "num = 9\n",
    "if num > 10:\n",
    "    print(\"Number is \",num)\n",
    "    print(\"number is greater than 10\")\n",
    "print(\"number square is \", num*num)  # not part of if\n",
    "print(\"some thing\")"
   ]
  },
  {
   "cell_type": "code",
   "execution_count": 7,
   "id": "7424c6db",
   "metadata": {},
   "outputs": [
    {
     "name": "stdout",
     "output_type": "stream",
     "text": [
      "Number is  12\n",
      "number is greater than 10\n",
      "number square is  144\n",
      "some thing\n"
     ]
    }
   ],
   "source": [
    "num = 12\n",
    "if num > 10:\n",
    "    print(\"Number is \",num)\n",
    "    print(\"number is greater than 10\")\n",
    "    print(\"number square is \", num*num)  # not part of if\n",
    "    print(\"some thing\")"
   ]
  },
  {
   "cell_type": "code",
   "execution_count": 8,
   "id": "f257afac",
   "metadata": {},
   "outputs": [],
   "source": [
    "#check 2 codition( if else)\n",
    "\n",
    "# you want to find square is number is even and cube if number is odd"
   ]
  },
  {
   "cell_type": "code",
   "execution_count": 17,
   "id": "afce9f0b",
   "metadata": {},
   "outputs": [
    {
     "name": "stdout",
     "output_type": "stream",
     "text": [
      "enter a number5\n",
      "number is odd 5 its cube is 125\n"
     ]
    }
   ],
   "source": [
    "num2 = eval(input(\"enter a number\")) #eval is preserve the data type \n",
    "if num2 %2 == 0:\n",
    "    print(\"number is even\",num2,\"its squre is\",num2**2)\n",
    "else:\n",
    "    print(\"number is odd\", num2,\"its cube is\",num2**3)"
   ]
  },
  {
   "cell_type": "code",
   "execution_count": 18,
   "id": "c326d2fc",
   "metadata": {},
   "outputs": [],
   "source": [
    "# check more than 2 conditionsures "
   ]
  },
  {
   "cell_type": "code",
   "execution_count": 21,
   "id": "f3730f78",
   "metadata": {},
   "outputs": [
    {
     "name": "stdout",
     "output_type": "stream",
     "text": [
      "Enter the inflation rate5\n",
      "inflation is with in limits\n",
      "nothing to worry\n"
     ]
    }
   ],
   "source": [
    "inflation_rate = int(input(\"Enter the inflation rate\"))\n",
    "\n",
    "if inflation_rate <= 6:\n",
    "    print(\"inflation is with in limits\")\n",
    "    print(\"nothing to worry\")\n",
    "elif inflation_rate > 6 and inflation_rate < 8:\n",
    "    print(\"inflation is very high\")\n",
    "    print(\"price will increase fast\")\n",
    "    print(\"govt needs to monitor\")\n",
    "elif inflation_rate >8 and inflation_rate <= 10:\n",
    "    print(\"inflation is very very high\")\n",
    "    print(\"some strict meause are need  by Govt\")\n",
    "    print(\"RBI alone can not control inflation\")\n",
    "elif inflation_rate >10 and inflation_rate <= 13:\n",
    "    print(\"inflation is uncontrolled\")\n",
    "    print(\"prices of essentials are getting doubled in a year\")\n",
    "else:\n",
    "    print(\"govt has totally failed\")"
   ]
  },
  {
   "cell_type": "code",
   "execution_count": 22,
   "id": "854007e7",
   "metadata": {},
   "outputs": [],
   "source": [
    "# loops -->> for, while loops"
   ]
  },
  {
   "cell_type": "code",
   "execution_count": 24,
   "id": "fe30fce8",
   "metadata": {},
   "outputs": [
    {
     "name": "stdout",
     "output_type": "stream",
     "text": [
      "Number is  ->> 1 square is 1\n",
      "Number is  ->> 2 square is 4\n",
      "Number is  ->> 3 square is 9\n",
      "Number is  ->> 4 square is 16\n",
      "Number is  ->> 5 square is 25\n",
      "Number is  ->> 6 square is 36\n",
      "Number is  ->> 7 square is 49\n",
      "Number is  ->> 8 square is 64\n",
      "Number is  ->> 9 square is 81\n",
      "Number is  ->> 10 square is 100\n",
      "Number is  ->> 11 square is 121\n",
      "Number is  ->> 12 square is 144\n",
      "Number is  ->> 13 square is 169\n",
      "Number is  ->> 14 square is 196\n",
      "Number is  ->> 15 square is 225\n",
      "Number is  ->> 16 square is 256\n",
      "Number is  ->> 17 square is 289\n",
      "Number is  ->> 18 square is 324\n",
      "Number is  ->> 19 square is 361\n",
      "Number is  ->> 20 square is 400\n",
      "Number is  ->> 21 square is 441\n",
      "Number is  ->> 22 square is 484\n",
      "Number is  ->> 23 square is 529\n",
      "Number is  ->> 24 square is 576\n",
      "Number is  ->> 25 square is 625\n",
      "Number is  ->> 26 square is 676\n",
      "Number is  ->> 27 square is 729\n",
      "Number is  ->> 28 square is 784\n",
      "Number is  ->> 29 square is 841\n",
      "Number is  ->> 30 square is 900\n",
      "Number is  ->> 31 square is 961\n",
      "Number is  ->> 32 square is 1024\n",
      "Number is  ->> 33 square is 1089\n",
      "Number is  ->> 34 square is 1156\n",
      "Number is  ->> 35 square is 1225\n",
      "Number is  ->> 36 square is 1296\n",
      "Number is  ->> 37 square is 1369\n",
      "Number is  ->> 38 square is 1444\n",
      "Number is  ->> 39 square is 1521\n",
      "Number is  ->> 40 square is 1600\n",
      "Number is  ->> 41 square is 1681\n",
      "Number is  ->> 42 square is 1764\n",
      "Number is  ->> 43 square is 1849\n",
      "Number is  ->> 44 square is 1936\n",
      "Number is  ->> 45 square is 2025\n",
      "Number is  ->> 46 square is 2116\n",
      "Number is  ->> 47 square is 2209\n",
      "Number is  ->> 48 square is 2304\n",
      "Number is  ->> 49 square is 2401\n",
      "Number is  ->> 50 square is 2500\n"
     ]
    }
   ],
   "source": [
    "i =1\n",
    "while i<= 50:\n",
    "    print(\"Number is  ->>\",i,\"square is\",i*i)\n",
    "    i=i+1"
   ]
  },
  {
   "cell_type": "code",
   "execution_count": 26,
   "id": "9ed24a72",
   "metadata": {},
   "outputs": [],
   "source": [
    "# for loop --> start from 1st records and wil go till last record\n",
    "l=[6,6,10,34,3,56,100,67,6,45,4,34,]\n",
    "\n",
    "# find the square of the nubmers but as soon as a number greater than oe eual to 100 appears stop"
   ]
  },
  {
   "cell_type": "code",
   "execution_count": 27,
   "id": "31b20a70",
   "metadata": {},
   "outputs": [
    {
     "name": "stdout",
     "output_type": "stream",
     "text": [
      "Number is  ->> 6 square is 36\n",
      "Number is  ->> 6 square is 36\n",
      "Number is  ->> 10 square is 100\n",
      "Number is  ->> 34 square is 1156\n",
      "Number is  ->> 3 square is 9\n",
      "Number is  ->> 56 square is 3136\n",
      "Number is  ->> 100 square is 10000\n"
     ]
    }
   ],
   "source": [
    "for j in l:\n",
    "    print(\"Number is  ->>\",j,\"square is\",j*j)\n",
    "    if j>= 100:\n",
    "        break"
   ]
  },
  {
   "cell_type": "code",
   "execution_count": 46,
   "id": "da69505f",
   "metadata": {},
   "outputs": [],
   "source": [
    "# user defined functions\n",
    "\n",
    "def add_num(a,b):\n",
    "    \"\"\"\n",
    "    this is addition function,  will return addition\n",
    "    \"\"\"\n",
    "    print(\"number is\",a)\n",
    "    print(\"number is\",b)\n",
    "    global result\n",
    "    result = a+b       # local variable (scope is limited only inside the function)\n",
    "    return result\n",
    "    print(\"tata, bye, bye\")"
   ]
  },
  {
   "cell_type": "code",
   "execution_count": 47,
   "id": "1b619245",
   "metadata": {},
   "outputs": [
    {
     "name": "stdout",
     "output_type": "stream",
     "text": [
      "number is 2\n",
      "number is 3\n"
     ]
    },
    {
     "data": {
      "text/plain": [
       "5"
      ]
     },
     "execution_count": 47,
     "metadata": {},
     "output_type": "execute_result"
    }
   ],
   "source": [
    "add_num(2,3)"
   ]
  },
  {
   "cell_type": "markdown",
   "id": "ac91d70d",
   "metadata": {},
   "source": [
    "### lambda"
   ]
  },
  {
   "cell_type": "code",
   "execution_count": 1,
   "id": "f07b30a2",
   "metadata": {},
   "outputs": [],
   "source": [
    "#Lambda function --> without name (anounymous function) --- cant have return statement\n",
    "\n",
    "# how does any function works --> call, execute the logic, give the input"
   ]
  },
  {
   "cell_type": "code",
   "execution_count": 2,
   "id": "0d2733c4",
   "metadata": {},
   "outputs": [],
   "source": [
    "a = lambda a,b,c,d : (a*b*c*d)\n",
    "\n",
    "# left side input : Right side logic"
   ]
  },
  {
   "cell_type": "code",
   "execution_count": 3,
   "id": "979d453b",
   "metadata": {},
   "outputs": [
    {
     "data": {
      "text/plain": [
       "120"
      ]
     },
     "execution_count": 3,
     "metadata": {},
     "output_type": "execute_result"
    }
   ],
   "source": [
    "a(2,3,4,5)"
   ]
  },
  {
   "cell_type": "markdown",
   "id": "4df111a8",
   "metadata": {},
   "source": [
    "### Lambda becomes very powerfull whencombined with map and filter function"
   ]
  },
  {
   "cell_type": "markdown",
   "id": "fa192ed6",
   "metadata": {},
   "source": [
    "### Map()"
   ]
  },
  {
   "cell_type": "code",
   "execution_count": null,
   "id": "9f58932f",
   "metadata": {},
   "outputs": [],
   "source": [
    "# Nature of map to reach and every element"
   ]
  },
  {
   "cell_type": "code",
   "execution_count": 4,
   "id": "cb09747e",
   "metadata": {},
   "outputs": [],
   "source": [
    "l2 = [2,4,5,6,10,7,8,12]\n",
    "\n",
    "# u want tofind square of each element in the list"
   ]
  },
  {
   "cell_type": "code",
   "execution_count": 6,
   "id": "cb333fc5",
   "metadata": {},
   "outputs": [
    {
     "data": {
      "text/plain": [
       "(4, 16, 25, 36, 100, 49, 64, 144)"
      ]
     },
     "execution_count": 6,
     "metadata": {},
     "output_type": "execute_result"
    }
   ],
   "source": [
    "tuple(map(lambda x:x*x,l2))"
   ]
  },
  {
   "cell_type": "markdown",
   "id": "0020cb7f",
   "metadata": {},
   "source": [
    "## Filter"
   ]
  },
  {
   "cell_type": "code",
   "execution_count": 7,
   "id": "786542b3",
   "metadata": {},
   "outputs": [
    {
     "data": {
      "text/plain": [
       "[2, 4, 6, 10, 8, 12]"
      ]
     },
     "execution_count": 7,
     "metadata": {},
     "output_type": "execute_result"
    }
   ],
   "source": [
    "#filter function (act like some condition)\n",
    "\n",
    "# find out all the even numbers from l2\n",
    "\n",
    "list(filter(lambda x:x%2==0,l2))"
   ]
  },
  {
   "cell_type": "markdown",
   "id": "52d756e3",
   "metadata": {},
   "source": [
    "## Itertools"
   ]
  },
  {
   "cell_type": "code",
   "execution_count": 8,
   "id": "c0b87050",
   "metadata": {},
   "outputs": [],
   "source": [
    "import itertools"
   ]
  },
  {
   "cell_type": "code",
   "execution_count": 10,
   "id": "8ee572e3",
   "metadata": {},
   "outputs": [
    {
     "name": "stdout",
     "output_type": "stream",
     "text": [
      "3\n",
      "5\n",
      "7\n",
      "9\n",
      "11\n",
      "13\n",
      "15\n",
      "17\n",
      "19\n",
      "21\n",
      "23\n",
      "25\n",
      "27\n"
     ]
    }
   ],
   "source": [
    "for j in itertools.count(start=3,step=2):\n",
    "    print(j)\n",
    "    if j>25:\n",
    "        break"
   ]
  },
  {
   "cell_type": "markdown",
   "id": "032ba816",
   "metadata": {},
   "source": [
    "### itertools"
   ]
  },
  {
   "cell_type": "code",
   "execution_count": 11,
   "id": "d77e5330",
   "metadata": {},
   "outputs": [],
   "source": [
    "from itertools import product"
   ]
  },
  {
   "cell_type": "code",
   "execution_count": 12,
   "id": "b8e185ae",
   "metadata": {},
   "outputs": [
    {
     "name": "stdout",
     "output_type": "stream",
     "text": [
      "[(1, 1, 1), (1, 1, 2), (1, 2, 1), (1, 2, 2), (2, 1, 1), (2, 1, 2), (2, 2, 1), (2, 2, 2)]\n"
     ]
    }
   ],
   "source": [
    "print(list(product([1,2],repeat = 3)))"
   ]
  },
  {
   "cell_type": "code",
   "execution_count": 15,
   "id": "f93c479c",
   "metadata": {},
   "outputs": [
    {
     "name": "stdout",
     "output_type": "stream",
     "text": [
      "[('H', 'H'), ('H', 'T'), ('T', 'H'), ('T', 'T')]\n"
     ]
    }
   ],
   "source": [
    "print(list(product(['H','T'],repeat = 2)))"
   ]
  },
  {
   "cell_type": "code",
   "execution_count": 16,
   "id": "c5625617",
   "metadata": {},
   "outputs": [
    {
     "name": "stdout",
     "output_type": "stream",
     "text": [
      "[(1, 1), (1, 2), (1, 3), (1, 4), (1, 5), (1, 6), (2, 1), (2, 2), (2, 3), (2, 4), (2, 5), (2, 6), (3, 1), (3, 2), (3, 3), (3, 4), (3, 5), (3, 6), (4, 1), (4, 2), (4, 3), (4, 4), (4, 5), (4, 6), (5, 1), (5, 2), (5, 3), (5, 4), (5, 5), (5, 6), (6, 1), (6, 2), (6, 3), (6, 4), (6, 5), (6, 6)]\n"
     ]
    }
   ],
   "source": [
    "print(list(product([1,2,3,4,5,6],repeat = 2)))"
   ]
  },
  {
   "cell_type": "code",
   "execution_count": 18,
   "id": "def1d828",
   "metadata": {},
   "outputs": [
    {
     "name": "stdout",
     "output_type": "stream",
     "text": [
      "[('H', 'H', 'H'), ('H', 'H', 'T'), ('H', 'T', 'H'), ('H', 'T', 'T'), ('T', 'H', 'H'), ('T', 'H', 'T'), ('T', 'T', 'H'), ('T', 'T', 'T')]\n"
     ]
    }
   ],
   "source": [
    "print(list(product(['H','T'],repeat = 3)))"
   ]
  },
  {
   "cell_type": "code",
   "execution_count": null,
   "id": "de44e0f0",
   "metadata": {},
   "outputs": [],
   "source": []
  },
  {
   "cell_type": "code",
   "execution_count": null,
   "id": "8db9a69b",
   "metadata": {},
   "outputs": [],
   "source": [
    "find the probability of getting 4 heads "
   ]
  },
  {
   "cell_type": "code",
   "execution_count": 21,
   "id": "12b1ea54",
   "metadata": {},
   "outputs": [],
   "source": [
    "l = list(product(['H','T'],repeat = 10))"
   ]
  },
  {
   "cell_type": "code",
   "execution_count": 22,
   "id": "377fffe6",
   "metadata": {},
   "outputs": [
    {
     "data": {
      "text/plain": [
       "[('H', 'H', 'H', 'H', 'H', 'H', 'H', 'H', 'H', 'H'),\n",
       " ('H', 'H', 'H', 'H', 'H', 'H', 'H', 'H', 'H', 'T'),\n",
       " ('H', 'H', 'H', 'H', 'H', 'H', 'H', 'H', 'T', 'H'),\n",
       " ('H', 'H', 'H', 'H', 'H', 'H', 'H', 'H', 'T', 'T'),\n",
       " ('H', 'H', 'H', 'H', 'H', 'H', 'H', 'T', 'H', 'H'),\n",
       " ('H', 'H', 'H', 'H', 'H', 'H', 'H', 'T', 'H', 'T'),\n",
       " ('H', 'H', 'H', 'H', 'H', 'H', 'H', 'T', 'T', 'H'),\n",
       " ('H', 'H', 'H', 'H', 'H', 'H', 'H', 'T', 'T', 'T'),\n",
       " ('H', 'H', 'H', 'H', 'H', 'H', 'T', 'H', 'H', 'H'),\n",
       " ('H', 'H', 'H', 'H', 'H', 'H', 'T', 'H', 'H', 'T'),\n",
       " ('H', 'H', 'H', 'H', 'H', 'H', 'T', 'H', 'T', 'H'),\n",
       " ('H', 'H', 'H', 'H', 'H', 'H', 'T', 'H', 'T', 'T'),\n",
       " ('H', 'H', 'H', 'H', 'H', 'H', 'T', 'T', 'H', 'H'),\n",
       " ('H', 'H', 'H', 'H', 'H', 'H', 'T', 'T', 'H', 'T'),\n",
       " ('H', 'H', 'H', 'H', 'H', 'H', 'T', 'T', 'T', 'H'),\n",
       " ('H', 'H', 'H', 'H', 'H', 'H', 'T', 'T', 'T', 'T'),\n",
       " ('H', 'H', 'H', 'H', 'H', 'T', 'H', 'H', 'H', 'H'),\n",
       " ('H', 'H', 'H', 'H', 'H', 'T', 'H', 'H', 'H', 'T'),\n",
       " ('H', 'H', 'H', 'H', 'H', 'T', 'H', 'H', 'T', 'H'),\n",
       " ('H', 'H', 'H', 'H', 'H', 'T', 'H', 'H', 'T', 'T'),\n",
       " ('H', 'H', 'H', 'H', 'H', 'T', 'H', 'T', 'H', 'H'),\n",
       " ('H', 'H', 'H', 'H', 'H', 'T', 'H', 'T', 'H', 'T'),\n",
       " ('H', 'H', 'H', 'H', 'H', 'T', 'H', 'T', 'T', 'H'),\n",
       " ('H', 'H', 'H', 'H', 'H', 'T', 'H', 'T', 'T', 'T'),\n",
       " ('H', 'H', 'H', 'H', 'H', 'T', 'T', 'H', 'H', 'H'),\n",
       " ('H', 'H', 'H', 'H', 'H', 'T', 'T', 'H', 'H', 'T'),\n",
       " ('H', 'H', 'H', 'H', 'H', 'T', 'T', 'H', 'T', 'H'),\n",
       " ('H', 'H', 'H', 'H', 'H', 'T', 'T', 'H', 'T', 'T'),\n",
       " ('H', 'H', 'H', 'H', 'H', 'T', 'T', 'T', 'H', 'H'),\n",
       " ('H', 'H', 'H', 'H', 'H', 'T', 'T', 'T', 'H', 'T'),\n",
       " ('H', 'H', 'H', 'H', 'H', 'T', 'T', 'T', 'T', 'H'),\n",
       " ('H', 'H', 'H', 'H', 'H', 'T', 'T', 'T', 'T', 'T'),\n",
       " ('H', 'H', 'H', 'H', 'T', 'H', 'H', 'H', 'H', 'H'),\n",
       " ('H', 'H', 'H', 'H', 'T', 'H', 'H', 'H', 'H', 'T'),\n",
       " ('H', 'H', 'H', 'H', 'T', 'H', 'H', 'H', 'T', 'H'),\n",
       " ('H', 'H', 'H', 'H', 'T', 'H', 'H', 'H', 'T', 'T'),\n",
       " ('H', 'H', 'H', 'H', 'T', 'H', 'H', 'T', 'H', 'H'),\n",
       " ('H', 'H', 'H', 'H', 'T', 'H', 'H', 'T', 'H', 'T'),\n",
       " ('H', 'H', 'H', 'H', 'T', 'H', 'H', 'T', 'T', 'H'),\n",
       " ('H', 'H', 'H', 'H', 'T', 'H', 'H', 'T', 'T', 'T'),\n",
       " ('H', 'H', 'H', 'H', 'T', 'H', 'T', 'H', 'H', 'H'),\n",
       " ('H', 'H', 'H', 'H', 'T', 'H', 'T', 'H', 'H', 'T'),\n",
       " ('H', 'H', 'H', 'H', 'T', 'H', 'T', 'H', 'T', 'H'),\n",
       " ('H', 'H', 'H', 'H', 'T', 'H', 'T', 'H', 'T', 'T'),\n",
       " ('H', 'H', 'H', 'H', 'T', 'H', 'T', 'T', 'H', 'H'),\n",
       " ('H', 'H', 'H', 'H', 'T', 'H', 'T', 'T', 'H', 'T'),\n",
       " ('H', 'H', 'H', 'H', 'T', 'H', 'T', 'T', 'T', 'H'),\n",
       " ('H', 'H', 'H', 'H', 'T', 'H', 'T', 'T', 'T', 'T'),\n",
       " ('H', 'H', 'H', 'H', 'T', 'T', 'H', 'H', 'H', 'H'),\n",
       " ('H', 'H', 'H', 'H', 'T', 'T', 'H', 'H', 'H', 'T'),\n",
       " ('H', 'H', 'H', 'H', 'T', 'T', 'H', 'H', 'T', 'H'),\n",
       " ('H', 'H', 'H', 'H', 'T', 'T', 'H', 'H', 'T', 'T'),\n",
       " ('H', 'H', 'H', 'H', 'T', 'T', 'H', 'T', 'H', 'H'),\n",
       " ('H', 'H', 'H', 'H', 'T', 'T', 'H', 'T', 'H', 'T'),\n",
       " ('H', 'H', 'H', 'H', 'T', 'T', 'H', 'T', 'T', 'H'),\n",
       " ('H', 'H', 'H', 'H', 'T', 'T', 'H', 'T', 'T', 'T'),\n",
       " ('H', 'H', 'H', 'H', 'T', 'T', 'T', 'H', 'H', 'H'),\n",
       " ('H', 'H', 'H', 'H', 'T', 'T', 'T', 'H', 'H', 'T'),\n",
       " ('H', 'H', 'H', 'H', 'T', 'T', 'T', 'H', 'T', 'H'),\n",
       " ('H', 'H', 'H', 'H', 'T', 'T', 'T', 'H', 'T', 'T'),\n",
       " ('H', 'H', 'H', 'H', 'T', 'T', 'T', 'T', 'H', 'H'),\n",
       " ('H', 'H', 'H', 'H', 'T', 'T', 'T', 'T', 'H', 'T'),\n",
       " ('H', 'H', 'H', 'H', 'T', 'T', 'T', 'T', 'T', 'H'),\n",
       " ('H', 'H', 'H', 'H', 'T', 'T', 'T', 'T', 'T', 'T'),\n",
       " ('H', 'H', 'H', 'T', 'H', 'H', 'H', 'H', 'H', 'H'),\n",
       " ('H', 'H', 'H', 'T', 'H', 'H', 'H', 'H', 'H', 'T'),\n",
       " ('H', 'H', 'H', 'T', 'H', 'H', 'H', 'H', 'T', 'H'),\n",
       " ('H', 'H', 'H', 'T', 'H', 'H', 'H', 'H', 'T', 'T'),\n",
       " ('H', 'H', 'H', 'T', 'H', 'H', 'H', 'T', 'H', 'H'),\n",
       " ('H', 'H', 'H', 'T', 'H', 'H', 'H', 'T', 'H', 'T'),\n",
       " ('H', 'H', 'H', 'T', 'H', 'H', 'H', 'T', 'T', 'H'),\n",
       " ('H', 'H', 'H', 'T', 'H', 'H', 'H', 'T', 'T', 'T'),\n",
       " ('H', 'H', 'H', 'T', 'H', 'H', 'T', 'H', 'H', 'H'),\n",
       " ('H', 'H', 'H', 'T', 'H', 'H', 'T', 'H', 'H', 'T'),\n",
       " ('H', 'H', 'H', 'T', 'H', 'H', 'T', 'H', 'T', 'H'),\n",
       " ('H', 'H', 'H', 'T', 'H', 'H', 'T', 'H', 'T', 'T'),\n",
       " ('H', 'H', 'H', 'T', 'H', 'H', 'T', 'T', 'H', 'H'),\n",
       " ('H', 'H', 'H', 'T', 'H', 'H', 'T', 'T', 'H', 'T'),\n",
       " ('H', 'H', 'H', 'T', 'H', 'H', 'T', 'T', 'T', 'H'),\n",
       " ('H', 'H', 'H', 'T', 'H', 'H', 'T', 'T', 'T', 'T'),\n",
       " ('H', 'H', 'H', 'T', 'H', 'T', 'H', 'H', 'H', 'H'),\n",
       " ('H', 'H', 'H', 'T', 'H', 'T', 'H', 'H', 'H', 'T'),\n",
       " ('H', 'H', 'H', 'T', 'H', 'T', 'H', 'H', 'T', 'H'),\n",
       " ('H', 'H', 'H', 'T', 'H', 'T', 'H', 'H', 'T', 'T'),\n",
       " ('H', 'H', 'H', 'T', 'H', 'T', 'H', 'T', 'H', 'H'),\n",
       " ('H', 'H', 'H', 'T', 'H', 'T', 'H', 'T', 'H', 'T'),\n",
       " ('H', 'H', 'H', 'T', 'H', 'T', 'H', 'T', 'T', 'H'),\n",
       " ('H', 'H', 'H', 'T', 'H', 'T', 'H', 'T', 'T', 'T'),\n",
       " ('H', 'H', 'H', 'T', 'H', 'T', 'T', 'H', 'H', 'H'),\n",
       " ('H', 'H', 'H', 'T', 'H', 'T', 'T', 'H', 'H', 'T'),\n",
       " ('H', 'H', 'H', 'T', 'H', 'T', 'T', 'H', 'T', 'H'),\n",
       " ('H', 'H', 'H', 'T', 'H', 'T', 'T', 'H', 'T', 'T'),\n",
       " ('H', 'H', 'H', 'T', 'H', 'T', 'T', 'T', 'H', 'H'),\n",
       " ('H', 'H', 'H', 'T', 'H', 'T', 'T', 'T', 'H', 'T'),\n",
       " ('H', 'H', 'H', 'T', 'H', 'T', 'T', 'T', 'T', 'H'),\n",
       " ('H', 'H', 'H', 'T', 'H', 'T', 'T', 'T', 'T', 'T'),\n",
       " ('H', 'H', 'H', 'T', 'T', 'H', 'H', 'H', 'H', 'H'),\n",
       " ('H', 'H', 'H', 'T', 'T', 'H', 'H', 'H', 'H', 'T'),\n",
       " ('H', 'H', 'H', 'T', 'T', 'H', 'H', 'H', 'T', 'H'),\n",
       " ('H', 'H', 'H', 'T', 'T', 'H', 'H', 'H', 'T', 'T'),\n",
       " ('H', 'H', 'H', 'T', 'T', 'H', 'H', 'T', 'H', 'H'),\n",
       " ('H', 'H', 'H', 'T', 'T', 'H', 'H', 'T', 'H', 'T'),\n",
       " ('H', 'H', 'H', 'T', 'T', 'H', 'H', 'T', 'T', 'H'),\n",
       " ('H', 'H', 'H', 'T', 'T', 'H', 'H', 'T', 'T', 'T'),\n",
       " ('H', 'H', 'H', 'T', 'T', 'H', 'T', 'H', 'H', 'H'),\n",
       " ('H', 'H', 'H', 'T', 'T', 'H', 'T', 'H', 'H', 'T'),\n",
       " ('H', 'H', 'H', 'T', 'T', 'H', 'T', 'H', 'T', 'H'),\n",
       " ('H', 'H', 'H', 'T', 'T', 'H', 'T', 'H', 'T', 'T'),\n",
       " ('H', 'H', 'H', 'T', 'T', 'H', 'T', 'T', 'H', 'H'),\n",
       " ('H', 'H', 'H', 'T', 'T', 'H', 'T', 'T', 'H', 'T'),\n",
       " ('H', 'H', 'H', 'T', 'T', 'H', 'T', 'T', 'T', 'H'),\n",
       " ('H', 'H', 'H', 'T', 'T', 'H', 'T', 'T', 'T', 'T'),\n",
       " ('H', 'H', 'H', 'T', 'T', 'T', 'H', 'H', 'H', 'H'),\n",
       " ('H', 'H', 'H', 'T', 'T', 'T', 'H', 'H', 'H', 'T'),\n",
       " ('H', 'H', 'H', 'T', 'T', 'T', 'H', 'H', 'T', 'H'),\n",
       " ('H', 'H', 'H', 'T', 'T', 'T', 'H', 'H', 'T', 'T'),\n",
       " ('H', 'H', 'H', 'T', 'T', 'T', 'H', 'T', 'H', 'H'),\n",
       " ('H', 'H', 'H', 'T', 'T', 'T', 'H', 'T', 'H', 'T'),\n",
       " ('H', 'H', 'H', 'T', 'T', 'T', 'H', 'T', 'T', 'H'),\n",
       " ('H', 'H', 'H', 'T', 'T', 'T', 'H', 'T', 'T', 'T'),\n",
       " ('H', 'H', 'H', 'T', 'T', 'T', 'T', 'H', 'H', 'H'),\n",
       " ('H', 'H', 'H', 'T', 'T', 'T', 'T', 'H', 'H', 'T'),\n",
       " ('H', 'H', 'H', 'T', 'T', 'T', 'T', 'H', 'T', 'H'),\n",
       " ('H', 'H', 'H', 'T', 'T', 'T', 'T', 'H', 'T', 'T'),\n",
       " ('H', 'H', 'H', 'T', 'T', 'T', 'T', 'T', 'H', 'H'),\n",
       " ('H', 'H', 'H', 'T', 'T', 'T', 'T', 'T', 'H', 'T'),\n",
       " ('H', 'H', 'H', 'T', 'T', 'T', 'T', 'T', 'T', 'H'),\n",
       " ('H', 'H', 'H', 'T', 'T', 'T', 'T', 'T', 'T', 'T'),\n",
       " ('H', 'H', 'T', 'H', 'H', 'H', 'H', 'H', 'H', 'H'),\n",
       " ('H', 'H', 'T', 'H', 'H', 'H', 'H', 'H', 'H', 'T'),\n",
       " ('H', 'H', 'T', 'H', 'H', 'H', 'H', 'H', 'T', 'H'),\n",
       " ('H', 'H', 'T', 'H', 'H', 'H', 'H', 'H', 'T', 'T'),\n",
       " ('H', 'H', 'T', 'H', 'H', 'H', 'H', 'T', 'H', 'H'),\n",
       " ('H', 'H', 'T', 'H', 'H', 'H', 'H', 'T', 'H', 'T'),\n",
       " ('H', 'H', 'T', 'H', 'H', 'H', 'H', 'T', 'T', 'H'),\n",
       " ('H', 'H', 'T', 'H', 'H', 'H', 'H', 'T', 'T', 'T'),\n",
       " ('H', 'H', 'T', 'H', 'H', 'H', 'T', 'H', 'H', 'H'),\n",
       " ('H', 'H', 'T', 'H', 'H', 'H', 'T', 'H', 'H', 'T'),\n",
       " ('H', 'H', 'T', 'H', 'H', 'H', 'T', 'H', 'T', 'H'),\n",
       " ('H', 'H', 'T', 'H', 'H', 'H', 'T', 'H', 'T', 'T'),\n",
       " ('H', 'H', 'T', 'H', 'H', 'H', 'T', 'T', 'H', 'H'),\n",
       " ('H', 'H', 'T', 'H', 'H', 'H', 'T', 'T', 'H', 'T'),\n",
       " ('H', 'H', 'T', 'H', 'H', 'H', 'T', 'T', 'T', 'H'),\n",
       " ('H', 'H', 'T', 'H', 'H', 'H', 'T', 'T', 'T', 'T'),\n",
       " ('H', 'H', 'T', 'H', 'H', 'T', 'H', 'H', 'H', 'H'),\n",
       " ('H', 'H', 'T', 'H', 'H', 'T', 'H', 'H', 'H', 'T'),\n",
       " ('H', 'H', 'T', 'H', 'H', 'T', 'H', 'H', 'T', 'H'),\n",
       " ('H', 'H', 'T', 'H', 'H', 'T', 'H', 'H', 'T', 'T'),\n",
       " ('H', 'H', 'T', 'H', 'H', 'T', 'H', 'T', 'H', 'H'),\n",
       " ('H', 'H', 'T', 'H', 'H', 'T', 'H', 'T', 'H', 'T'),\n",
       " ('H', 'H', 'T', 'H', 'H', 'T', 'H', 'T', 'T', 'H'),\n",
       " ('H', 'H', 'T', 'H', 'H', 'T', 'H', 'T', 'T', 'T'),\n",
       " ('H', 'H', 'T', 'H', 'H', 'T', 'T', 'H', 'H', 'H'),\n",
       " ('H', 'H', 'T', 'H', 'H', 'T', 'T', 'H', 'H', 'T'),\n",
       " ('H', 'H', 'T', 'H', 'H', 'T', 'T', 'H', 'T', 'H'),\n",
       " ('H', 'H', 'T', 'H', 'H', 'T', 'T', 'H', 'T', 'T'),\n",
       " ('H', 'H', 'T', 'H', 'H', 'T', 'T', 'T', 'H', 'H'),\n",
       " ('H', 'H', 'T', 'H', 'H', 'T', 'T', 'T', 'H', 'T'),\n",
       " ('H', 'H', 'T', 'H', 'H', 'T', 'T', 'T', 'T', 'H'),\n",
       " ('H', 'H', 'T', 'H', 'H', 'T', 'T', 'T', 'T', 'T'),\n",
       " ('H', 'H', 'T', 'H', 'T', 'H', 'H', 'H', 'H', 'H'),\n",
       " ('H', 'H', 'T', 'H', 'T', 'H', 'H', 'H', 'H', 'T'),\n",
       " ('H', 'H', 'T', 'H', 'T', 'H', 'H', 'H', 'T', 'H'),\n",
       " ('H', 'H', 'T', 'H', 'T', 'H', 'H', 'H', 'T', 'T'),\n",
       " ('H', 'H', 'T', 'H', 'T', 'H', 'H', 'T', 'H', 'H'),\n",
       " ('H', 'H', 'T', 'H', 'T', 'H', 'H', 'T', 'H', 'T'),\n",
       " ('H', 'H', 'T', 'H', 'T', 'H', 'H', 'T', 'T', 'H'),\n",
       " ('H', 'H', 'T', 'H', 'T', 'H', 'H', 'T', 'T', 'T'),\n",
       " ('H', 'H', 'T', 'H', 'T', 'H', 'T', 'H', 'H', 'H'),\n",
       " ('H', 'H', 'T', 'H', 'T', 'H', 'T', 'H', 'H', 'T'),\n",
       " ('H', 'H', 'T', 'H', 'T', 'H', 'T', 'H', 'T', 'H'),\n",
       " ('H', 'H', 'T', 'H', 'T', 'H', 'T', 'H', 'T', 'T'),\n",
       " ('H', 'H', 'T', 'H', 'T', 'H', 'T', 'T', 'H', 'H'),\n",
       " ('H', 'H', 'T', 'H', 'T', 'H', 'T', 'T', 'H', 'T'),\n",
       " ('H', 'H', 'T', 'H', 'T', 'H', 'T', 'T', 'T', 'H'),\n",
       " ('H', 'H', 'T', 'H', 'T', 'H', 'T', 'T', 'T', 'T'),\n",
       " ('H', 'H', 'T', 'H', 'T', 'T', 'H', 'H', 'H', 'H'),\n",
       " ('H', 'H', 'T', 'H', 'T', 'T', 'H', 'H', 'H', 'T'),\n",
       " ('H', 'H', 'T', 'H', 'T', 'T', 'H', 'H', 'T', 'H'),\n",
       " ('H', 'H', 'T', 'H', 'T', 'T', 'H', 'H', 'T', 'T'),\n",
       " ('H', 'H', 'T', 'H', 'T', 'T', 'H', 'T', 'H', 'H'),\n",
       " ('H', 'H', 'T', 'H', 'T', 'T', 'H', 'T', 'H', 'T'),\n",
       " ('H', 'H', 'T', 'H', 'T', 'T', 'H', 'T', 'T', 'H'),\n",
       " ('H', 'H', 'T', 'H', 'T', 'T', 'H', 'T', 'T', 'T'),\n",
       " ('H', 'H', 'T', 'H', 'T', 'T', 'T', 'H', 'H', 'H'),\n",
       " ('H', 'H', 'T', 'H', 'T', 'T', 'T', 'H', 'H', 'T'),\n",
       " ('H', 'H', 'T', 'H', 'T', 'T', 'T', 'H', 'T', 'H'),\n",
       " ('H', 'H', 'T', 'H', 'T', 'T', 'T', 'H', 'T', 'T'),\n",
       " ('H', 'H', 'T', 'H', 'T', 'T', 'T', 'T', 'H', 'H'),\n",
       " ('H', 'H', 'T', 'H', 'T', 'T', 'T', 'T', 'H', 'T'),\n",
       " ('H', 'H', 'T', 'H', 'T', 'T', 'T', 'T', 'T', 'H'),\n",
       " ('H', 'H', 'T', 'H', 'T', 'T', 'T', 'T', 'T', 'T'),\n",
       " ('H', 'H', 'T', 'T', 'H', 'H', 'H', 'H', 'H', 'H'),\n",
       " ('H', 'H', 'T', 'T', 'H', 'H', 'H', 'H', 'H', 'T'),\n",
       " ('H', 'H', 'T', 'T', 'H', 'H', 'H', 'H', 'T', 'H'),\n",
       " ('H', 'H', 'T', 'T', 'H', 'H', 'H', 'H', 'T', 'T'),\n",
       " ('H', 'H', 'T', 'T', 'H', 'H', 'H', 'T', 'H', 'H'),\n",
       " ('H', 'H', 'T', 'T', 'H', 'H', 'H', 'T', 'H', 'T'),\n",
       " ('H', 'H', 'T', 'T', 'H', 'H', 'H', 'T', 'T', 'H'),\n",
       " ('H', 'H', 'T', 'T', 'H', 'H', 'H', 'T', 'T', 'T'),\n",
       " ('H', 'H', 'T', 'T', 'H', 'H', 'T', 'H', 'H', 'H'),\n",
       " ('H', 'H', 'T', 'T', 'H', 'H', 'T', 'H', 'H', 'T'),\n",
       " ('H', 'H', 'T', 'T', 'H', 'H', 'T', 'H', 'T', 'H'),\n",
       " ('H', 'H', 'T', 'T', 'H', 'H', 'T', 'H', 'T', 'T'),\n",
       " ('H', 'H', 'T', 'T', 'H', 'H', 'T', 'T', 'H', 'H'),\n",
       " ('H', 'H', 'T', 'T', 'H', 'H', 'T', 'T', 'H', 'T'),\n",
       " ('H', 'H', 'T', 'T', 'H', 'H', 'T', 'T', 'T', 'H'),\n",
       " ('H', 'H', 'T', 'T', 'H', 'H', 'T', 'T', 'T', 'T'),\n",
       " ('H', 'H', 'T', 'T', 'H', 'T', 'H', 'H', 'H', 'H'),\n",
       " ('H', 'H', 'T', 'T', 'H', 'T', 'H', 'H', 'H', 'T'),\n",
       " ('H', 'H', 'T', 'T', 'H', 'T', 'H', 'H', 'T', 'H'),\n",
       " ('H', 'H', 'T', 'T', 'H', 'T', 'H', 'H', 'T', 'T'),\n",
       " ('H', 'H', 'T', 'T', 'H', 'T', 'H', 'T', 'H', 'H'),\n",
       " ('H', 'H', 'T', 'T', 'H', 'T', 'H', 'T', 'H', 'T'),\n",
       " ('H', 'H', 'T', 'T', 'H', 'T', 'H', 'T', 'T', 'H'),\n",
       " ('H', 'H', 'T', 'T', 'H', 'T', 'H', 'T', 'T', 'T'),\n",
       " ('H', 'H', 'T', 'T', 'H', 'T', 'T', 'H', 'H', 'H'),\n",
       " ('H', 'H', 'T', 'T', 'H', 'T', 'T', 'H', 'H', 'T'),\n",
       " ('H', 'H', 'T', 'T', 'H', 'T', 'T', 'H', 'T', 'H'),\n",
       " ('H', 'H', 'T', 'T', 'H', 'T', 'T', 'H', 'T', 'T'),\n",
       " ('H', 'H', 'T', 'T', 'H', 'T', 'T', 'T', 'H', 'H'),\n",
       " ('H', 'H', 'T', 'T', 'H', 'T', 'T', 'T', 'H', 'T'),\n",
       " ('H', 'H', 'T', 'T', 'H', 'T', 'T', 'T', 'T', 'H'),\n",
       " ('H', 'H', 'T', 'T', 'H', 'T', 'T', 'T', 'T', 'T'),\n",
       " ('H', 'H', 'T', 'T', 'T', 'H', 'H', 'H', 'H', 'H'),\n",
       " ('H', 'H', 'T', 'T', 'T', 'H', 'H', 'H', 'H', 'T'),\n",
       " ('H', 'H', 'T', 'T', 'T', 'H', 'H', 'H', 'T', 'H'),\n",
       " ('H', 'H', 'T', 'T', 'T', 'H', 'H', 'H', 'T', 'T'),\n",
       " ('H', 'H', 'T', 'T', 'T', 'H', 'H', 'T', 'H', 'H'),\n",
       " ('H', 'H', 'T', 'T', 'T', 'H', 'H', 'T', 'H', 'T'),\n",
       " ('H', 'H', 'T', 'T', 'T', 'H', 'H', 'T', 'T', 'H'),\n",
       " ('H', 'H', 'T', 'T', 'T', 'H', 'H', 'T', 'T', 'T'),\n",
       " ('H', 'H', 'T', 'T', 'T', 'H', 'T', 'H', 'H', 'H'),\n",
       " ('H', 'H', 'T', 'T', 'T', 'H', 'T', 'H', 'H', 'T'),\n",
       " ('H', 'H', 'T', 'T', 'T', 'H', 'T', 'H', 'T', 'H'),\n",
       " ('H', 'H', 'T', 'T', 'T', 'H', 'T', 'H', 'T', 'T'),\n",
       " ('H', 'H', 'T', 'T', 'T', 'H', 'T', 'T', 'H', 'H'),\n",
       " ('H', 'H', 'T', 'T', 'T', 'H', 'T', 'T', 'H', 'T'),\n",
       " ('H', 'H', 'T', 'T', 'T', 'H', 'T', 'T', 'T', 'H'),\n",
       " ('H', 'H', 'T', 'T', 'T', 'H', 'T', 'T', 'T', 'T'),\n",
       " ('H', 'H', 'T', 'T', 'T', 'T', 'H', 'H', 'H', 'H'),\n",
       " ('H', 'H', 'T', 'T', 'T', 'T', 'H', 'H', 'H', 'T'),\n",
       " ('H', 'H', 'T', 'T', 'T', 'T', 'H', 'H', 'T', 'H'),\n",
       " ('H', 'H', 'T', 'T', 'T', 'T', 'H', 'H', 'T', 'T'),\n",
       " ('H', 'H', 'T', 'T', 'T', 'T', 'H', 'T', 'H', 'H'),\n",
       " ('H', 'H', 'T', 'T', 'T', 'T', 'H', 'T', 'H', 'T'),\n",
       " ('H', 'H', 'T', 'T', 'T', 'T', 'H', 'T', 'T', 'H'),\n",
       " ('H', 'H', 'T', 'T', 'T', 'T', 'H', 'T', 'T', 'T'),\n",
       " ('H', 'H', 'T', 'T', 'T', 'T', 'T', 'H', 'H', 'H'),\n",
       " ('H', 'H', 'T', 'T', 'T', 'T', 'T', 'H', 'H', 'T'),\n",
       " ('H', 'H', 'T', 'T', 'T', 'T', 'T', 'H', 'T', 'H'),\n",
       " ('H', 'H', 'T', 'T', 'T', 'T', 'T', 'H', 'T', 'T'),\n",
       " ('H', 'H', 'T', 'T', 'T', 'T', 'T', 'T', 'H', 'H'),\n",
       " ('H', 'H', 'T', 'T', 'T', 'T', 'T', 'T', 'H', 'T'),\n",
       " ('H', 'H', 'T', 'T', 'T', 'T', 'T', 'T', 'T', 'H'),\n",
       " ('H', 'H', 'T', 'T', 'T', 'T', 'T', 'T', 'T', 'T'),\n",
       " ('H', 'T', 'H', 'H', 'H', 'H', 'H', 'H', 'H', 'H'),\n",
       " ('H', 'T', 'H', 'H', 'H', 'H', 'H', 'H', 'H', 'T'),\n",
       " ('H', 'T', 'H', 'H', 'H', 'H', 'H', 'H', 'T', 'H'),\n",
       " ('H', 'T', 'H', 'H', 'H', 'H', 'H', 'H', 'T', 'T'),\n",
       " ('H', 'T', 'H', 'H', 'H', 'H', 'H', 'T', 'H', 'H'),\n",
       " ('H', 'T', 'H', 'H', 'H', 'H', 'H', 'T', 'H', 'T'),\n",
       " ('H', 'T', 'H', 'H', 'H', 'H', 'H', 'T', 'T', 'H'),\n",
       " ('H', 'T', 'H', 'H', 'H', 'H', 'H', 'T', 'T', 'T'),\n",
       " ('H', 'T', 'H', 'H', 'H', 'H', 'T', 'H', 'H', 'H'),\n",
       " ('H', 'T', 'H', 'H', 'H', 'H', 'T', 'H', 'H', 'T'),\n",
       " ('H', 'T', 'H', 'H', 'H', 'H', 'T', 'H', 'T', 'H'),\n",
       " ('H', 'T', 'H', 'H', 'H', 'H', 'T', 'H', 'T', 'T'),\n",
       " ('H', 'T', 'H', 'H', 'H', 'H', 'T', 'T', 'H', 'H'),\n",
       " ('H', 'T', 'H', 'H', 'H', 'H', 'T', 'T', 'H', 'T'),\n",
       " ('H', 'T', 'H', 'H', 'H', 'H', 'T', 'T', 'T', 'H'),\n",
       " ('H', 'T', 'H', 'H', 'H', 'H', 'T', 'T', 'T', 'T'),\n",
       " ('H', 'T', 'H', 'H', 'H', 'T', 'H', 'H', 'H', 'H'),\n",
       " ('H', 'T', 'H', 'H', 'H', 'T', 'H', 'H', 'H', 'T'),\n",
       " ('H', 'T', 'H', 'H', 'H', 'T', 'H', 'H', 'T', 'H'),\n",
       " ('H', 'T', 'H', 'H', 'H', 'T', 'H', 'H', 'T', 'T'),\n",
       " ('H', 'T', 'H', 'H', 'H', 'T', 'H', 'T', 'H', 'H'),\n",
       " ('H', 'T', 'H', 'H', 'H', 'T', 'H', 'T', 'H', 'T'),\n",
       " ('H', 'T', 'H', 'H', 'H', 'T', 'H', 'T', 'T', 'H'),\n",
       " ('H', 'T', 'H', 'H', 'H', 'T', 'H', 'T', 'T', 'T'),\n",
       " ('H', 'T', 'H', 'H', 'H', 'T', 'T', 'H', 'H', 'H'),\n",
       " ('H', 'T', 'H', 'H', 'H', 'T', 'T', 'H', 'H', 'T'),\n",
       " ('H', 'T', 'H', 'H', 'H', 'T', 'T', 'H', 'T', 'H'),\n",
       " ('H', 'T', 'H', 'H', 'H', 'T', 'T', 'H', 'T', 'T'),\n",
       " ('H', 'T', 'H', 'H', 'H', 'T', 'T', 'T', 'H', 'H'),\n",
       " ('H', 'T', 'H', 'H', 'H', 'T', 'T', 'T', 'H', 'T'),\n",
       " ('H', 'T', 'H', 'H', 'H', 'T', 'T', 'T', 'T', 'H'),\n",
       " ('H', 'T', 'H', 'H', 'H', 'T', 'T', 'T', 'T', 'T'),\n",
       " ('H', 'T', 'H', 'H', 'T', 'H', 'H', 'H', 'H', 'H'),\n",
       " ('H', 'T', 'H', 'H', 'T', 'H', 'H', 'H', 'H', 'T'),\n",
       " ('H', 'T', 'H', 'H', 'T', 'H', 'H', 'H', 'T', 'H'),\n",
       " ('H', 'T', 'H', 'H', 'T', 'H', 'H', 'H', 'T', 'T'),\n",
       " ('H', 'T', 'H', 'H', 'T', 'H', 'H', 'T', 'H', 'H'),\n",
       " ('H', 'T', 'H', 'H', 'T', 'H', 'H', 'T', 'H', 'T'),\n",
       " ('H', 'T', 'H', 'H', 'T', 'H', 'H', 'T', 'T', 'H'),\n",
       " ('H', 'T', 'H', 'H', 'T', 'H', 'H', 'T', 'T', 'T'),\n",
       " ('H', 'T', 'H', 'H', 'T', 'H', 'T', 'H', 'H', 'H'),\n",
       " ('H', 'T', 'H', 'H', 'T', 'H', 'T', 'H', 'H', 'T'),\n",
       " ('H', 'T', 'H', 'H', 'T', 'H', 'T', 'H', 'T', 'H'),\n",
       " ('H', 'T', 'H', 'H', 'T', 'H', 'T', 'H', 'T', 'T'),\n",
       " ('H', 'T', 'H', 'H', 'T', 'H', 'T', 'T', 'H', 'H'),\n",
       " ('H', 'T', 'H', 'H', 'T', 'H', 'T', 'T', 'H', 'T'),\n",
       " ('H', 'T', 'H', 'H', 'T', 'H', 'T', 'T', 'T', 'H'),\n",
       " ('H', 'T', 'H', 'H', 'T', 'H', 'T', 'T', 'T', 'T'),\n",
       " ('H', 'T', 'H', 'H', 'T', 'T', 'H', 'H', 'H', 'H'),\n",
       " ('H', 'T', 'H', 'H', 'T', 'T', 'H', 'H', 'H', 'T'),\n",
       " ('H', 'T', 'H', 'H', 'T', 'T', 'H', 'H', 'T', 'H'),\n",
       " ('H', 'T', 'H', 'H', 'T', 'T', 'H', 'H', 'T', 'T'),\n",
       " ('H', 'T', 'H', 'H', 'T', 'T', 'H', 'T', 'H', 'H'),\n",
       " ('H', 'T', 'H', 'H', 'T', 'T', 'H', 'T', 'H', 'T'),\n",
       " ('H', 'T', 'H', 'H', 'T', 'T', 'H', 'T', 'T', 'H'),\n",
       " ('H', 'T', 'H', 'H', 'T', 'T', 'H', 'T', 'T', 'T'),\n",
       " ('H', 'T', 'H', 'H', 'T', 'T', 'T', 'H', 'H', 'H'),\n",
       " ('H', 'T', 'H', 'H', 'T', 'T', 'T', 'H', 'H', 'T'),\n",
       " ('H', 'T', 'H', 'H', 'T', 'T', 'T', 'H', 'T', 'H'),\n",
       " ('H', 'T', 'H', 'H', 'T', 'T', 'T', 'H', 'T', 'T'),\n",
       " ('H', 'T', 'H', 'H', 'T', 'T', 'T', 'T', 'H', 'H'),\n",
       " ('H', 'T', 'H', 'H', 'T', 'T', 'T', 'T', 'H', 'T'),\n",
       " ('H', 'T', 'H', 'H', 'T', 'T', 'T', 'T', 'T', 'H'),\n",
       " ('H', 'T', 'H', 'H', 'T', 'T', 'T', 'T', 'T', 'T'),\n",
       " ('H', 'T', 'H', 'T', 'H', 'H', 'H', 'H', 'H', 'H'),\n",
       " ('H', 'T', 'H', 'T', 'H', 'H', 'H', 'H', 'H', 'T'),\n",
       " ('H', 'T', 'H', 'T', 'H', 'H', 'H', 'H', 'T', 'H'),\n",
       " ('H', 'T', 'H', 'T', 'H', 'H', 'H', 'H', 'T', 'T'),\n",
       " ('H', 'T', 'H', 'T', 'H', 'H', 'H', 'T', 'H', 'H'),\n",
       " ('H', 'T', 'H', 'T', 'H', 'H', 'H', 'T', 'H', 'T'),\n",
       " ('H', 'T', 'H', 'T', 'H', 'H', 'H', 'T', 'T', 'H'),\n",
       " ('H', 'T', 'H', 'T', 'H', 'H', 'H', 'T', 'T', 'T'),\n",
       " ('H', 'T', 'H', 'T', 'H', 'H', 'T', 'H', 'H', 'H'),\n",
       " ('H', 'T', 'H', 'T', 'H', 'H', 'T', 'H', 'H', 'T'),\n",
       " ('H', 'T', 'H', 'T', 'H', 'H', 'T', 'H', 'T', 'H'),\n",
       " ('H', 'T', 'H', 'T', 'H', 'H', 'T', 'H', 'T', 'T'),\n",
       " ('H', 'T', 'H', 'T', 'H', 'H', 'T', 'T', 'H', 'H'),\n",
       " ('H', 'T', 'H', 'T', 'H', 'H', 'T', 'T', 'H', 'T'),\n",
       " ('H', 'T', 'H', 'T', 'H', 'H', 'T', 'T', 'T', 'H'),\n",
       " ('H', 'T', 'H', 'T', 'H', 'H', 'T', 'T', 'T', 'T'),\n",
       " ('H', 'T', 'H', 'T', 'H', 'T', 'H', 'H', 'H', 'H'),\n",
       " ('H', 'T', 'H', 'T', 'H', 'T', 'H', 'H', 'H', 'T'),\n",
       " ('H', 'T', 'H', 'T', 'H', 'T', 'H', 'H', 'T', 'H'),\n",
       " ('H', 'T', 'H', 'T', 'H', 'T', 'H', 'H', 'T', 'T'),\n",
       " ('H', 'T', 'H', 'T', 'H', 'T', 'H', 'T', 'H', 'H'),\n",
       " ('H', 'T', 'H', 'T', 'H', 'T', 'H', 'T', 'H', 'T'),\n",
       " ('H', 'T', 'H', 'T', 'H', 'T', 'H', 'T', 'T', 'H'),\n",
       " ('H', 'T', 'H', 'T', 'H', 'T', 'H', 'T', 'T', 'T'),\n",
       " ('H', 'T', 'H', 'T', 'H', 'T', 'T', 'H', 'H', 'H'),\n",
       " ('H', 'T', 'H', 'T', 'H', 'T', 'T', 'H', 'H', 'T'),\n",
       " ('H', 'T', 'H', 'T', 'H', 'T', 'T', 'H', 'T', 'H'),\n",
       " ('H', 'T', 'H', 'T', 'H', 'T', 'T', 'H', 'T', 'T'),\n",
       " ('H', 'T', 'H', 'T', 'H', 'T', 'T', 'T', 'H', 'H'),\n",
       " ('H', 'T', 'H', 'T', 'H', 'T', 'T', 'T', 'H', 'T'),\n",
       " ('H', 'T', 'H', 'T', 'H', 'T', 'T', 'T', 'T', 'H'),\n",
       " ('H', 'T', 'H', 'T', 'H', 'T', 'T', 'T', 'T', 'T'),\n",
       " ('H', 'T', 'H', 'T', 'T', 'H', 'H', 'H', 'H', 'H'),\n",
       " ('H', 'T', 'H', 'T', 'T', 'H', 'H', 'H', 'H', 'T'),\n",
       " ('H', 'T', 'H', 'T', 'T', 'H', 'H', 'H', 'T', 'H'),\n",
       " ('H', 'T', 'H', 'T', 'T', 'H', 'H', 'H', 'T', 'T'),\n",
       " ('H', 'T', 'H', 'T', 'T', 'H', 'H', 'T', 'H', 'H'),\n",
       " ('H', 'T', 'H', 'T', 'T', 'H', 'H', 'T', 'H', 'T'),\n",
       " ('H', 'T', 'H', 'T', 'T', 'H', 'H', 'T', 'T', 'H'),\n",
       " ('H', 'T', 'H', 'T', 'T', 'H', 'H', 'T', 'T', 'T'),\n",
       " ('H', 'T', 'H', 'T', 'T', 'H', 'T', 'H', 'H', 'H'),\n",
       " ('H', 'T', 'H', 'T', 'T', 'H', 'T', 'H', 'H', 'T'),\n",
       " ('H', 'T', 'H', 'T', 'T', 'H', 'T', 'H', 'T', 'H'),\n",
       " ('H', 'T', 'H', 'T', 'T', 'H', 'T', 'H', 'T', 'T'),\n",
       " ('H', 'T', 'H', 'T', 'T', 'H', 'T', 'T', 'H', 'H'),\n",
       " ('H', 'T', 'H', 'T', 'T', 'H', 'T', 'T', 'H', 'T'),\n",
       " ('H', 'T', 'H', 'T', 'T', 'H', 'T', 'T', 'T', 'H'),\n",
       " ('H', 'T', 'H', 'T', 'T', 'H', 'T', 'T', 'T', 'T'),\n",
       " ('H', 'T', 'H', 'T', 'T', 'T', 'H', 'H', 'H', 'H'),\n",
       " ('H', 'T', 'H', 'T', 'T', 'T', 'H', 'H', 'H', 'T'),\n",
       " ('H', 'T', 'H', 'T', 'T', 'T', 'H', 'H', 'T', 'H'),\n",
       " ('H', 'T', 'H', 'T', 'T', 'T', 'H', 'H', 'T', 'T'),\n",
       " ('H', 'T', 'H', 'T', 'T', 'T', 'H', 'T', 'H', 'H'),\n",
       " ('H', 'T', 'H', 'T', 'T', 'T', 'H', 'T', 'H', 'T'),\n",
       " ('H', 'T', 'H', 'T', 'T', 'T', 'H', 'T', 'T', 'H'),\n",
       " ('H', 'T', 'H', 'T', 'T', 'T', 'H', 'T', 'T', 'T'),\n",
       " ('H', 'T', 'H', 'T', 'T', 'T', 'T', 'H', 'H', 'H'),\n",
       " ('H', 'T', 'H', 'T', 'T', 'T', 'T', 'H', 'H', 'T'),\n",
       " ('H', 'T', 'H', 'T', 'T', 'T', 'T', 'H', 'T', 'H'),\n",
       " ('H', 'T', 'H', 'T', 'T', 'T', 'T', 'H', 'T', 'T'),\n",
       " ('H', 'T', 'H', 'T', 'T', 'T', 'T', 'T', 'H', 'H'),\n",
       " ('H', 'T', 'H', 'T', 'T', 'T', 'T', 'T', 'H', 'T'),\n",
       " ('H', 'T', 'H', 'T', 'T', 'T', 'T', 'T', 'T', 'H'),\n",
       " ('H', 'T', 'H', 'T', 'T', 'T', 'T', 'T', 'T', 'T'),\n",
       " ('H', 'T', 'T', 'H', 'H', 'H', 'H', 'H', 'H', 'H'),\n",
       " ('H', 'T', 'T', 'H', 'H', 'H', 'H', 'H', 'H', 'T'),\n",
       " ('H', 'T', 'T', 'H', 'H', 'H', 'H', 'H', 'T', 'H'),\n",
       " ('H', 'T', 'T', 'H', 'H', 'H', 'H', 'H', 'T', 'T'),\n",
       " ('H', 'T', 'T', 'H', 'H', 'H', 'H', 'T', 'H', 'H'),\n",
       " ('H', 'T', 'T', 'H', 'H', 'H', 'H', 'T', 'H', 'T'),\n",
       " ('H', 'T', 'T', 'H', 'H', 'H', 'H', 'T', 'T', 'H'),\n",
       " ('H', 'T', 'T', 'H', 'H', 'H', 'H', 'T', 'T', 'T'),\n",
       " ('H', 'T', 'T', 'H', 'H', 'H', 'T', 'H', 'H', 'H'),\n",
       " ('H', 'T', 'T', 'H', 'H', 'H', 'T', 'H', 'H', 'T'),\n",
       " ('H', 'T', 'T', 'H', 'H', 'H', 'T', 'H', 'T', 'H'),\n",
       " ('H', 'T', 'T', 'H', 'H', 'H', 'T', 'H', 'T', 'T'),\n",
       " ('H', 'T', 'T', 'H', 'H', 'H', 'T', 'T', 'H', 'H'),\n",
       " ('H', 'T', 'T', 'H', 'H', 'H', 'T', 'T', 'H', 'T'),\n",
       " ('H', 'T', 'T', 'H', 'H', 'H', 'T', 'T', 'T', 'H'),\n",
       " ('H', 'T', 'T', 'H', 'H', 'H', 'T', 'T', 'T', 'T'),\n",
       " ('H', 'T', 'T', 'H', 'H', 'T', 'H', 'H', 'H', 'H'),\n",
       " ('H', 'T', 'T', 'H', 'H', 'T', 'H', 'H', 'H', 'T'),\n",
       " ('H', 'T', 'T', 'H', 'H', 'T', 'H', 'H', 'T', 'H'),\n",
       " ('H', 'T', 'T', 'H', 'H', 'T', 'H', 'H', 'T', 'T'),\n",
       " ('H', 'T', 'T', 'H', 'H', 'T', 'H', 'T', 'H', 'H'),\n",
       " ('H', 'T', 'T', 'H', 'H', 'T', 'H', 'T', 'H', 'T'),\n",
       " ('H', 'T', 'T', 'H', 'H', 'T', 'H', 'T', 'T', 'H'),\n",
       " ('H', 'T', 'T', 'H', 'H', 'T', 'H', 'T', 'T', 'T'),\n",
       " ('H', 'T', 'T', 'H', 'H', 'T', 'T', 'H', 'H', 'H'),\n",
       " ('H', 'T', 'T', 'H', 'H', 'T', 'T', 'H', 'H', 'T'),\n",
       " ('H', 'T', 'T', 'H', 'H', 'T', 'T', 'H', 'T', 'H'),\n",
       " ('H', 'T', 'T', 'H', 'H', 'T', 'T', 'H', 'T', 'T'),\n",
       " ('H', 'T', 'T', 'H', 'H', 'T', 'T', 'T', 'H', 'H'),\n",
       " ('H', 'T', 'T', 'H', 'H', 'T', 'T', 'T', 'H', 'T'),\n",
       " ('H', 'T', 'T', 'H', 'H', 'T', 'T', 'T', 'T', 'H'),\n",
       " ('H', 'T', 'T', 'H', 'H', 'T', 'T', 'T', 'T', 'T'),\n",
       " ('H', 'T', 'T', 'H', 'T', 'H', 'H', 'H', 'H', 'H'),\n",
       " ('H', 'T', 'T', 'H', 'T', 'H', 'H', 'H', 'H', 'T'),\n",
       " ('H', 'T', 'T', 'H', 'T', 'H', 'H', 'H', 'T', 'H'),\n",
       " ('H', 'T', 'T', 'H', 'T', 'H', 'H', 'H', 'T', 'T'),\n",
       " ('H', 'T', 'T', 'H', 'T', 'H', 'H', 'T', 'H', 'H'),\n",
       " ('H', 'T', 'T', 'H', 'T', 'H', 'H', 'T', 'H', 'T'),\n",
       " ('H', 'T', 'T', 'H', 'T', 'H', 'H', 'T', 'T', 'H'),\n",
       " ('H', 'T', 'T', 'H', 'T', 'H', 'H', 'T', 'T', 'T'),\n",
       " ('H', 'T', 'T', 'H', 'T', 'H', 'T', 'H', 'H', 'H'),\n",
       " ('H', 'T', 'T', 'H', 'T', 'H', 'T', 'H', 'H', 'T'),\n",
       " ('H', 'T', 'T', 'H', 'T', 'H', 'T', 'H', 'T', 'H'),\n",
       " ('H', 'T', 'T', 'H', 'T', 'H', 'T', 'H', 'T', 'T'),\n",
       " ('H', 'T', 'T', 'H', 'T', 'H', 'T', 'T', 'H', 'H'),\n",
       " ('H', 'T', 'T', 'H', 'T', 'H', 'T', 'T', 'H', 'T'),\n",
       " ('H', 'T', 'T', 'H', 'T', 'H', 'T', 'T', 'T', 'H'),\n",
       " ('H', 'T', 'T', 'H', 'T', 'H', 'T', 'T', 'T', 'T'),\n",
       " ('H', 'T', 'T', 'H', 'T', 'T', 'H', 'H', 'H', 'H'),\n",
       " ('H', 'T', 'T', 'H', 'T', 'T', 'H', 'H', 'H', 'T'),\n",
       " ('H', 'T', 'T', 'H', 'T', 'T', 'H', 'H', 'T', 'H'),\n",
       " ('H', 'T', 'T', 'H', 'T', 'T', 'H', 'H', 'T', 'T'),\n",
       " ('H', 'T', 'T', 'H', 'T', 'T', 'H', 'T', 'H', 'H'),\n",
       " ('H', 'T', 'T', 'H', 'T', 'T', 'H', 'T', 'H', 'T'),\n",
       " ('H', 'T', 'T', 'H', 'T', 'T', 'H', 'T', 'T', 'H'),\n",
       " ('H', 'T', 'T', 'H', 'T', 'T', 'H', 'T', 'T', 'T'),\n",
       " ('H', 'T', 'T', 'H', 'T', 'T', 'T', 'H', 'H', 'H'),\n",
       " ('H', 'T', 'T', 'H', 'T', 'T', 'T', 'H', 'H', 'T'),\n",
       " ('H', 'T', 'T', 'H', 'T', 'T', 'T', 'H', 'T', 'H'),\n",
       " ('H', 'T', 'T', 'H', 'T', 'T', 'T', 'H', 'T', 'T'),\n",
       " ('H', 'T', 'T', 'H', 'T', 'T', 'T', 'T', 'H', 'H'),\n",
       " ('H', 'T', 'T', 'H', 'T', 'T', 'T', 'T', 'H', 'T'),\n",
       " ('H', 'T', 'T', 'H', 'T', 'T', 'T', 'T', 'T', 'H'),\n",
       " ('H', 'T', 'T', 'H', 'T', 'T', 'T', 'T', 'T', 'T'),\n",
       " ('H', 'T', 'T', 'T', 'H', 'H', 'H', 'H', 'H', 'H'),\n",
       " ('H', 'T', 'T', 'T', 'H', 'H', 'H', 'H', 'H', 'T'),\n",
       " ('H', 'T', 'T', 'T', 'H', 'H', 'H', 'H', 'T', 'H'),\n",
       " ('H', 'T', 'T', 'T', 'H', 'H', 'H', 'H', 'T', 'T'),\n",
       " ('H', 'T', 'T', 'T', 'H', 'H', 'H', 'T', 'H', 'H'),\n",
       " ('H', 'T', 'T', 'T', 'H', 'H', 'H', 'T', 'H', 'T'),\n",
       " ('H', 'T', 'T', 'T', 'H', 'H', 'H', 'T', 'T', 'H'),\n",
       " ('H', 'T', 'T', 'T', 'H', 'H', 'H', 'T', 'T', 'T'),\n",
       " ('H', 'T', 'T', 'T', 'H', 'H', 'T', 'H', 'H', 'H'),\n",
       " ('H', 'T', 'T', 'T', 'H', 'H', 'T', 'H', 'H', 'T'),\n",
       " ('H', 'T', 'T', 'T', 'H', 'H', 'T', 'H', 'T', 'H'),\n",
       " ('H', 'T', 'T', 'T', 'H', 'H', 'T', 'H', 'T', 'T'),\n",
       " ('H', 'T', 'T', 'T', 'H', 'H', 'T', 'T', 'H', 'H'),\n",
       " ('H', 'T', 'T', 'T', 'H', 'H', 'T', 'T', 'H', 'T'),\n",
       " ('H', 'T', 'T', 'T', 'H', 'H', 'T', 'T', 'T', 'H'),\n",
       " ('H', 'T', 'T', 'T', 'H', 'H', 'T', 'T', 'T', 'T'),\n",
       " ('H', 'T', 'T', 'T', 'H', 'T', 'H', 'H', 'H', 'H'),\n",
       " ('H', 'T', 'T', 'T', 'H', 'T', 'H', 'H', 'H', 'T'),\n",
       " ('H', 'T', 'T', 'T', 'H', 'T', 'H', 'H', 'T', 'H'),\n",
       " ('H', 'T', 'T', 'T', 'H', 'T', 'H', 'H', 'T', 'T'),\n",
       " ('H', 'T', 'T', 'T', 'H', 'T', 'H', 'T', 'H', 'H'),\n",
       " ('H', 'T', 'T', 'T', 'H', 'T', 'H', 'T', 'H', 'T'),\n",
       " ('H', 'T', 'T', 'T', 'H', 'T', 'H', 'T', 'T', 'H'),\n",
       " ('H', 'T', 'T', 'T', 'H', 'T', 'H', 'T', 'T', 'T'),\n",
       " ('H', 'T', 'T', 'T', 'H', 'T', 'T', 'H', 'H', 'H'),\n",
       " ('H', 'T', 'T', 'T', 'H', 'T', 'T', 'H', 'H', 'T'),\n",
       " ('H', 'T', 'T', 'T', 'H', 'T', 'T', 'H', 'T', 'H'),\n",
       " ('H', 'T', 'T', 'T', 'H', 'T', 'T', 'H', 'T', 'T'),\n",
       " ('H', 'T', 'T', 'T', 'H', 'T', 'T', 'T', 'H', 'H'),\n",
       " ('H', 'T', 'T', 'T', 'H', 'T', 'T', 'T', 'H', 'T'),\n",
       " ('H', 'T', 'T', 'T', 'H', 'T', 'T', 'T', 'T', 'H'),\n",
       " ('H', 'T', 'T', 'T', 'H', 'T', 'T', 'T', 'T', 'T'),\n",
       " ('H', 'T', 'T', 'T', 'T', 'H', 'H', 'H', 'H', 'H'),\n",
       " ('H', 'T', 'T', 'T', 'T', 'H', 'H', 'H', 'H', 'T'),\n",
       " ('H', 'T', 'T', 'T', 'T', 'H', 'H', 'H', 'T', 'H'),\n",
       " ('H', 'T', 'T', 'T', 'T', 'H', 'H', 'H', 'T', 'T'),\n",
       " ('H', 'T', 'T', 'T', 'T', 'H', 'H', 'T', 'H', 'H'),\n",
       " ('H', 'T', 'T', 'T', 'T', 'H', 'H', 'T', 'H', 'T'),\n",
       " ('H', 'T', 'T', 'T', 'T', 'H', 'H', 'T', 'T', 'H'),\n",
       " ('H', 'T', 'T', 'T', 'T', 'H', 'H', 'T', 'T', 'T'),\n",
       " ('H', 'T', 'T', 'T', 'T', 'H', 'T', 'H', 'H', 'H'),\n",
       " ('H', 'T', 'T', 'T', 'T', 'H', 'T', 'H', 'H', 'T'),\n",
       " ('H', 'T', 'T', 'T', 'T', 'H', 'T', 'H', 'T', 'H'),\n",
       " ('H', 'T', 'T', 'T', 'T', 'H', 'T', 'H', 'T', 'T'),\n",
       " ('H', 'T', 'T', 'T', 'T', 'H', 'T', 'T', 'H', 'H'),\n",
       " ('H', 'T', 'T', 'T', 'T', 'H', 'T', 'T', 'H', 'T'),\n",
       " ('H', 'T', 'T', 'T', 'T', 'H', 'T', 'T', 'T', 'H'),\n",
       " ('H', 'T', 'T', 'T', 'T', 'H', 'T', 'T', 'T', 'T'),\n",
       " ('H', 'T', 'T', 'T', 'T', 'T', 'H', 'H', 'H', 'H'),\n",
       " ('H', 'T', 'T', 'T', 'T', 'T', 'H', 'H', 'H', 'T'),\n",
       " ('H', 'T', 'T', 'T', 'T', 'T', 'H', 'H', 'T', 'H'),\n",
       " ('H', 'T', 'T', 'T', 'T', 'T', 'H', 'H', 'T', 'T'),\n",
       " ('H', 'T', 'T', 'T', 'T', 'T', 'H', 'T', 'H', 'H'),\n",
       " ('H', 'T', 'T', 'T', 'T', 'T', 'H', 'T', 'H', 'T'),\n",
       " ('H', 'T', 'T', 'T', 'T', 'T', 'H', 'T', 'T', 'H'),\n",
       " ('H', 'T', 'T', 'T', 'T', 'T', 'H', 'T', 'T', 'T'),\n",
       " ('H', 'T', 'T', 'T', 'T', 'T', 'T', 'H', 'H', 'H'),\n",
       " ('H', 'T', 'T', 'T', 'T', 'T', 'T', 'H', 'H', 'T'),\n",
       " ('H', 'T', 'T', 'T', 'T', 'T', 'T', 'H', 'T', 'H'),\n",
       " ('H', 'T', 'T', 'T', 'T', 'T', 'T', 'H', 'T', 'T'),\n",
       " ('H', 'T', 'T', 'T', 'T', 'T', 'T', 'T', 'H', 'H'),\n",
       " ('H', 'T', 'T', 'T', 'T', 'T', 'T', 'T', 'H', 'T'),\n",
       " ('H', 'T', 'T', 'T', 'T', 'T', 'T', 'T', 'T', 'H'),\n",
       " ('H', 'T', 'T', 'T', 'T', 'T', 'T', 'T', 'T', 'T'),\n",
       " ('T', 'H', 'H', 'H', 'H', 'H', 'H', 'H', 'H', 'H'),\n",
       " ('T', 'H', 'H', 'H', 'H', 'H', 'H', 'H', 'H', 'T'),\n",
       " ('T', 'H', 'H', 'H', 'H', 'H', 'H', 'H', 'T', 'H'),\n",
       " ('T', 'H', 'H', 'H', 'H', 'H', 'H', 'H', 'T', 'T'),\n",
       " ('T', 'H', 'H', 'H', 'H', 'H', 'H', 'T', 'H', 'H'),\n",
       " ('T', 'H', 'H', 'H', 'H', 'H', 'H', 'T', 'H', 'T'),\n",
       " ('T', 'H', 'H', 'H', 'H', 'H', 'H', 'T', 'T', 'H'),\n",
       " ('T', 'H', 'H', 'H', 'H', 'H', 'H', 'T', 'T', 'T'),\n",
       " ('T', 'H', 'H', 'H', 'H', 'H', 'T', 'H', 'H', 'H'),\n",
       " ('T', 'H', 'H', 'H', 'H', 'H', 'T', 'H', 'H', 'T'),\n",
       " ('T', 'H', 'H', 'H', 'H', 'H', 'T', 'H', 'T', 'H'),\n",
       " ('T', 'H', 'H', 'H', 'H', 'H', 'T', 'H', 'T', 'T'),\n",
       " ('T', 'H', 'H', 'H', 'H', 'H', 'T', 'T', 'H', 'H'),\n",
       " ('T', 'H', 'H', 'H', 'H', 'H', 'T', 'T', 'H', 'T'),\n",
       " ('T', 'H', 'H', 'H', 'H', 'H', 'T', 'T', 'T', 'H'),\n",
       " ('T', 'H', 'H', 'H', 'H', 'H', 'T', 'T', 'T', 'T'),\n",
       " ('T', 'H', 'H', 'H', 'H', 'T', 'H', 'H', 'H', 'H'),\n",
       " ('T', 'H', 'H', 'H', 'H', 'T', 'H', 'H', 'H', 'T'),\n",
       " ('T', 'H', 'H', 'H', 'H', 'T', 'H', 'H', 'T', 'H'),\n",
       " ('T', 'H', 'H', 'H', 'H', 'T', 'H', 'H', 'T', 'T'),\n",
       " ('T', 'H', 'H', 'H', 'H', 'T', 'H', 'T', 'H', 'H'),\n",
       " ('T', 'H', 'H', 'H', 'H', 'T', 'H', 'T', 'H', 'T'),\n",
       " ('T', 'H', 'H', 'H', 'H', 'T', 'H', 'T', 'T', 'H'),\n",
       " ('T', 'H', 'H', 'H', 'H', 'T', 'H', 'T', 'T', 'T'),\n",
       " ('T', 'H', 'H', 'H', 'H', 'T', 'T', 'H', 'H', 'H'),\n",
       " ('T', 'H', 'H', 'H', 'H', 'T', 'T', 'H', 'H', 'T'),\n",
       " ('T', 'H', 'H', 'H', 'H', 'T', 'T', 'H', 'T', 'H'),\n",
       " ('T', 'H', 'H', 'H', 'H', 'T', 'T', 'H', 'T', 'T'),\n",
       " ('T', 'H', 'H', 'H', 'H', 'T', 'T', 'T', 'H', 'H'),\n",
       " ('T', 'H', 'H', 'H', 'H', 'T', 'T', 'T', 'H', 'T'),\n",
       " ('T', 'H', 'H', 'H', 'H', 'T', 'T', 'T', 'T', 'H'),\n",
       " ('T', 'H', 'H', 'H', 'H', 'T', 'T', 'T', 'T', 'T'),\n",
       " ('T', 'H', 'H', 'H', 'T', 'H', 'H', 'H', 'H', 'H'),\n",
       " ('T', 'H', 'H', 'H', 'T', 'H', 'H', 'H', 'H', 'T'),\n",
       " ('T', 'H', 'H', 'H', 'T', 'H', 'H', 'H', 'T', 'H'),\n",
       " ('T', 'H', 'H', 'H', 'T', 'H', 'H', 'H', 'T', 'T'),\n",
       " ('T', 'H', 'H', 'H', 'T', 'H', 'H', 'T', 'H', 'H'),\n",
       " ('T', 'H', 'H', 'H', 'T', 'H', 'H', 'T', 'H', 'T'),\n",
       " ('T', 'H', 'H', 'H', 'T', 'H', 'H', 'T', 'T', 'H'),\n",
       " ('T', 'H', 'H', 'H', 'T', 'H', 'H', 'T', 'T', 'T'),\n",
       " ('T', 'H', 'H', 'H', 'T', 'H', 'T', 'H', 'H', 'H'),\n",
       " ('T', 'H', 'H', 'H', 'T', 'H', 'T', 'H', 'H', 'T'),\n",
       " ('T', 'H', 'H', 'H', 'T', 'H', 'T', 'H', 'T', 'H'),\n",
       " ('T', 'H', 'H', 'H', 'T', 'H', 'T', 'H', 'T', 'T'),\n",
       " ('T', 'H', 'H', 'H', 'T', 'H', 'T', 'T', 'H', 'H'),\n",
       " ('T', 'H', 'H', 'H', 'T', 'H', 'T', 'T', 'H', 'T'),\n",
       " ('T', 'H', 'H', 'H', 'T', 'H', 'T', 'T', 'T', 'H'),\n",
       " ('T', 'H', 'H', 'H', 'T', 'H', 'T', 'T', 'T', 'T'),\n",
       " ('T', 'H', 'H', 'H', 'T', 'T', 'H', 'H', 'H', 'H'),\n",
       " ('T', 'H', 'H', 'H', 'T', 'T', 'H', 'H', 'H', 'T'),\n",
       " ('T', 'H', 'H', 'H', 'T', 'T', 'H', 'H', 'T', 'H'),\n",
       " ('T', 'H', 'H', 'H', 'T', 'T', 'H', 'H', 'T', 'T'),\n",
       " ('T', 'H', 'H', 'H', 'T', 'T', 'H', 'T', 'H', 'H'),\n",
       " ('T', 'H', 'H', 'H', 'T', 'T', 'H', 'T', 'H', 'T'),\n",
       " ('T', 'H', 'H', 'H', 'T', 'T', 'H', 'T', 'T', 'H'),\n",
       " ('T', 'H', 'H', 'H', 'T', 'T', 'H', 'T', 'T', 'T'),\n",
       " ('T', 'H', 'H', 'H', 'T', 'T', 'T', 'H', 'H', 'H'),\n",
       " ('T', 'H', 'H', 'H', 'T', 'T', 'T', 'H', 'H', 'T'),\n",
       " ('T', 'H', 'H', 'H', 'T', 'T', 'T', 'H', 'T', 'H'),\n",
       " ('T', 'H', 'H', 'H', 'T', 'T', 'T', 'H', 'T', 'T'),\n",
       " ('T', 'H', 'H', 'H', 'T', 'T', 'T', 'T', 'H', 'H'),\n",
       " ('T', 'H', 'H', 'H', 'T', 'T', 'T', 'T', 'H', 'T'),\n",
       " ('T', 'H', 'H', 'H', 'T', 'T', 'T', 'T', 'T', 'H'),\n",
       " ('T', 'H', 'H', 'H', 'T', 'T', 'T', 'T', 'T', 'T'),\n",
       " ('T', 'H', 'H', 'T', 'H', 'H', 'H', 'H', 'H', 'H'),\n",
       " ('T', 'H', 'H', 'T', 'H', 'H', 'H', 'H', 'H', 'T'),\n",
       " ('T', 'H', 'H', 'T', 'H', 'H', 'H', 'H', 'T', 'H'),\n",
       " ('T', 'H', 'H', 'T', 'H', 'H', 'H', 'H', 'T', 'T'),\n",
       " ('T', 'H', 'H', 'T', 'H', 'H', 'H', 'T', 'H', 'H'),\n",
       " ('T', 'H', 'H', 'T', 'H', 'H', 'H', 'T', 'H', 'T'),\n",
       " ('T', 'H', 'H', 'T', 'H', 'H', 'H', 'T', 'T', 'H'),\n",
       " ('T', 'H', 'H', 'T', 'H', 'H', 'H', 'T', 'T', 'T'),\n",
       " ('T', 'H', 'H', 'T', 'H', 'H', 'T', 'H', 'H', 'H'),\n",
       " ('T', 'H', 'H', 'T', 'H', 'H', 'T', 'H', 'H', 'T'),\n",
       " ('T', 'H', 'H', 'T', 'H', 'H', 'T', 'H', 'T', 'H'),\n",
       " ('T', 'H', 'H', 'T', 'H', 'H', 'T', 'H', 'T', 'T'),\n",
       " ('T', 'H', 'H', 'T', 'H', 'H', 'T', 'T', 'H', 'H'),\n",
       " ('T', 'H', 'H', 'T', 'H', 'H', 'T', 'T', 'H', 'T'),\n",
       " ('T', 'H', 'H', 'T', 'H', 'H', 'T', 'T', 'T', 'H'),\n",
       " ('T', 'H', 'H', 'T', 'H', 'H', 'T', 'T', 'T', 'T'),\n",
       " ('T', 'H', 'H', 'T', 'H', 'T', 'H', 'H', 'H', 'H'),\n",
       " ('T', 'H', 'H', 'T', 'H', 'T', 'H', 'H', 'H', 'T'),\n",
       " ('T', 'H', 'H', 'T', 'H', 'T', 'H', 'H', 'T', 'H'),\n",
       " ('T', 'H', 'H', 'T', 'H', 'T', 'H', 'H', 'T', 'T'),\n",
       " ('T', 'H', 'H', 'T', 'H', 'T', 'H', 'T', 'H', 'H'),\n",
       " ('T', 'H', 'H', 'T', 'H', 'T', 'H', 'T', 'H', 'T'),\n",
       " ('T', 'H', 'H', 'T', 'H', 'T', 'H', 'T', 'T', 'H'),\n",
       " ('T', 'H', 'H', 'T', 'H', 'T', 'H', 'T', 'T', 'T'),\n",
       " ('T', 'H', 'H', 'T', 'H', 'T', 'T', 'H', 'H', 'H'),\n",
       " ('T', 'H', 'H', 'T', 'H', 'T', 'T', 'H', 'H', 'T'),\n",
       " ('T', 'H', 'H', 'T', 'H', 'T', 'T', 'H', 'T', 'H'),\n",
       " ('T', 'H', 'H', 'T', 'H', 'T', 'T', 'H', 'T', 'T'),\n",
       " ('T', 'H', 'H', 'T', 'H', 'T', 'T', 'T', 'H', 'H'),\n",
       " ('T', 'H', 'H', 'T', 'H', 'T', 'T', 'T', 'H', 'T'),\n",
       " ('T', 'H', 'H', 'T', 'H', 'T', 'T', 'T', 'T', 'H'),\n",
       " ('T', 'H', 'H', 'T', 'H', 'T', 'T', 'T', 'T', 'T'),\n",
       " ('T', 'H', 'H', 'T', 'T', 'H', 'H', 'H', 'H', 'H'),\n",
       " ('T', 'H', 'H', 'T', 'T', 'H', 'H', 'H', 'H', 'T'),\n",
       " ('T', 'H', 'H', 'T', 'T', 'H', 'H', 'H', 'T', 'H'),\n",
       " ('T', 'H', 'H', 'T', 'T', 'H', 'H', 'H', 'T', 'T'),\n",
       " ('T', 'H', 'H', 'T', 'T', 'H', 'H', 'T', 'H', 'H'),\n",
       " ('T', 'H', 'H', 'T', 'T', 'H', 'H', 'T', 'H', 'T'),\n",
       " ('T', 'H', 'H', 'T', 'T', 'H', 'H', 'T', 'T', 'H'),\n",
       " ('T', 'H', 'H', 'T', 'T', 'H', 'H', 'T', 'T', 'T'),\n",
       " ('T', 'H', 'H', 'T', 'T', 'H', 'T', 'H', 'H', 'H'),\n",
       " ('T', 'H', 'H', 'T', 'T', 'H', 'T', 'H', 'H', 'T'),\n",
       " ('T', 'H', 'H', 'T', 'T', 'H', 'T', 'H', 'T', 'H'),\n",
       " ('T', 'H', 'H', 'T', 'T', 'H', 'T', 'H', 'T', 'T'),\n",
       " ('T', 'H', 'H', 'T', 'T', 'H', 'T', 'T', 'H', 'H'),\n",
       " ('T', 'H', 'H', 'T', 'T', 'H', 'T', 'T', 'H', 'T'),\n",
       " ('T', 'H', 'H', 'T', 'T', 'H', 'T', 'T', 'T', 'H'),\n",
       " ('T', 'H', 'H', 'T', 'T', 'H', 'T', 'T', 'T', 'T'),\n",
       " ('T', 'H', 'H', 'T', 'T', 'T', 'H', 'H', 'H', 'H'),\n",
       " ('T', 'H', 'H', 'T', 'T', 'T', 'H', 'H', 'H', 'T'),\n",
       " ('T', 'H', 'H', 'T', 'T', 'T', 'H', 'H', 'T', 'H'),\n",
       " ('T', 'H', 'H', 'T', 'T', 'T', 'H', 'H', 'T', 'T'),\n",
       " ('T', 'H', 'H', 'T', 'T', 'T', 'H', 'T', 'H', 'H'),\n",
       " ('T', 'H', 'H', 'T', 'T', 'T', 'H', 'T', 'H', 'T'),\n",
       " ('T', 'H', 'H', 'T', 'T', 'T', 'H', 'T', 'T', 'H'),\n",
       " ('T', 'H', 'H', 'T', 'T', 'T', 'H', 'T', 'T', 'T'),\n",
       " ('T', 'H', 'H', 'T', 'T', 'T', 'T', 'H', 'H', 'H'),\n",
       " ('T', 'H', 'H', 'T', 'T', 'T', 'T', 'H', 'H', 'T'),\n",
       " ('T', 'H', 'H', 'T', 'T', 'T', 'T', 'H', 'T', 'H'),\n",
       " ('T', 'H', 'H', 'T', 'T', 'T', 'T', 'H', 'T', 'T'),\n",
       " ('T', 'H', 'H', 'T', 'T', 'T', 'T', 'T', 'H', 'H'),\n",
       " ('T', 'H', 'H', 'T', 'T', 'T', 'T', 'T', 'H', 'T'),\n",
       " ('T', 'H', 'H', 'T', 'T', 'T', 'T', 'T', 'T', 'H'),\n",
       " ('T', 'H', 'H', 'T', 'T', 'T', 'T', 'T', 'T', 'T'),\n",
       " ('T', 'H', 'T', 'H', 'H', 'H', 'H', 'H', 'H', 'H'),\n",
       " ('T', 'H', 'T', 'H', 'H', 'H', 'H', 'H', 'H', 'T'),\n",
       " ('T', 'H', 'T', 'H', 'H', 'H', 'H', 'H', 'T', 'H'),\n",
       " ('T', 'H', 'T', 'H', 'H', 'H', 'H', 'H', 'T', 'T'),\n",
       " ('T', 'H', 'T', 'H', 'H', 'H', 'H', 'T', 'H', 'H'),\n",
       " ('T', 'H', 'T', 'H', 'H', 'H', 'H', 'T', 'H', 'T'),\n",
       " ('T', 'H', 'T', 'H', 'H', 'H', 'H', 'T', 'T', 'H'),\n",
       " ('T', 'H', 'T', 'H', 'H', 'H', 'H', 'T', 'T', 'T'),\n",
       " ('T', 'H', 'T', 'H', 'H', 'H', 'T', 'H', 'H', 'H'),\n",
       " ('T', 'H', 'T', 'H', 'H', 'H', 'T', 'H', 'H', 'T'),\n",
       " ('T', 'H', 'T', 'H', 'H', 'H', 'T', 'H', 'T', 'H'),\n",
       " ('T', 'H', 'T', 'H', 'H', 'H', 'T', 'H', 'T', 'T'),\n",
       " ('T', 'H', 'T', 'H', 'H', 'H', 'T', 'T', 'H', 'H'),\n",
       " ('T', 'H', 'T', 'H', 'H', 'H', 'T', 'T', 'H', 'T'),\n",
       " ('T', 'H', 'T', 'H', 'H', 'H', 'T', 'T', 'T', 'H'),\n",
       " ('T', 'H', 'T', 'H', 'H', 'H', 'T', 'T', 'T', 'T'),\n",
       " ('T', 'H', 'T', 'H', 'H', 'T', 'H', 'H', 'H', 'H'),\n",
       " ('T', 'H', 'T', 'H', 'H', 'T', 'H', 'H', 'H', 'T'),\n",
       " ('T', 'H', 'T', 'H', 'H', 'T', 'H', 'H', 'T', 'H'),\n",
       " ('T', 'H', 'T', 'H', 'H', 'T', 'H', 'H', 'T', 'T'),\n",
       " ('T', 'H', 'T', 'H', 'H', 'T', 'H', 'T', 'H', 'H'),\n",
       " ('T', 'H', 'T', 'H', 'H', 'T', 'H', 'T', 'H', 'T'),\n",
       " ('T', 'H', 'T', 'H', 'H', 'T', 'H', 'T', 'T', 'H'),\n",
       " ('T', 'H', 'T', 'H', 'H', 'T', 'H', 'T', 'T', 'T'),\n",
       " ('T', 'H', 'T', 'H', 'H', 'T', 'T', 'H', 'H', 'H'),\n",
       " ('T', 'H', 'T', 'H', 'H', 'T', 'T', 'H', 'H', 'T'),\n",
       " ('T', 'H', 'T', 'H', 'H', 'T', 'T', 'H', 'T', 'H'),\n",
       " ('T', 'H', 'T', 'H', 'H', 'T', 'T', 'H', 'T', 'T'),\n",
       " ('T', 'H', 'T', 'H', 'H', 'T', 'T', 'T', 'H', 'H'),\n",
       " ('T', 'H', 'T', 'H', 'H', 'T', 'T', 'T', 'H', 'T'),\n",
       " ('T', 'H', 'T', 'H', 'H', 'T', 'T', 'T', 'T', 'H'),\n",
       " ('T', 'H', 'T', 'H', 'H', 'T', 'T', 'T', 'T', 'T'),\n",
       " ('T', 'H', 'T', 'H', 'T', 'H', 'H', 'H', 'H', 'H'),\n",
       " ('T', 'H', 'T', 'H', 'T', 'H', 'H', 'H', 'H', 'T'),\n",
       " ('T', 'H', 'T', 'H', 'T', 'H', 'H', 'H', 'T', 'H'),\n",
       " ('T', 'H', 'T', 'H', 'T', 'H', 'H', 'H', 'T', 'T'),\n",
       " ('T', 'H', 'T', 'H', 'T', 'H', 'H', 'T', 'H', 'H'),\n",
       " ('T', 'H', 'T', 'H', 'T', 'H', 'H', 'T', 'H', 'T'),\n",
       " ('T', 'H', 'T', 'H', 'T', 'H', 'H', 'T', 'T', 'H'),\n",
       " ('T', 'H', 'T', 'H', 'T', 'H', 'H', 'T', 'T', 'T'),\n",
       " ('T', 'H', 'T', 'H', 'T', 'H', 'T', 'H', 'H', 'H'),\n",
       " ('T', 'H', 'T', 'H', 'T', 'H', 'T', 'H', 'H', 'T'),\n",
       " ('T', 'H', 'T', 'H', 'T', 'H', 'T', 'H', 'T', 'H'),\n",
       " ('T', 'H', 'T', 'H', 'T', 'H', 'T', 'H', 'T', 'T'),\n",
       " ('T', 'H', 'T', 'H', 'T', 'H', 'T', 'T', 'H', 'H'),\n",
       " ('T', 'H', 'T', 'H', 'T', 'H', 'T', 'T', 'H', 'T'),\n",
       " ('T', 'H', 'T', 'H', 'T', 'H', 'T', 'T', 'T', 'H'),\n",
       " ('T', 'H', 'T', 'H', 'T', 'H', 'T', 'T', 'T', 'T'),\n",
       " ('T', 'H', 'T', 'H', 'T', 'T', 'H', 'H', 'H', 'H'),\n",
       " ('T', 'H', 'T', 'H', 'T', 'T', 'H', 'H', 'H', 'T'),\n",
       " ('T', 'H', 'T', 'H', 'T', 'T', 'H', 'H', 'T', 'H'),\n",
       " ('T', 'H', 'T', 'H', 'T', 'T', 'H', 'H', 'T', 'T'),\n",
       " ('T', 'H', 'T', 'H', 'T', 'T', 'H', 'T', 'H', 'H'),\n",
       " ('T', 'H', 'T', 'H', 'T', 'T', 'H', 'T', 'H', 'T'),\n",
       " ('T', 'H', 'T', 'H', 'T', 'T', 'H', 'T', 'T', 'H'),\n",
       " ('T', 'H', 'T', 'H', 'T', 'T', 'H', 'T', 'T', 'T'),\n",
       " ('T', 'H', 'T', 'H', 'T', 'T', 'T', 'H', 'H', 'H'),\n",
       " ('T', 'H', 'T', 'H', 'T', 'T', 'T', 'H', 'H', 'T'),\n",
       " ('T', 'H', 'T', 'H', 'T', 'T', 'T', 'H', 'T', 'H'),\n",
       " ('T', 'H', 'T', 'H', 'T', 'T', 'T', 'H', 'T', 'T'),\n",
       " ('T', 'H', 'T', 'H', 'T', 'T', 'T', 'T', 'H', 'H'),\n",
       " ('T', 'H', 'T', 'H', 'T', 'T', 'T', 'T', 'H', 'T'),\n",
       " ('T', 'H', 'T', 'H', 'T', 'T', 'T', 'T', 'T', 'H'),\n",
       " ('T', 'H', 'T', 'H', 'T', 'T', 'T', 'T', 'T', 'T'),\n",
       " ('T', 'H', 'T', 'T', 'H', 'H', 'H', 'H', 'H', 'H'),\n",
       " ('T', 'H', 'T', 'T', 'H', 'H', 'H', 'H', 'H', 'T'),\n",
       " ('T', 'H', 'T', 'T', 'H', 'H', 'H', 'H', 'T', 'H'),\n",
       " ('T', 'H', 'T', 'T', 'H', 'H', 'H', 'H', 'T', 'T'),\n",
       " ('T', 'H', 'T', 'T', 'H', 'H', 'H', 'T', 'H', 'H'),\n",
       " ('T', 'H', 'T', 'T', 'H', 'H', 'H', 'T', 'H', 'T'),\n",
       " ('T', 'H', 'T', 'T', 'H', 'H', 'H', 'T', 'T', 'H'),\n",
       " ('T', 'H', 'T', 'T', 'H', 'H', 'H', 'T', 'T', 'T'),\n",
       " ('T', 'H', 'T', 'T', 'H', 'H', 'T', 'H', 'H', 'H'),\n",
       " ('T', 'H', 'T', 'T', 'H', 'H', 'T', 'H', 'H', 'T'),\n",
       " ('T', 'H', 'T', 'T', 'H', 'H', 'T', 'H', 'T', 'H'),\n",
       " ('T', 'H', 'T', 'T', 'H', 'H', 'T', 'H', 'T', 'T'),\n",
       " ('T', 'H', 'T', 'T', 'H', 'H', 'T', 'T', 'H', 'H'),\n",
       " ('T', 'H', 'T', 'T', 'H', 'H', 'T', 'T', 'H', 'T'),\n",
       " ('T', 'H', 'T', 'T', 'H', 'H', 'T', 'T', 'T', 'H'),\n",
       " ('T', 'H', 'T', 'T', 'H', 'H', 'T', 'T', 'T', 'T'),\n",
       " ('T', 'H', 'T', 'T', 'H', 'T', 'H', 'H', 'H', 'H'),\n",
       " ('T', 'H', 'T', 'T', 'H', 'T', 'H', 'H', 'H', 'T'),\n",
       " ('T', 'H', 'T', 'T', 'H', 'T', 'H', 'H', 'T', 'H'),\n",
       " ('T', 'H', 'T', 'T', 'H', 'T', 'H', 'H', 'T', 'T'),\n",
       " ('T', 'H', 'T', 'T', 'H', 'T', 'H', 'T', 'H', 'H'),\n",
       " ('T', 'H', 'T', 'T', 'H', 'T', 'H', 'T', 'H', 'T'),\n",
       " ('T', 'H', 'T', 'T', 'H', 'T', 'H', 'T', 'T', 'H'),\n",
       " ('T', 'H', 'T', 'T', 'H', 'T', 'H', 'T', 'T', 'T'),\n",
       " ('T', 'H', 'T', 'T', 'H', 'T', 'T', 'H', 'H', 'H'),\n",
       " ('T', 'H', 'T', 'T', 'H', 'T', 'T', 'H', 'H', 'T'),\n",
       " ('T', 'H', 'T', 'T', 'H', 'T', 'T', 'H', 'T', 'H'),\n",
       " ('T', 'H', 'T', 'T', 'H', 'T', 'T', 'H', 'T', 'T'),\n",
       " ('T', 'H', 'T', 'T', 'H', 'T', 'T', 'T', 'H', 'H'),\n",
       " ('T', 'H', 'T', 'T', 'H', 'T', 'T', 'T', 'H', 'T'),\n",
       " ('T', 'H', 'T', 'T', 'H', 'T', 'T', 'T', 'T', 'H'),\n",
       " ('T', 'H', 'T', 'T', 'H', 'T', 'T', 'T', 'T', 'T'),\n",
       " ('T', 'H', 'T', 'T', 'T', 'H', 'H', 'H', 'H', 'H'),\n",
       " ('T', 'H', 'T', 'T', 'T', 'H', 'H', 'H', 'H', 'T'),\n",
       " ('T', 'H', 'T', 'T', 'T', 'H', 'H', 'H', 'T', 'H'),\n",
       " ('T', 'H', 'T', 'T', 'T', 'H', 'H', 'H', 'T', 'T'),\n",
       " ('T', 'H', 'T', 'T', 'T', 'H', 'H', 'T', 'H', 'H'),\n",
       " ('T', 'H', 'T', 'T', 'T', 'H', 'H', 'T', 'H', 'T'),\n",
       " ('T', 'H', 'T', 'T', 'T', 'H', 'H', 'T', 'T', 'H'),\n",
       " ('T', 'H', 'T', 'T', 'T', 'H', 'H', 'T', 'T', 'T'),\n",
       " ('T', 'H', 'T', 'T', 'T', 'H', 'T', 'H', 'H', 'H'),\n",
       " ('T', 'H', 'T', 'T', 'T', 'H', 'T', 'H', 'H', 'T'),\n",
       " ('T', 'H', 'T', 'T', 'T', 'H', 'T', 'H', 'T', 'H'),\n",
       " ('T', 'H', 'T', 'T', 'T', 'H', 'T', 'H', 'T', 'T'),\n",
       " ('T', 'H', 'T', 'T', 'T', 'H', 'T', 'T', 'H', 'H'),\n",
       " ('T', 'H', 'T', 'T', 'T', 'H', 'T', 'T', 'H', 'T'),\n",
       " ('T', 'H', 'T', 'T', 'T', 'H', 'T', 'T', 'T', 'H'),\n",
       " ('T', 'H', 'T', 'T', 'T', 'H', 'T', 'T', 'T', 'T'),\n",
       " ('T', 'H', 'T', 'T', 'T', 'T', 'H', 'H', 'H', 'H'),\n",
       " ('T', 'H', 'T', 'T', 'T', 'T', 'H', 'H', 'H', 'T'),\n",
       " ('T', 'H', 'T', 'T', 'T', 'T', 'H', 'H', 'T', 'H'),\n",
       " ('T', 'H', 'T', 'T', 'T', 'T', 'H', 'H', 'T', 'T'),\n",
       " ('T', 'H', 'T', 'T', 'T', 'T', 'H', 'T', 'H', 'H'),\n",
       " ('T', 'H', 'T', 'T', 'T', 'T', 'H', 'T', 'H', 'T'),\n",
       " ('T', 'H', 'T', 'T', 'T', 'T', 'H', 'T', 'T', 'H'),\n",
       " ('T', 'H', 'T', 'T', 'T', 'T', 'H', 'T', 'T', 'T'),\n",
       " ('T', 'H', 'T', 'T', 'T', 'T', 'T', 'H', 'H', 'H'),\n",
       " ('T', 'H', 'T', 'T', 'T', 'T', 'T', 'H', 'H', 'T'),\n",
       " ('T', 'H', 'T', 'T', 'T', 'T', 'T', 'H', 'T', 'H'),\n",
       " ('T', 'H', 'T', 'T', 'T', 'T', 'T', 'H', 'T', 'T'),\n",
       " ('T', 'H', 'T', 'T', 'T', 'T', 'T', 'T', 'H', 'H'),\n",
       " ('T', 'H', 'T', 'T', 'T', 'T', 'T', 'T', 'H', 'T'),\n",
       " ('T', 'H', 'T', 'T', 'T', 'T', 'T', 'T', 'T', 'H'),\n",
       " ('T', 'H', 'T', 'T', 'T', 'T', 'T', 'T', 'T', 'T'),\n",
       " ('T', 'T', 'H', 'H', 'H', 'H', 'H', 'H', 'H', 'H'),\n",
       " ('T', 'T', 'H', 'H', 'H', 'H', 'H', 'H', 'H', 'T'),\n",
       " ('T', 'T', 'H', 'H', 'H', 'H', 'H', 'H', 'T', 'H'),\n",
       " ('T', 'T', 'H', 'H', 'H', 'H', 'H', 'H', 'T', 'T'),\n",
       " ('T', 'T', 'H', 'H', 'H', 'H', 'H', 'T', 'H', 'H'),\n",
       " ('T', 'T', 'H', 'H', 'H', 'H', 'H', 'T', 'H', 'T'),\n",
       " ('T', 'T', 'H', 'H', 'H', 'H', 'H', 'T', 'T', 'H'),\n",
       " ('T', 'T', 'H', 'H', 'H', 'H', 'H', 'T', 'T', 'T'),\n",
       " ('T', 'T', 'H', 'H', 'H', 'H', 'T', 'H', 'H', 'H'),\n",
       " ('T', 'T', 'H', 'H', 'H', 'H', 'T', 'H', 'H', 'T'),\n",
       " ('T', 'T', 'H', 'H', 'H', 'H', 'T', 'H', 'T', 'H'),\n",
       " ('T', 'T', 'H', 'H', 'H', 'H', 'T', 'H', 'T', 'T'),\n",
       " ('T', 'T', 'H', 'H', 'H', 'H', 'T', 'T', 'H', 'H'),\n",
       " ('T', 'T', 'H', 'H', 'H', 'H', 'T', 'T', 'H', 'T'),\n",
       " ('T', 'T', 'H', 'H', 'H', 'H', 'T', 'T', 'T', 'H'),\n",
       " ('T', 'T', 'H', 'H', 'H', 'H', 'T', 'T', 'T', 'T'),\n",
       " ('T', 'T', 'H', 'H', 'H', 'T', 'H', 'H', 'H', 'H'),\n",
       " ('T', 'T', 'H', 'H', 'H', 'T', 'H', 'H', 'H', 'T'),\n",
       " ('T', 'T', 'H', 'H', 'H', 'T', 'H', 'H', 'T', 'H'),\n",
       " ('T', 'T', 'H', 'H', 'H', 'T', 'H', 'H', 'T', 'T'),\n",
       " ('T', 'T', 'H', 'H', 'H', 'T', 'H', 'T', 'H', 'H'),\n",
       " ('T', 'T', 'H', 'H', 'H', 'T', 'H', 'T', 'H', 'T'),\n",
       " ('T', 'T', 'H', 'H', 'H', 'T', 'H', 'T', 'T', 'H'),\n",
       " ('T', 'T', 'H', 'H', 'H', 'T', 'H', 'T', 'T', 'T'),\n",
       " ('T', 'T', 'H', 'H', 'H', 'T', 'T', 'H', 'H', 'H'),\n",
       " ('T', 'T', 'H', 'H', 'H', 'T', 'T', 'H', 'H', 'T'),\n",
       " ('T', 'T', 'H', 'H', 'H', 'T', 'T', 'H', 'T', 'H'),\n",
       " ('T', 'T', 'H', 'H', 'H', 'T', 'T', 'H', 'T', 'T'),\n",
       " ('T', 'T', 'H', 'H', 'H', 'T', 'T', 'T', 'H', 'H'),\n",
       " ('T', 'T', 'H', 'H', 'H', 'T', 'T', 'T', 'H', 'T'),\n",
       " ('T', 'T', 'H', 'H', 'H', 'T', 'T', 'T', 'T', 'H'),\n",
       " ('T', 'T', 'H', 'H', 'H', 'T', 'T', 'T', 'T', 'T'),\n",
       " ('T', 'T', 'H', 'H', 'T', 'H', 'H', 'H', 'H', 'H'),\n",
       " ('T', 'T', 'H', 'H', 'T', 'H', 'H', 'H', 'H', 'T'),\n",
       " ('T', 'T', 'H', 'H', 'T', 'H', 'H', 'H', 'T', 'H'),\n",
       " ('T', 'T', 'H', 'H', 'T', 'H', 'H', 'H', 'T', 'T'),\n",
       " ('T', 'T', 'H', 'H', 'T', 'H', 'H', 'T', 'H', 'H'),\n",
       " ('T', 'T', 'H', 'H', 'T', 'H', 'H', 'T', 'H', 'T'),\n",
       " ('T', 'T', 'H', 'H', 'T', 'H', 'H', 'T', 'T', 'H'),\n",
       " ('T', 'T', 'H', 'H', 'T', 'H', 'H', 'T', 'T', 'T'),\n",
       " ('T', 'T', 'H', 'H', 'T', 'H', 'T', 'H', 'H', 'H'),\n",
       " ('T', 'T', 'H', 'H', 'T', 'H', 'T', 'H', 'H', 'T'),\n",
       " ('T', 'T', 'H', 'H', 'T', 'H', 'T', 'H', 'T', 'H'),\n",
       " ('T', 'T', 'H', 'H', 'T', 'H', 'T', 'H', 'T', 'T'),\n",
       " ('T', 'T', 'H', 'H', 'T', 'H', 'T', 'T', 'H', 'H'),\n",
       " ('T', 'T', 'H', 'H', 'T', 'H', 'T', 'T', 'H', 'T'),\n",
       " ('T', 'T', 'H', 'H', 'T', 'H', 'T', 'T', 'T', 'H'),\n",
       " ('T', 'T', 'H', 'H', 'T', 'H', 'T', 'T', 'T', 'T'),\n",
       " ('T', 'T', 'H', 'H', 'T', 'T', 'H', 'H', 'H', 'H'),\n",
       " ('T', 'T', 'H', 'H', 'T', 'T', 'H', 'H', 'H', 'T'),\n",
       " ('T', 'T', 'H', 'H', 'T', 'T', 'H', 'H', 'T', 'H'),\n",
       " ('T', 'T', 'H', 'H', 'T', 'T', 'H', 'H', 'T', 'T'),\n",
       " ('T', 'T', 'H', 'H', 'T', 'T', 'H', 'T', 'H', 'H'),\n",
       " ('T', 'T', 'H', 'H', 'T', 'T', 'H', 'T', 'H', 'T'),\n",
       " ('T', 'T', 'H', 'H', 'T', 'T', 'H', 'T', 'T', 'H'),\n",
       " ('T', 'T', 'H', 'H', 'T', 'T', 'H', 'T', 'T', 'T'),\n",
       " ('T', 'T', 'H', 'H', 'T', 'T', 'T', 'H', 'H', 'H'),\n",
       " ('T', 'T', 'H', 'H', 'T', 'T', 'T', 'H', 'H', 'T'),\n",
       " ('T', 'T', 'H', 'H', 'T', 'T', 'T', 'H', 'T', 'H'),\n",
       " ('T', 'T', 'H', 'H', 'T', 'T', 'T', 'H', 'T', 'T'),\n",
       " ('T', 'T', 'H', 'H', 'T', 'T', 'T', 'T', 'H', 'H'),\n",
       " ('T', 'T', 'H', 'H', 'T', 'T', 'T', 'T', 'H', 'T'),\n",
       " ('T', 'T', 'H', 'H', 'T', 'T', 'T', 'T', 'T', 'H'),\n",
       " ('T', 'T', 'H', 'H', 'T', 'T', 'T', 'T', 'T', 'T'),\n",
       " ('T', 'T', 'H', 'T', 'H', 'H', 'H', 'H', 'H', 'H'),\n",
       " ('T', 'T', 'H', 'T', 'H', 'H', 'H', 'H', 'H', 'T'),\n",
       " ('T', 'T', 'H', 'T', 'H', 'H', 'H', 'H', 'T', 'H'),\n",
       " ('T', 'T', 'H', 'T', 'H', 'H', 'H', 'H', 'T', 'T'),\n",
       " ('T', 'T', 'H', 'T', 'H', 'H', 'H', 'T', 'H', 'H'),\n",
       " ('T', 'T', 'H', 'T', 'H', 'H', 'H', 'T', 'H', 'T'),\n",
       " ('T', 'T', 'H', 'T', 'H', 'H', 'H', 'T', 'T', 'H'),\n",
       " ('T', 'T', 'H', 'T', 'H', 'H', 'H', 'T', 'T', 'T'),\n",
       " ('T', 'T', 'H', 'T', 'H', 'H', 'T', 'H', 'H', 'H'),\n",
       " ('T', 'T', 'H', 'T', 'H', 'H', 'T', 'H', 'H', 'T'),\n",
       " ('T', 'T', 'H', 'T', 'H', 'H', 'T', 'H', 'T', 'H'),\n",
       " ('T', 'T', 'H', 'T', 'H', 'H', 'T', 'H', 'T', 'T'),\n",
       " ('T', 'T', 'H', 'T', 'H', 'H', 'T', 'T', 'H', 'H'),\n",
       " ('T', 'T', 'H', 'T', 'H', 'H', 'T', 'T', 'H', 'T'),\n",
       " ('T', 'T', 'H', 'T', 'H', 'H', 'T', 'T', 'T', 'H'),\n",
       " ('T', 'T', 'H', 'T', 'H', 'H', 'T', 'T', 'T', 'T'),\n",
       " ('T', 'T', 'H', 'T', 'H', 'T', 'H', 'H', 'H', 'H'),\n",
       " ('T', 'T', 'H', 'T', 'H', 'T', 'H', 'H', 'H', 'T'),\n",
       " ('T', 'T', 'H', 'T', 'H', 'T', 'H', 'H', 'T', 'H'),\n",
       " ('T', 'T', 'H', 'T', 'H', 'T', 'H', 'H', 'T', 'T'),\n",
       " ('T', 'T', 'H', 'T', 'H', 'T', 'H', 'T', 'H', 'H'),\n",
       " ('T', 'T', 'H', 'T', 'H', 'T', 'H', 'T', 'H', 'T'),\n",
       " ('T', 'T', 'H', 'T', 'H', 'T', 'H', 'T', 'T', 'H'),\n",
       " ('T', 'T', 'H', 'T', 'H', 'T', 'H', 'T', 'T', 'T'),\n",
       " ('T', 'T', 'H', 'T', 'H', 'T', 'T', 'H', 'H', 'H'),\n",
       " ('T', 'T', 'H', 'T', 'H', 'T', 'T', 'H', 'H', 'T'),\n",
       " ('T', 'T', 'H', 'T', 'H', 'T', 'T', 'H', 'T', 'H'),\n",
       " ('T', 'T', 'H', 'T', 'H', 'T', 'T', 'H', 'T', 'T'),\n",
       " ('T', 'T', 'H', 'T', 'H', 'T', 'T', 'T', 'H', 'H'),\n",
       " ('T', 'T', 'H', 'T', 'H', 'T', 'T', 'T', 'H', 'T'),\n",
       " ('T', 'T', 'H', 'T', 'H', 'T', 'T', 'T', 'T', 'H'),\n",
       " ('T', 'T', 'H', 'T', 'H', 'T', 'T', 'T', 'T', 'T'),\n",
       " ('T', 'T', 'H', 'T', 'T', 'H', 'H', 'H', 'H', 'H'),\n",
       " ('T', 'T', 'H', 'T', 'T', 'H', 'H', 'H', 'H', 'T'),\n",
       " ('T', 'T', 'H', 'T', 'T', 'H', 'H', 'H', 'T', 'H'),\n",
       " ('T', 'T', 'H', 'T', 'T', 'H', 'H', 'H', 'T', 'T'),\n",
       " ('T', 'T', 'H', 'T', 'T', 'H', 'H', 'T', 'H', 'H'),\n",
       " ('T', 'T', 'H', 'T', 'T', 'H', 'H', 'T', 'H', 'T'),\n",
       " ('T', 'T', 'H', 'T', 'T', 'H', 'H', 'T', 'T', 'H'),\n",
       " ('T', 'T', 'H', 'T', 'T', 'H', 'H', 'T', 'T', 'T'),\n",
       " ('T', 'T', 'H', 'T', 'T', 'H', 'T', 'H', 'H', 'H'),\n",
       " ('T', 'T', 'H', 'T', 'T', 'H', 'T', 'H', 'H', 'T'),\n",
       " ('T', 'T', 'H', 'T', 'T', 'H', 'T', 'H', 'T', 'H'),\n",
       " ('T', 'T', 'H', 'T', 'T', 'H', 'T', 'H', 'T', 'T'),\n",
       " ('T', 'T', 'H', 'T', 'T', 'H', 'T', 'T', 'H', 'H'),\n",
       " ('T', 'T', 'H', 'T', 'T', 'H', 'T', 'T', 'H', 'T'),\n",
       " ('T', 'T', 'H', 'T', 'T', 'H', 'T', 'T', 'T', 'H'),\n",
       " ('T', 'T', 'H', 'T', 'T', 'H', 'T', 'T', 'T', 'T'),\n",
       " ('T', 'T', 'H', 'T', 'T', 'T', 'H', 'H', 'H', 'H'),\n",
       " ('T', 'T', 'H', 'T', 'T', 'T', 'H', 'H', 'H', 'T'),\n",
       " ('T', 'T', 'H', 'T', 'T', 'T', 'H', 'H', 'T', 'H'),\n",
       " ('T', 'T', 'H', 'T', 'T', 'T', 'H', 'H', 'T', 'T'),\n",
       " ('T', 'T', 'H', 'T', 'T', 'T', 'H', 'T', 'H', 'H'),\n",
       " ('T', 'T', 'H', 'T', 'T', 'T', 'H', 'T', 'H', 'T'),\n",
       " ('T', 'T', 'H', 'T', 'T', 'T', 'H', 'T', 'T', 'H'),\n",
       " ('T', 'T', 'H', 'T', 'T', 'T', 'H', 'T', 'T', 'T'),\n",
       " ('T', 'T', 'H', 'T', 'T', 'T', 'T', 'H', 'H', 'H'),\n",
       " ('T', 'T', 'H', 'T', 'T', 'T', 'T', 'H', 'H', 'T'),\n",
       " ('T', 'T', 'H', 'T', 'T', 'T', 'T', 'H', 'T', 'H'),\n",
       " ('T', 'T', 'H', 'T', 'T', 'T', 'T', 'H', 'T', 'T'),\n",
       " ('T', 'T', 'H', 'T', 'T', 'T', 'T', 'T', 'H', 'H'),\n",
       " ('T', 'T', 'H', 'T', 'T', 'T', 'T', 'T', 'H', 'T'),\n",
       " ('T', 'T', 'H', 'T', 'T', 'T', 'T', 'T', 'T', 'H'),\n",
       " ('T', 'T', 'H', 'T', 'T', 'T', 'T', 'T', 'T', 'T'),\n",
       " ('T', 'T', 'T', 'H', 'H', 'H', 'H', 'H', 'H', 'H'),\n",
       " ('T', 'T', 'T', 'H', 'H', 'H', 'H', 'H', 'H', 'T'),\n",
       " ('T', 'T', 'T', 'H', 'H', 'H', 'H', 'H', 'T', 'H'),\n",
       " ('T', 'T', 'T', 'H', 'H', 'H', 'H', 'H', 'T', 'T'),\n",
       " ('T', 'T', 'T', 'H', 'H', 'H', 'H', 'T', 'H', 'H'),\n",
       " ('T', 'T', 'T', 'H', 'H', 'H', 'H', 'T', 'H', 'T'),\n",
       " ('T', 'T', 'T', 'H', 'H', 'H', 'H', 'T', 'T', 'H'),\n",
       " ('T', 'T', 'T', 'H', 'H', 'H', 'H', 'T', 'T', 'T'),\n",
       " ('T', 'T', 'T', 'H', 'H', 'H', 'T', 'H', 'H', 'H'),\n",
       " ('T', 'T', 'T', 'H', 'H', 'H', 'T', 'H', 'H', 'T'),\n",
       " ('T', 'T', 'T', 'H', 'H', 'H', 'T', 'H', 'T', 'H'),\n",
       " ('T', 'T', 'T', 'H', 'H', 'H', 'T', 'H', 'T', 'T'),\n",
       " ('T', 'T', 'T', 'H', 'H', 'H', 'T', 'T', 'H', 'H'),\n",
       " ('T', 'T', 'T', 'H', 'H', 'H', 'T', 'T', 'H', 'T'),\n",
       " ('T', 'T', 'T', 'H', 'H', 'H', 'T', 'T', 'T', 'H'),\n",
       " ('T', 'T', 'T', 'H', 'H', 'H', 'T', 'T', 'T', 'T'),\n",
       " ('T', 'T', 'T', 'H', 'H', 'T', 'H', 'H', 'H', 'H'),\n",
       " ('T', 'T', 'T', 'H', 'H', 'T', 'H', 'H', 'H', 'T'),\n",
       " ('T', 'T', 'T', 'H', 'H', 'T', 'H', 'H', 'T', 'H'),\n",
       " ('T', 'T', 'T', 'H', 'H', 'T', 'H', 'H', 'T', 'T'),\n",
       " ('T', 'T', 'T', 'H', 'H', 'T', 'H', 'T', 'H', 'H'),\n",
       " ('T', 'T', 'T', 'H', 'H', 'T', 'H', 'T', 'H', 'T'),\n",
       " ('T', 'T', 'T', 'H', 'H', 'T', 'H', 'T', 'T', 'H'),\n",
       " ('T', 'T', 'T', 'H', 'H', 'T', 'H', 'T', 'T', 'T'),\n",
       " ('T', 'T', 'T', 'H', 'H', 'T', 'T', 'H', 'H', 'H'),\n",
       " ('T', 'T', 'T', 'H', 'H', 'T', 'T', 'H', 'H', 'T'),\n",
       " ('T', 'T', 'T', 'H', 'H', 'T', 'T', 'H', 'T', 'H'),\n",
       " ('T', 'T', 'T', 'H', 'H', 'T', 'T', 'H', 'T', 'T'),\n",
       " ('T', 'T', 'T', 'H', 'H', 'T', 'T', 'T', 'H', 'H'),\n",
       " ('T', 'T', 'T', 'H', 'H', 'T', 'T', 'T', 'H', 'T'),\n",
       " ('T', 'T', 'T', 'H', 'H', 'T', 'T', 'T', 'T', 'H'),\n",
       " ('T', 'T', 'T', 'H', 'H', 'T', 'T', 'T', 'T', 'T'),\n",
       " ('T', 'T', 'T', 'H', 'T', 'H', 'H', 'H', 'H', 'H'),\n",
       " ('T', 'T', 'T', 'H', 'T', 'H', 'H', 'H', 'H', 'T'),\n",
       " ('T', 'T', 'T', 'H', 'T', 'H', 'H', 'H', 'T', 'H'),\n",
       " ('T', 'T', 'T', 'H', 'T', 'H', 'H', 'H', 'T', 'T'),\n",
       " ('T', 'T', 'T', 'H', 'T', 'H', 'H', 'T', 'H', 'H'),\n",
       " ('T', 'T', 'T', 'H', 'T', 'H', 'H', 'T', 'H', 'T'),\n",
       " ('T', 'T', 'T', 'H', 'T', 'H', 'H', 'T', 'T', 'H'),\n",
       " ('T', 'T', 'T', 'H', 'T', 'H', 'H', 'T', 'T', 'T'),\n",
       " ('T', 'T', 'T', 'H', 'T', 'H', 'T', 'H', 'H', 'H'),\n",
       " ('T', 'T', 'T', 'H', 'T', 'H', 'T', 'H', 'H', 'T'),\n",
       " ('T', 'T', 'T', 'H', 'T', 'H', 'T', 'H', 'T', 'H'),\n",
       " ('T', 'T', 'T', 'H', 'T', 'H', 'T', 'H', 'T', 'T'),\n",
       " ('T', 'T', 'T', 'H', 'T', 'H', 'T', 'T', 'H', 'H'),\n",
       " ('T', 'T', 'T', 'H', 'T', 'H', 'T', 'T', 'H', 'T'),\n",
       " ('T', 'T', 'T', 'H', 'T', 'H', 'T', 'T', 'T', 'H'),\n",
       " ('T', 'T', 'T', 'H', 'T', 'H', 'T', 'T', 'T', 'T'),\n",
       " ('T', 'T', 'T', 'H', 'T', 'T', 'H', 'H', 'H', 'H'),\n",
       " ('T', 'T', 'T', 'H', 'T', 'T', 'H', 'H', 'H', 'T'),\n",
       " ('T', 'T', 'T', 'H', 'T', 'T', 'H', 'H', 'T', 'H'),\n",
       " ('T', 'T', 'T', 'H', 'T', 'T', 'H', 'H', 'T', 'T'),\n",
       " ('T', 'T', 'T', 'H', 'T', 'T', 'H', 'T', 'H', 'H'),\n",
       " ('T', 'T', 'T', 'H', 'T', 'T', 'H', 'T', 'H', 'T'),\n",
       " ('T', 'T', 'T', 'H', 'T', 'T', 'H', 'T', 'T', 'H'),\n",
       " ('T', 'T', 'T', 'H', 'T', 'T', 'H', 'T', 'T', 'T'),\n",
       " ('T', 'T', 'T', 'H', 'T', 'T', 'T', 'H', 'H', 'H'),\n",
       " ('T', 'T', 'T', 'H', 'T', 'T', 'T', 'H', 'H', 'T'),\n",
       " ('T', 'T', 'T', 'H', 'T', 'T', 'T', 'H', 'T', 'H'),\n",
       " ('T', 'T', 'T', 'H', 'T', 'T', 'T', 'H', 'T', 'T'),\n",
       " ('T', 'T', 'T', 'H', 'T', 'T', 'T', 'T', 'H', 'H'),\n",
       " ('T', 'T', 'T', 'H', 'T', 'T', 'T', 'T', 'H', 'T'),\n",
       " ('T', 'T', 'T', 'H', 'T', 'T', 'T', 'T', 'T', 'H'),\n",
       " ('T', 'T', 'T', 'H', 'T', 'T', 'T', 'T', 'T', 'T'),\n",
       " ('T', 'T', 'T', 'T', 'H', 'H', 'H', 'H', 'H', 'H'),\n",
       " ('T', 'T', 'T', 'T', 'H', 'H', 'H', 'H', 'H', 'T'),\n",
       " ('T', 'T', 'T', 'T', 'H', 'H', 'H', 'H', 'T', 'H'),\n",
       " ('T', 'T', 'T', 'T', 'H', 'H', 'H', 'H', 'T', 'T'),\n",
       " ('T', 'T', 'T', 'T', 'H', 'H', 'H', 'T', 'H', 'H'),\n",
       " ('T', 'T', 'T', 'T', 'H', 'H', 'H', 'T', 'H', 'T'),\n",
       " ('T', 'T', 'T', 'T', 'H', 'H', 'H', 'T', 'T', 'H'),\n",
       " ('T', 'T', 'T', 'T', 'H', 'H', 'H', 'T', 'T', 'T'),\n",
       " ('T', 'T', 'T', 'T', 'H', 'H', 'T', 'H', 'H', 'H'),\n",
       " ('T', 'T', 'T', 'T', 'H', 'H', 'T', 'H', 'H', 'T'),\n",
       " ('T', 'T', 'T', 'T', 'H', 'H', 'T', 'H', 'T', 'H'),\n",
       " ('T', 'T', 'T', 'T', 'H', 'H', 'T', 'H', 'T', 'T'),\n",
       " ('T', 'T', 'T', 'T', 'H', 'H', 'T', 'T', 'H', 'H'),\n",
       " ('T', 'T', 'T', 'T', 'H', 'H', 'T', 'T', 'H', 'T'),\n",
       " ('T', 'T', 'T', 'T', 'H', 'H', 'T', 'T', 'T', 'H'),\n",
       " ('T', 'T', 'T', 'T', 'H', 'H', 'T', 'T', 'T', 'T'),\n",
       " ('T', 'T', 'T', 'T', 'H', 'T', 'H', 'H', 'H', 'H'),\n",
       " ('T', 'T', 'T', 'T', 'H', 'T', 'H', 'H', 'H', 'T'),\n",
       " ('T', 'T', 'T', 'T', 'H', 'T', 'H', 'H', 'T', 'H'),\n",
       " ('T', 'T', 'T', 'T', 'H', 'T', 'H', 'H', 'T', 'T'),\n",
       " ('T', 'T', 'T', 'T', 'H', 'T', 'H', 'T', 'H', 'H'),\n",
       " ('T', 'T', 'T', 'T', 'H', 'T', 'H', 'T', 'H', 'T'),\n",
       " ('T', 'T', 'T', 'T', 'H', 'T', 'H', 'T', 'T', 'H'),\n",
       " ('T', 'T', 'T', 'T', 'H', 'T', 'H', 'T', 'T', 'T'),\n",
       " ('T', 'T', 'T', 'T', 'H', 'T', 'T', 'H', 'H', 'H'),\n",
       " ('T', 'T', 'T', 'T', 'H', 'T', 'T', 'H', 'H', 'T'),\n",
       " ('T', 'T', 'T', 'T', 'H', 'T', 'T', 'H', 'T', 'H'),\n",
       " ('T', 'T', 'T', 'T', 'H', 'T', 'T', 'H', 'T', 'T'),\n",
       " ('T', 'T', 'T', 'T', 'H', 'T', 'T', 'T', 'H', 'H'),\n",
       " ('T', 'T', 'T', 'T', 'H', 'T', 'T', 'T', 'H', 'T'),\n",
       " ('T', 'T', 'T', 'T', 'H', 'T', 'T', 'T', 'T', 'H'),\n",
       " ('T', 'T', 'T', 'T', 'H', 'T', 'T', 'T', 'T', 'T'),\n",
       " ('T', 'T', 'T', 'T', 'T', 'H', 'H', 'H', 'H', 'H'),\n",
       " ('T', 'T', 'T', 'T', 'T', 'H', 'H', 'H', 'H', 'T'),\n",
       " ('T', 'T', 'T', 'T', 'T', 'H', 'H', 'H', 'T', 'H'),\n",
       " ('T', 'T', 'T', 'T', 'T', 'H', 'H', 'H', 'T', 'T'),\n",
       " ('T', 'T', 'T', 'T', 'T', 'H', 'H', 'T', 'H', 'H'),\n",
       " ('T', 'T', 'T', 'T', 'T', 'H', 'H', 'T', 'H', 'T'),\n",
       " ('T', 'T', 'T', 'T', 'T', 'H', 'H', 'T', 'T', 'H'),\n",
       " ('T', 'T', 'T', 'T', 'T', 'H', 'H', 'T', 'T', 'T'),\n",
       " ...]"
      ]
     },
     "execution_count": 22,
     "metadata": {},
     "output_type": "execute_result"
    }
   ],
   "source": [
    "l"
   ]
  },
  {
   "cell_type": "code",
   "execution_count": 25,
   "id": "0c0e065f",
   "metadata": {},
   "outputs": [],
   "source": [
    "l1=[]\n",
    "for i in l:\n",
    "    if i.count('H')==4:\n",
    "        l1.append(i)\n",
    "        \n",
    "            "
   ]
  },
  {
   "cell_type": "code",
   "execution_count": 27,
   "id": "5a9929df",
   "metadata": {},
   "outputs": [
    {
     "data": {
      "text/plain": [
       "210"
      ]
     },
     "execution_count": 27,
     "metadata": {},
     "output_type": "execute_result"
    }
   ],
   "source": [
    "len(l1)"
   ]
  },
  {
   "cell_type": "code",
   "execution_count": 28,
   "id": "f089f579",
   "metadata": {},
   "outputs": [
    {
     "data": {
      "text/plain": [
       "0.205078125"
      ]
     },
     "execution_count": 28,
     "metadata": {},
     "output_type": "execute_result"
    }
   ],
   "source": [
    "len(l1)/len(l)"
   ]
  },
  {
   "cell_type": "code",
   "execution_count": 29,
   "id": "b6630c76",
   "metadata": {},
   "outputs": [],
   "source": [
    "# a dice is thrown 3 times, find the prob that sum is 9 or more"
   ]
  },
  {
   "cell_type": "code",
   "execution_count": 40,
   "id": "4c50fa74",
   "metadata": {},
   "outputs": [],
   "source": [
    "import numpy as np"
   ]
  },
  {
   "cell_type": "code",
   "execution_count": 33,
   "id": "fee5d2b4",
   "metadata": {},
   "outputs": [],
   "source": [
    "l = list(product([1,2,3,4,5,6],repeat = 3))"
   ]
  },
  {
   "cell_type": "code",
   "execution_count": 34,
   "id": "6a0f4701",
   "metadata": {},
   "outputs": [
    {
     "data": {
      "text/plain": [
       "[(1, 1, 1),\n",
       " (1, 1, 2),\n",
       " (1, 1, 3),\n",
       " (1, 1, 4),\n",
       " (1, 1, 5),\n",
       " (1, 1, 6),\n",
       " (1, 2, 1),\n",
       " (1, 2, 2),\n",
       " (1, 2, 3),\n",
       " (1, 2, 4),\n",
       " (1, 2, 5),\n",
       " (1, 2, 6),\n",
       " (1, 3, 1),\n",
       " (1, 3, 2),\n",
       " (1, 3, 3),\n",
       " (1, 3, 4),\n",
       " (1, 3, 5),\n",
       " (1, 3, 6),\n",
       " (1, 4, 1),\n",
       " (1, 4, 2),\n",
       " (1, 4, 3),\n",
       " (1, 4, 4),\n",
       " (1, 4, 5),\n",
       " (1, 4, 6),\n",
       " (1, 5, 1),\n",
       " (1, 5, 2),\n",
       " (1, 5, 3),\n",
       " (1, 5, 4),\n",
       " (1, 5, 5),\n",
       " (1, 5, 6),\n",
       " (1, 6, 1),\n",
       " (1, 6, 2),\n",
       " (1, 6, 3),\n",
       " (1, 6, 4),\n",
       " (1, 6, 5),\n",
       " (1, 6, 6),\n",
       " (2, 1, 1),\n",
       " (2, 1, 2),\n",
       " (2, 1, 3),\n",
       " (2, 1, 4),\n",
       " (2, 1, 5),\n",
       " (2, 1, 6),\n",
       " (2, 2, 1),\n",
       " (2, 2, 2),\n",
       " (2, 2, 3),\n",
       " (2, 2, 4),\n",
       " (2, 2, 5),\n",
       " (2, 2, 6),\n",
       " (2, 3, 1),\n",
       " (2, 3, 2),\n",
       " (2, 3, 3),\n",
       " (2, 3, 4),\n",
       " (2, 3, 5),\n",
       " (2, 3, 6),\n",
       " (2, 4, 1),\n",
       " (2, 4, 2),\n",
       " (2, 4, 3),\n",
       " (2, 4, 4),\n",
       " (2, 4, 5),\n",
       " (2, 4, 6),\n",
       " (2, 5, 1),\n",
       " (2, 5, 2),\n",
       " (2, 5, 3),\n",
       " (2, 5, 4),\n",
       " (2, 5, 5),\n",
       " (2, 5, 6),\n",
       " (2, 6, 1),\n",
       " (2, 6, 2),\n",
       " (2, 6, 3),\n",
       " (2, 6, 4),\n",
       " (2, 6, 5),\n",
       " (2, 6, 6),\n",
       " (3, 1, 1),\n",
       " (3, 1, 2),\n",
       " (3, 1, 3),\n",
       " (3, 1, 4),\n",
       " (3, 1, 5),\n",
       " (3, 1, 6),\n",
       " (3, 2, 1),\n",
       " (3, 2, 2),\n",
       " (3, 2, 3),\n",
       " (3, 2, 4),\n",
       " (3, 2, 5),\n",
       " (3, 2, 6),\n",
       " (3, 3, 1),\n",
       " (3, 3, 2),\n",
       " (3, 3, 3),\n",
       " (3, 3, 4),\n",
       " (3, 3, 5),\n",
       " (3, 3, 6),\n",
       " (3, 4, 1),\n",
       " (3, 4, 2),\n",
       " (3, 4, 3),\n",
       " (3, 4, 4),\n",
       " (3, 4, 5),\n",
       " (3, 4, 6),\n",
       " (3, 5, 1),\n",
       " (3, 5, 2),\n",
       " (3, 5, 3),\n",
       " (3, 5, 4),\n",
       " (3, 5, 5),\n",
       " (3, 5, 6),\n",
       " (3, 6, 1),\n",
       " (3, 6, 2),\n",
       " (3, 6, 3),\n",
       " (3, 6, 4),\n",
       " (3, 6, 5),\n",
       " (3, 6, 6),\n",
       " (4, 1, 1),\n",
       " (4, 1, 2),\n",
       " (4, 1, 3),\n",
       " (4, 1, 4),\n",
       " (4, 1, 5),\n",
       " (4, 1, 6),\n",
       " (4, 2, 1),\n",
       " (4, 2, 2),\n",
       " (4, 2, 3),\n",
       " (4, 2, 4),\n",
       " (4, 2, 5),\n",
       " (4, 2, 6),\n",
       " (4, 3, 1),\n",
       " (4, 3, 2),\n",
       " (4, 3, 3),\n",
       " (4, 3, 4),\n",
       " (4, 3, 5),\n",
       " (4, 3, 6),\n",
       " (4, 4, 1),\n",
       " (4, 4, 2),\n",
       " (4, 4, 3),\n",
       " (4, 4, 4),\n",
       " (4, 4, 5),\n",
       " (4, 4, 6),\n",
       " (4, 5, 1),\n",
       " (4, 5, 2),\n",
       " (4, 5, 3),\n",
       " (4, 5, 4),\n",
       " (4, 5, 5),\n",
       " (4, 5, 6),\n",
       " (4, 6, 1),\n",
       " (4, 6, 2),\n",
       " (4, 6, 3),\n",
       " (4, 6, 4),\n",
       " (4, 6, 5),\n",
       " (4, 6, 6),\n",
       " (5, 1, 1),\n",
       " (5, 1, 2),\n",
       " (5, 1, 3),\n",
       " (5, 1, 4),\n",
       " (5, 1, 5),\n",
       " (5, 1, 6),\n",
       " (5, 2, 1),\n",
       " (5, 2, 2),\n",
       " (5, 2, 3),\n",
       " (5, 2, 4),\n",
       " (5, 2, 5),\n",
       " (5, 2, 6),\n",
       " (5, 3, 1),\n",
       " (5, 3, 2),\n",
       " (5, 3, 3),\n",
       " (5, 3, 4),\n",
       " (5, 3, 5),\n",
       " (5, 3, 6),\n",
       " (5, 4, 1),\n",
       " (5, 4, 2),\n",
       " (5, 4, 3),\n",
       " (5, 4, 4),\n",
       " (5, 4, 5),\n",
       " (5, 4, 6),\n",
       " (5, 5, 1),\n",
       " (5, 5, 2),\n",
       " (5, 5, 3),\n",
       " (5, 5, 4),\n",
       " (5, 5, 5),\n",
       " (5, 5, 6),\n",
       " (5, 6, 1),\n",
       " (5, 6, 2),\n",
       " (5, 6, 3),\n",
       " (5, 6, 4),\n",
       " (5, 6, 5),\n",
       " (5, 6, 6),\n",
       " (6, 1, 1),\n",
       " (6, 1, 2),\n",
       " (6, 1, 3),\n",
       " (6, 1, 4),\n",
       " (6, 1, 5),\n",
       " (6, 1, 6),\n",
       " (6, 2, 1),\n",
       " (6, 2, 2),\n",
       " (6, 2, 3),\n",
       " (6, 2, 4),\n",
       " (6, 2, 5),\n",
       " (6, 2, 6),\n",
       " (6, 3, 1),\n",
       " (6, 3, 2),\n",
       " (6, 3, 3),\n",
       " (6, 3, 4),\n",
       " (6, 3, 5),\n",
       " (6, 3, 6),\n",
       " (6, 4, 1),\n",
       " (6, 4, 2),\n",
       " (6, 4, 3),\n",
       " (6, 4, 4),\n",
       " (6, 4, 5),\n",
       " (6, 4, 6),\n",
       " (6, 5, 1),\n",
       " (6, 5, 2),\n",
       " (6, 5, 3),\n",
       " (6, 5, 4),\n",
       " (6, 5, 5),\n",
       " (6, 5, 6),\n",
       " (6, 6, 1),\n",
       " (6, 6, 2),\n",
       " (6, 6, 3),\n",
       " (6, 6, 4),\n",
       " (6, 6, 5),\n",
       " (6, 6, 6)]"
      ]
     },
     "execution_count": 34,
     "metadata": {},
     "output_type": "execute_result"
    }
   ],
   "source": [
    "l"
   ]
  },
  {
   "cell_type": "code",
   "execution_count": 44,
   "id": "b12c8a49",
   "metadata": {},
   "outputs": [
    {
     "ename": "TypeError",
     "evalue": "'int' object is not callable",
     "output_type": "error",
     "traceback": [
      "\u001b[1;31m---------------------------------------------------------------------------\u001b[0m",
      "\u001b[1;31mTypeError\u001b[0m                                 Traceback (most recent call last)",
      "\u001b[1;32m~\\AppData\\Local\\Temp\\ipykernel_12256\\2365320960.py\u001b[0m in \u001b[0;36m<module>\u001b[1;34m\u001b[0m\n\u001b[0;32m      2\u001b[0m \u001b[0ml\u001b[0m \u001b[1;33m=\u001b[0m \u001b[0mlist\u001b[0m\u001b[1;33m(\u001b[0m\u001b[0mproduct\u001b[0m\u001b[1;33m(\u001b[0m\u001b[1;33m[\u001b[0m\u001b[1;36m1\u001b[0m\u001b[1;33m,\u001b[0m\u001b[1;36m2\u001b[0m\u001b[1;33m,\u001b[0m\u001b[1;36m3\u001b[0m\u001b[1;33m,\u001b[0m\u001b[1;36m4\u001b[0m\u001b[1;33m,\u001b[0m\u001b[1;36m5\u001b[0m\u001b[1;33m,\u001b[0m\u001b[1;36m6\u001b[0m\u001b[1;33m]\u001b[0m\u001b[1;33m,\u001b[0m \u001b[0mrepeat\u001b[0m \u001b[1;33m=\u001b[0m \u001b[1;36m3\u001b[0m\u001b[1;33m)\u001b[0m\u001b[1;33m)\u001b[0m\u001b[1;33m\u001b[0m\u001b[1;33m\u001b[0m\u001b[0m\n\u001b[0;32m      3\u001b[0m \u001b[1;32mfor\u001b[0m \u001b[0mi\u001b[0m \u001b[1;32min\u001b[0m \u001b[0ml\u001b[0m\u001b[1;33m:\u001b[0m\u001b[1;33m\u001b[0m\u001b[1;33m\u001b[0m\u001b[0m\n\u001b[1;32m----> 4\u001b[1;33m     \u001b[1;32mif\u001b[0m \u001b[0msum\u001b[0m\u001b[1;33m(\u001b[0m\u001b[0mi\u001b[0m\u001b[1;33m)\u001b[0m \u001b[1;33m>=\u001b[0m \u001b[1;36m9\u001b[0m\u001b[1;33m:\u001b[0m\u001b[1;33m\u001b[0m\u001b[1;33m\u001b[0m\u001b[0m\n\u001b[0m\u001b[0;32m      5\u001b[0m         \u001b[0ml1\u001b[0m\u001b[1;33m.\u001b[0m\u001b[0mappend\u001b[0m\u001b[1;33m(\u001b[0m\u001b[0mi\u001b[0m\u001b[1;33m)\u001b[0m\u001b[1;33m\u001b[0m\u001b[1;33m\u001b[0m\u001b[0m\n\u001b[0;32m      6\u001b[0m \u001b[1;33m\u001b[0m\u001b[0m\n",
      "\u001b[1;31mTypeError\u001b[0m: 'int' object is not callable"
     ]
    }
   ],
   "source": [
    "l1 = []\n",
    "l = list(product([1,2,3,4,5,6], repeat = 3))\n",
    "for i in l:\n",
    "    if sum(i) >= 9:\n",
    "        l1.append(i)\n",
    "        \n",
    "len(l1)"
   ]
  },
  {
   "cell_type": "code",
   "execution_count": 38,
   "id": "6709459a",
   "metadata": {},
   "outputs": [
    {
     "name": "stdout",
     "output_type": "stream",
     "text": [
      "6\n"
     ]
    }
   ],
   "source": [
    "t = (1,2,3)\n",
    "sum = 0\n",
    "for i in t:\n",
    "    sum = sum +i\n",
    "print(sum)"
   ]
  },
  {
   "cell_type": "code",
   "execution_count": null,
   "id": "b93e6d59",
   "metadata": {},
   "outputs": [],
   "source": []
  },
  {
   "cell_type": "code",
   "execution_count": 45,
   "id": "91bf8d13",
   "metadata": {},
   "outputs": [],
   "source": [
    "from itertools import combinations_with_replacement"
   ]
  },
  {
   "cell_type": "code",
   "execution_count": 47,
   "id": "0eee8942",
   "metadata": {},
   "outputs": [
    {
     "data": {
      "text/plain": [
       "[('Pune', 'Pune'),\n",
       " ('Pune', 'Mubai'),\n",
       " ('Pune', 'banglore'),\n",
       " ('Mubai', 'Mubai'),\n",
       " ('Mubai', 'banglore'),\n",
       " ('banglore', 'banglore')]"
      ]
     },
     "execution_count": 47,
     "metadata": {},
     "output_type": "execute_result"
    }
   ],
   "source": [
    "list(combinations_with_replacement(['Pune','Mubai','banglore'],2))"
   ]
  },
  {
   "cell_type": "code",
   "execution_count": null,
   "id": "e74ecc65",
   "metadata": {},
   "outputs": [],
   "source": []
  },
  {
   "cell_type": "code",
   "execution_count": 48,
   "id": "3a0f32b0",
   "metadata": {},
   "outputs": [],
   "source": [
    "Score = np.array([[210, 402, 383],\n",
    " [140, 375, 106],\n",
    "[140, 125, 217],\n",
    "[292, 240, 295]])"
   ]
  },
  {
   "cell_type": "code",
   "execution_count": 49,
   "id": "bca0c843",
   "metadata": {},
   "outputs": [
    {
     "data": {
      "text/plain": [
       "array([[210, 402, 383],\n",
       "       [140, 375, 106],\n",
       "       [140, 125, 217],\n",
       "       [292, 240, 295]])"
      ]
     },
     "execution_count": 49,
     "metadata": {},
     "output_type": "execute_result"
    }
   ],
   "source": [
    "Score"
   ]
  },
  {
   "cell_type": "code",
   "execution_count": 51,
   "id": "72e7a4b6",
   "metadata": {},
   "outputs": [
    {
     "data": {
      "text/plain": [
       "402"
      ]
     },
     "execution_count": 51,
     "metadata": {},
     "output_type": "execute_result"
    }
   ],
   "source": [
    "Score[0].max()"
   ]
  },
  {
   "cell_type": "code",
   "execution_count": 53,
   "id": "e20df5a3",
   "metadata": {},
   "outputs": [
    {
     "name": "stdout",
     "output_type": "stream",
     "text": [
      "402\n",
      "375\n",
      "217\n",
      "295\n"
     ]
    }
   ],
   "source": [
    "for i in Score:\n",
    "    print(max(i))"
   ]
  },
  {
   "cell_type": "code",
   "execution_count": 54,
   "id": "a8d8f8f3",
   "metadata": {},
   "outputs": [
    {
     "data": {
      "text/plain": [
       "array([402, 375, 217, 295])"
      ]
     },
     "execution_count": 54,
     "metadata": {},
     "output_type": "execute_result"
    }
   ],
   "source": [
    "np.max(Score,axis =1)"
   ]
  },
  {
   "cell_type": "code",
   "execution_count": 55,
   "id": "373ebd79",
   "metadata": {},
   "outputs": [
    {
     "data": {
      "text/plain": [
       "array([292, 402, 383])"
      ]
     },
     "execution_count": 55,
     "metadata": {},
     "output_type": "execute_result"
    }
   ],
   "source": [
    "np.max(Score,axis =0)"
   ]
  },
  {
   "cell_type": "code",
   "execution_count": null,
   "id": "d6ec7015",
   "metadata": {},
   "outputs": [],
   "source": []
  },
  {
   "cell_type": "code",
   "execution_count": 56,
   "id": "fd5e340c",
   "metadata": {},
   "outputs": [],
   "source": [
    "dates = ['23-10-1993', '12-08-2000','09-12-2021','18-09-2021']\n",
    "\n",
    "#day,month,year\n",
    "\n",
    "# want to extract year from ,from each date"
   ]
  },
  {
   "cell_type": "code",
   "execution_count": 60,
   "id": "3f6c01dc",
   "metadata": {},
   "outputs": [
    {
     "name": "stdout",
     "output_type": "stream",
     "text": [
      "1993\n",
      "2000\n",
      "2021\n",
      "2021\n"
     ]
    }
   ],
   "source": [
    "for i in dates:\n",
    "    print(i.split('-')[2])"
   ]
  },
  {
   "cell_type": "code",
   "execution_count": 70,
   "id": "15eb58d0",
   "metadata": {},
   "outputs": [
    {
     "name": "stdout",
     "output_type": "stream",
     "text": [
      "* \n",
      "* * \n",
      "* * * \n",
      "* * * * \n",
      "* * * * * \n"
     ]
    }
   ],
   "source": [
    "n = 5\n",
    "for i in range(0,n):\n",
    "    for j in range(i+1):\n",
    "        print(\"*\", end = \" \")\n",
    "    print()"
   ]
  },
  {
   "cell_type": "code",
   "execution_count": 71,
   "id": "79e619d5",
   "metadata": {},
   "outputs": [],
   "source": [
    "# sets -->> union, intersection, differrence"
   ]
  },
  {
   "cell_type": "markdown",
   "id": "7923ab6d",
   "metadata": {},
   "source": [
    "### Sets --> is used to represent the unique data in single dim which is ordered and indexing can not be performed on it"
   ]
  },
  {
   "cell_type": "code",
   "execution_count": null,
   "id": "988b2fcd",
   "metadata": {},
   "outputs": [],
   "source": [
    "# if we want to remove duplicate pass it into set"
   ]
  },
  {
   "cell_type": "code",
   "execution_count": 72,
   "id": "5885aa8e",
   "metadata": {},
   "outputs": [],
   "source": [
    "#tuple(), list [], dict {}, "
   ]
  },
  {
   "cell_type": "code",
   "execution_count": 75,
   "id": "4c99e8f9",
   "metadata": {},
   "outputs": [],
   "source": [
    "s = set([10,23,20,23,23,4,4,45,56,65,])"
   ]
  },
  {
   "cell_type": "code",
   "execution_count": 76,
   "id": "b9e318ca",
   "metadata": {},
   "outputs": [
    {
     "data": {
      "text/plain": [
       "{4, 10, 20, 23, 45, 56, 65}"
      ]
     },
     "execution_count": 76,
     "metadata": {},
     "output_type": "execute_result"
    }
   ],
   "source": [
    "s"
   ]
  },
  {
   "cell_type": "code",
   "execution_count": 79,
   "id": "22d2236d",
   "metadata": {},
   "outputs": [],
   "source": [
    "prod1 = set(['tv','fridge','ac','bottle','pen','car','mobile','bike'])\n",
    "prod2 = set(['pen','computer','mobile','fridge','laptop','can','chrger','cup','scoter'])"
   ]
  },
  {
   "cell_type": "code",
   "execution_count": 80,
   "id": "0d019c19",
   "metadata": {},
   "outputs": [
    {
     "data": {
      "text/plain": [
       "{'ac',\n",
       " 'bike',\n",
       " 'bottle',\n",
       " 'can',\n",
       " 'car',\n",
       " 'chrger',\n",
       " 'computer',\n",
       " 'cup',\n",
       " 'fridge',\n",
       " 'laptop',\n",
       " 'mobile',\n",
       " 'pen',\n",
       " 'scoter',\n",
       " 'tv'}"
      ]
     },
     "execution_count": 80,
     "metadata": {},
     "output_type": "execute_result"
    }
   ],
   "source": [
    "prod1.union(prod2)"
   ]
  },
  {
   "cell_type": "code",
   "execution_count": 81,
   "id": "ec3c5a1e",
   "metadata": {},
   "outputs": [
    {
     "data": {
      "text/plain": [
       "{'fridge', 'mobile', 'pen'}"
      ]
     },
     "execution_count": 81,
     "metadata": {},
     "output_type": "execute_result"
    }
   ],
   "source": [
    "prod1.intersection(prod2)"
   ]
  },
  {
   "cell_type": "markdown",
   "id": "121922d1",
   "metadata": {},
   "source": [
    "## find those products which are present in prod1 but not in prod2"
   ]
  },
  {
   "cell_type": "code",
   "execution_count": 82,
   "id": "8b336688",
   "metadata": {},
   "outputs": [
    {
     "data": {
      "text/plain": [
       "{'ac', 'bike', 'bottle', 'car', 'tv'}"
      ]
     },
     "execution_count": 82,
     "metadata": {},
     "output_type": "execute_result"
    }
   ],
   "source": [
    "prod1.difference(prod2)"
   ]
  },
  {
   "cell_type": "code",
   "execution_count": 86,
   "id": "10a398b1",
   "metadata": {},
   "outputs": [
    {
     "data": {
      "text/plain": [
       "{'ac', 'bike', 'bottle', 'car', 'tv'}"
      ]
     },
     "execution_count": 86,
     "metadata": {},
     "output_type": "execute_result"
    }
   ],
   "source": [
    "prod1 - prod2"
   ]
  },
  {
   "cell_type": "markdown",
   "id": "2c127467",
   "metadata": {},
   "source": [
    "## find those products which are present in prod2 but not in prod1"
   ]
  },
  {
   "cell_type": "code",
   "execution_count": 83,
   "id": "c88ea4ec",
   "metadata": {},
   "outputs": [
    {
     "data": {
      "text/plain": [
       "{'can', 'chrger', 'computer', 'cup', 'laptop', 'scoter'}"
      ]
     },
     "execution_count": 83,
     "metadata": {},
     "output_type": "execute_result"
    }
   ],
   "source": [
    "prod2.difference(prod1)"
   ]
  },
  {
   "cell_type": "code",
   "execution_count": 85,
   "id": "87d8b94f",
   "metadata": {},
   "outputs": [
    {
     "data": {
      "text/plain": [
       "{'can', 'chrger', 'computer', 'cup', 'laptop', 'scoter'}"
      ]
     },
     "execution_count": 85,
     "metadata": {},
     "output_type": "execute_result"
    }
   ],
   "source": [
    "prod2 - prod1"
   ]
  },
  {
   "cell_type": "code",
   "execution_count": 87,
   "id": "d83f1df6",
   "metadata": {},
   "outputs": [
    {
     "data": {
      "text/plain": [
       "{'ac',\n",
       " 'bike',\n",
       " 'bottle',\n",
       " 'can',\n",
       " 'car',\n",
       " 'chrger',\n",
       " 'computer',\n",
       " 'cup',\n",
       " 'laptop',\n",
       " 'scoter',\n",
       " 'tv'}"
      ]
     },
     "execution_count": 87,
     "metadata": {},
     "output_type": "execute_result"
    }
   ],
   "source": [
    "prod1.symmetric_difference(prod2)  # removing intersection part"
   ]
  },
  {
   "cell_type": "code",
   "execution_count": 90,
   "id": "05ef2e1a",
   "metadata": {},
   "outputs": [],
   "source": [
    "exm_list = [4,10,20 ,11 , 10, 9,3,6,9, 12, 11 ,11, 23]"
   ]
  },
  {
   "cell_type": "code",
   "execution_count": 99,
   "id": "482c0a94",
   "metadata": {},
   "outputs": [
    {
     "name": "stdout",
     "output_type": "stream",
     "text": [
      "10\n",
      "11\n",
      "10\n",
      "9\n",
      "9\n",
      "11\n",
      "11\n"
     ]
    }
   ],
   "source": [
    "for i in exm_list:\n",
    "    if exm_list.count(i)>1:\n",
    "        print(i)"
   ]
  },
  {
   "cell_type": "code",
   "execution_count": null,
   "id": "057928d4",
   "metadata": {},
   "outputs": [],
   "source": []
  }
 ],
 "metadata": {
  "kernelspec": {
   "display_name": "Python 3 (ipykernel)",
   "language": "python",
   "name": "python3"
  },
  "language_info": {
   "codemirror_mode": {
    "name": "ipython",
    "version": 3
   },
   "file_extension": ".py",
   "mimetype": "text/x-python",
   "name": "python",
   "nbconvert_exporter": "python",
   "pygments_lexer": "ipython3",
   "version": "3.9.13"
  }
 },
 "nbformat": 4,
 "nbformat_minor": 5
}
