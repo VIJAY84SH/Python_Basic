{
 "cells": [
  {
   "cell_type": "markdown",
   "id": "e02fd353",
   "metadata": {},
   "source": [
    "# Q.1. Why are functions advantageous to have in your programs?"
   ]
  },
  {
   "cell_type": "markdown",
   "id": "ed088bad",
   "metadata": {},
   "source": [
    "Answer:\n",
    "    \n",
    "    Advantages: 1. The main advantage is it reduce the need for repetition of code\n",
    "                2. It make easy to update.\n",
    "                3. Easy to read. \n",
    "                4. Reduce chances of error.\n",
    "                5. It reduce the coding and debugging time\n",
    "                "
   ]
  },
  {
   "cell_type": "markdown",
   "id": "27b9cf52",
   "metadata": {},
   "source": [
    "# Q.2. When does the code in a function run: when its specified or when its called?"
   ]
  },
  {
   "cell_type": "markdown",
   "id": "05b7a3c5",
   "metadata": {},
   "source": [
    "Answer:\n",
    "    \n",
    "        function is self contained modules of code that achive a specific task.\n",
    "        \n",
    "        function usually executes when the function is called and it start to execute from first line inside the function\n",
    "    "
   ]
  },
  {
   "cell_type": "markdown",
   "id": "264c60ab",
   "metadata": {},
   "source": [
    "# Q.3. What statement creates a function?"
   ]
  },
  {
   "cell_type": "markdown",
   "id": "778939df",
   "metadata": {},
   "source": [
    "Answer:\n",
    "    \n",
    "    function block start with the keyword \n",
    "    \n",
    "    which is followed by function name and parentheses() and any input or arguments should be in the parantheses\n",
    "    \n",
    "      def is a keyword and a is argument\n",
    "      \n",
    "           "
   ]
  },
  {
   "cell_type": "code",
   "execution_count": 5,
   "id": "a2228549",
   "metadata": {},
   "outputs": [],
   "source": [
    "def function_name(a):\n",
    "    pass"
   ]
  },
  {
   "cell_type": "markdown",
   "id": "f5d411f9",
   "metadata": {},
   "source": [
    "# Q.4. What is the difference between a function and a function call?"
   ]
  },
  {
   "cell_type": "markdown",
   "id": "071e16be",
   "metadata": {},
   "source": [
    "Answer:\n",
    "    \n",
    "    function:\n",
    "        \n",
    "            A function is a block of code that does a particular operation and return a result.\n",
    "        \n",
    "            It usually accepts inputs as parameters and return a result\n",
    "\n",
    "    function call:\n",
    "            \n",
    "            A function call is the code used to pass control to a function\n",
    "        \n",
    "       "
   ]
  },
  {
   "cell_type": "markdown",
   "id": "884f20aa",
   "metadata": {},
   "source": [
    "# Q.5. How many global scopes are there in a Python program? How many local scopes?"
   ]
  },
  {
   "cell_type": "markdown",
   "id": "7be8c979",
   "metadata": {},
   "source": [
    "Answer:\n",
    "    \n",
    "       There are one global scopes and one local scope in the python program"
   ]
  },
  {
   "cell_type": "markdown",
   "id": "47014cd1",
   "metadata": {},
   "source": [
    "# Q.6. What happens to variables in a local scope when the function call returns?"
   ]
  },
  {
   "cell_type": "markdown",
   "id": "b82edcf8",
   "metadata": {},
   "source": [
    "Answer:\n",
    "    \n",
    "       The local variable will destroyed when function call and we will not be able to access the outside the function\n",
    "       \n",
    "       \n",
    "    \n",
    "        "
   ]
  },
  {
   "cell_type": "code",
   "execution_count": 12,
   "id": "851f2347",
   "metadata": {},
   "outputs": [],
   "source": [
    "c = 10\n",
    "def test(a):\n",
    "    b = 1\n",
    "    return a"
   ]
  },
  {
   "cell_type": "code",
   "execution_count": 13,
   "id": "c76a32af",
   "metadata": {},
   "outputs": [
    {
     "ename": "NameError",
     "evalue": "name 'b' is not defined",
     "output_type": "error",
     "traceback": [
      "\u001b[1;31m---------------------------------------------------------------------------\u001b[0m",
      "\u001b[1;31mNameError\u001b[0m                                 Traceback (most recent call last)",
      "\u001b[1;32m~\\AppData\\Local\\Temp/ipykernel_7716/3008529284.py\u001b[0m in \u001b[0;36m<module>\u001b[1;34m\u001b[0m\n\u001b[1;32m----> 1\u001b[1;33m \u001b[0mb\u001b[0m\u001b[1;33m\u001b[0m\u001b[1;33m\u001b[0m\u001b[0m\n\u001b[0m",
      "\u001b[1;31mNameError\u001b[0m: name 'b' is not defined"
     ]
    }
   ],
   "source": [
    "b\n"
   ]
  },
  {
   "cell_type": "code",
   "execution_count": 14,
   "id": "2c3d4cc7",
   "metadata": {},
   "outputs": [
    {
     "data": {
      "text/plain": [
       "10"
      ]
     },
     "execution_count": 14,
     "metadata": {},
     "output_type": "execute_result"
    }
   ],
   "source": [
    "c"
   ]
  },
  {
   "cell_type": "markdown",
   "id": "9a0bad10",
   "metadata": {},
   "source": [
    "# Q.7. What is the concept of a return value? Is it possible to have a return value in an expression?"
   ]
  },
  {
   "cell_type": "markdown",
   "id": "532b74dd",
   "metadata": {},
   "source": [
    "Answer:\n",
    "    \n",
    "      A return value is the value, variable or expression which a function is returning\n",
    "    \n",
    "      function return value can be an expression"
   ]
  },
  {
   "cell_type": "code",
   "execution_count": 15,
   "id": "8a350f15",
   "metadata": {},
   "outputs": [],
   "source": [
    "def test1(a,b):\n",
    "    return a+b"
   ]
  },
  {
   "cell_type": "code",
   "execution_count": 16,
   "id": "2148729e",
   "metadata": {},
   "outputs": [
    {
     "data": {
      "text/plain": [
       "5"
      ]
     },
     "execution_count": 16,
     "metadata": {},
     "output_type": "execute_result"
    }
   ],
   "source": [
    "test1(2,3)"
   ]
  },
  {
   "cell_type": "markdown",
   "id": "2c712d23",
   "metadata": {},
   "source": [
    "# Q.8. If a function does not have a return statement, what is the return value of a call to that function?"
   ]
  },
  {
   "cell_type": "markdown",
   "id": "67ffd0b3",
   "metadata": {},
   "source": [
    "Answer:\n",
    "    \n",
    "     If there is no return does not statement for a function, its return value will None."
   ]
  },
  {
   "cell_type": "code",
   "execution_count": 17,
   "id": "480f47d8",
   "metadata": {},
   "outputs": [],
   "source": [
    "def test3(a):\n",
    "    a=a+2"
   ]
  },
  {
   "cell_type": "code",
   "execution_count": 20,
   "id": "dd489b87",
   "metadata": {},
   "outputs": [
    {
     "data": {
      "text/plain": [
       "NoneType"
      ]
     },
     "execution_count": 20,
     "metadata": {},
     "output_type": "execute_result"
    }
   ],
   "source": [
    "type(test3(1))"
   ]
  },
  {
   "cell_type": "markdown",
   "id": "cf70e715",
   "metadata": {},
   "source": [
    "# Q.9. How do you make a function variable refer to the global variable?"
   ]
  },
  {
   "cell_type": "markdown",
   "id": "0b44e179",
   "metadata": {},
   "source": [
    "Answer:\n",
    "    \n",
    "     By using global keyword in the body of a function\n",
    "        \n",
    "        "
   ]
  },
  {
   "cell_type": "code",
   "execution_count": 24,
   "id": "f17dd870",
   "metadata": {},
   "outputs": [
    {
     "name": "stdout",
     "output_type": "stream",
     "text": [
      "2\n",
      "3\n"
     ]
    }
   ],
   "source": [
    "var = 2\n",
    "def test4():\n",
    "    global var\n",
    "    var =3\n",
    "    \n",
    "print(var)\n",
    "test4()\n",
    "print(var)"
   ]
  },
  {
   "cell_type": "markdown",
   "id": "297f41f5",
   "metadata": {},
   "source": [
    "# Q.10. What is the data type of None?"
   ]
  },
  {
   "cell_type": "markdown",
   "id": "30e5bec5",
   "metadata": {},
   "source": [
    "None data type is a null variable. The null object is a data type of class NoneType"
   ]
  },
  {
   "cell_type": "markdown",
   "id": "0df8ffc8",
   "metadata": {},
   "source": [
    "# Q.11. What does the sentence import areallyourpetsnamederic do?"
   ]
  },
  {
   "cell_type": "code",
   "execution_count": 1,
   "id": "d068fbea",
   "metadata": {},
   "outputs": [
    {
     "ename": "ModuleNotFoundError",
     "evalue": "No module named 'areallyourpetsnamederic'",
     "output_type": "error",
     "traceback": [
      "\u001b[1;31m---------------------------------------------------------------------------\u001b[0m",
      "\u001b[1;31mModuleNotFoundError\u001b[0m                       Traceback (most recent call last)",
      "\u001b[1;32m~\\AppData\\Local\\Temp/ipykernel_5584/51184242.py\u001b[0m in \u001b[0;36m<module>\u001b[1;34m\u001b[0m\n\u001b[1;32m----> 1\u001b[1;33m \u001b[1;32mimport\u001b[0m \u001b[0mareallyourpetsnamederic\u001b[0m\u001b[1;33m\u001b[0m\u001b[1;33m\u001b[0m\u001b[0m\n\u001b[0m",
      "\u001b[1;31mModuleNotFoundError\u001b[0m: No module named 'areallyourpetsnamederic'"
     ]
    }
   ],
   "source": [
    "import areallyourpetsnamederic"
   ]
  },
  {
   "cell_type": "markdown",
   "id": "2c8baecc",
   "metadata": {},
   "source": [
    "Answer:\n",
    "    \n",
    "    If we import areallyourpetsnamederic, it shows the ModuleNotFoundError\n",
    "\n",
    "    because this type of module not available"
   ]
  },
  {
   "cell_type": "markdown",
   "id": "a2babee4",
   "metadata": {},
   "source": [
    "# Q.12. If you had a bacon() feature in a spam module, what would you call it after importing spam?"
   ]
  },
  {
   "cell_type": "markdown",
   "id": "9c8488ad",
   "metadata": {},
   "source": [
    "Answer:\n",
    "    \n",
    "       if we already import spam then bacon() will call like this:\n",
    "            \n",
    "            spam.bacon()"
   ]
  },
  {
   "cell_type": "code",
   "execution_count": 3,
   "id": "54f134db",
   "metadata": {},
   "outputs": [],
   "source": [
    "#import spam\n",
    "# spam.bacon()"
   ]
  },
  {
   "cell_type": "markdown",
   "id": "97dae823",
   "metadata": {},
   "source": [
    "# Q.13. What can you do to save a programme from crashing if it encounters an error?\n"
   ]
  },
  {
   "cell_type": "markdown",
   "id": "81f3fe7a",
   "metadata": {},
   "source": [
    "Answer:\n",
    "    \n",
    "      To avoid crashing the code we use try and except clause. it handle the run time error."
   ]
  },
  {
   "cell_type": "markdown",
   "id": "1b33561a",
   "metadata": {},
   "source": [
    "# Q.14. What is the purpose of the try clause? What is the purpose of the except clause?"
   ]
  },
  {
   "cell_type": "markdown",
   "id": "07d5ab94",
   "metadata": {},
   "source": [
    "Answer:\n",
    "        Try and Except both clause are used for exception handling\n",
    "        \n",
    "        where they handle run time error.\n",
    "        \n",
    "try : Try clause will execute the code, if there is no error then only run try clause.\n",
    "        \n",
    "except: if any exception occure, try clause will skip and except clause will run."
   ]
  },
  {
   "cell_type": "code",
   "execution_count": null,
   "id": "a48e23c3",
   "metadata": {},
   "outputs": [],
   "source": []
  }
 ],
 "metadata": {
  "kernelspec": {
   "display_name": "Python 3 (ipykernel)",
   "language": "python",
   "name": "python3"
  },
  "language_info": {
   "codemirror_mode": {
    "name": "ipython",
    "version": 3
   },
   "file_extension": ".py",
   "mimetype": "text/x-python",
   "name": "python",
   "nbconvert_exporter": "python",
   "pygments_lexer": "ipython3",
   "version": "3.9.7"
  }
 },
 "nbformat": 4,
 "nbformat_minor": 5
}
